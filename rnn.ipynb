{
 "cells": [
  {
   "cell_type": "code",
   "execution_count": 1,
   "id": "2aa28144",
   "metadata": {
    "execution": {
     "iopub.execute_input": "2024-11-09T01:35:04.167224Z",
     "iopub.status.busy": "2024-11-09T01:35:04.166911Z",
     "iopub.status.idle": "2024-11-09T01:35:21.407869Z",
     "shell.execute_reply": "2024-11-09T01:35:21.406861Z"
    },
    "id": "oZrgKarjiL4N",
    "outputId": "8ecab4e6-40ce-4c4b-e784-b81ef9dd7127",
    "papermill": {
     "duration": 17.260153,
     "end_time": "2024-11-09T01:35:21.410324",
     "exception": false,
     "start_time": "2024-11-09T01:35:04.150171",
     "status": "completed"
    },
    "tags": []
   },
   "outputs": [
    {
     "name": "stdout",
     "output_type": "stream",
     "text": [
      "Requirement already satisfied: datasets in /opt/conda/lib/python3.10/site-packages (3.0.1)\r\n",
      "Requirement already satisfied: keras-tuner in /opt/conda/lib/python3.10/site-packages (1.4.7)\r\n",
      "Collecting contractions\r\n",
      "  Downloading contractions-0.1.73-py2.py3-none-any.whl.metadata (1.2 kB)\r\n",
      "Collecting pyspellchecker\r\n",
      "  Downloading pyspellchecker-0.8.1-py3-none-any.whl.metadata (9.4 kB)\r\n",
      "Collecting langdetect\r\n",
      "  Downloading langdetect-1.0.9.tar.gz (981 kB)\r\n",
      "\u001b[2K     \u001b[90m━━━━━━━━━━━━━━━━━━━━━━━━━━━━━━━━━━━━━━\u001b[0m \u001b[32m981.5/981.5 kB\u001b[0m \u001b[31m11.0 MB/s\u001b[0m eta \u001b[36m0:00:00\u001b[0m\r\n",
      "\u001b[?25h  Preparing metadata (setup.py) ... \u001b[?25l-\b \bdone\r\n",
      "\u001b[?25hCollecting deep-translator\r\n",
      "  Downloading deep_translator-1.11.4-py3-none-any.whl.metadata (30 kB)\r\n",
      "Requirement already satisfied: filelock in /opt/conda/lib/python3.10/site-packages (from datasets) (3.15.1)\r\n",
      "Requirement already satisfied: numpy>=1.17 in /opt/conda/lib/python3.10/site-packages (from datasets) (1.26.4)\r\n",
      "Requirement already satisfied: pyarrow>=15.0.0 in /opt/conda/lib/python3.10/site-packages (from datasets) (16.1.0)\r\n",
      "Requirement already satisfied: dill<0.3.9,>=0.3.0 in /opt/conda/lib/python3.10/site-packages (from datasets) (0.3.8)\r\n",
      "Requirement already satisfied: pandas in /opt/conda/lib/python3.10/site-packages (from datasets) (2.2.2)\r\n",
      "Requirement already satisfied: requests>=2.32.2 in /opt/conda/lib/python3.10/site-packages (from datasets) (2.32.3)\r\n",
      "Requirement already satisfied: tqdm>=4.66.3 in /opt/conda/lib/python3.10/site-packages (from datasets) (4.66.4)\r\n",
      "Requirement already satisfied: xxhash in /opt/conda/lib/python3.10/site-packages (from datasets) (3.4.1)\r\n",
      "Requirement already satisfied: multiprocess in /opt/conda/lib/python3.10/site-packages (from datasets) (0.70.16)\r\n",
      "Requirement already satisfied: fsspec<=2024.6.1,>=2023.1.0 in /opt/conda/lib/python3.10/site-packages (from fsspec[http]<=2024.6.1,>=2023.1.0->datasets) (2024.6.1)\r\n",
      "Requirement already satisfied: aiohttp in /opt/conda/lib/python3.10/site-packages (from datasets) (3.9.5)\r\n",
      "Requirement already satisfied: huggingface-hub>=0.22.0 in /opt/conda/lib/python3.10/site-packages (from datasets) (0.25.1)\r\n",
      "Requirement already satisfied: packaging in /opt/conda/lib/python3.10/site-packages (from datasets) (21.3)\r\n",
      "Requirement already satisfied: pyyaml>=5.1 in /opt/conda/lib/python3.10/site-packages (from datasets) (6.0.2)\r\n",
      "Requirement already satisfied: keras in /opt/conda/lib/python3.10/site-packages (from keras-tuner) (3.3.3)\r\n",
      "Requirement already satisfied: kt-legacy in /opt/conda/lib/python3.10/site-packages (from keras-tuner) (1.0.5)\r\n",
      "Collecting textsearch>=0.0.21 (from contractions)\r\n",
      "  Downloading textsearch-0.0.24-py2.py3-none-any.whl.metadata (1.2 kB)\r\n",
      "Requirement already satisfied: six in /opt/conda/lib/python3.10/site-packages (from langdetect) (1.16.0)\r\n",
      "Requirement already satisfied: beautifulsoup4<5.0.0,>=4.9.1 in /opt/conda/lib/python3.10/site-packages (from deep-translator) (4.12.3)\r\n",
      "Requirement already satisfied: soupsieve>1.2 in /opt/conda/lib/python3.10/site-packages (from beautifulsoup4<5.0.0,>=4.9.1->deep-translator) (2.5)\r\n",
      "Requirement already satisfied: aiosignal>=1.1.2 in /opt/conda/lib/python3.10/site-packages (from aiohttp->datasets) (1.3.1)\r\n",
      "Requirement already satisfied: attrs>=17.3.0 in /opt/conda/lib/python3.10/site-packages (from aiohttp->datasets) (23.2.0)\r\n",
      "Requirement already satisfied: frozenlist>=1.1.1 in /opt/conda/lib/python3.10/site-packages (from aiohttp->datasets) (1.4.1)\r\n",
      "Requirement already satisfied: multidict<7.0,>=4.5 in /opt/conda/lib/python3.10/site-packages (from aiohttp->datasets) (6.0.5)\r\n",
      "Requirement already satisfied: yarl<2.0,>=1.0 in /opt/conda/lib/python3.10/site-packages (from aiohttp->datasets) (1.9.4)\r\n",
      "Requirement already satisfied: async-timeout<5.0,>=4.0 in /opt/conda/lib/python3.10/site-packages (from aiohttp->datasets) (4.0.3)\r\n",
      "Requirement already satisfied: typing-extensions>=3.7.4.3 in /opt/conda/lib/python3.10/site-packages (from huggingface-hub>=0.22.0->datasets) (4.12.2)\r\n",
      "Requirement already satisfied: pyparsing!=3.0.5,>=2.0.2 in /opt/conda/lib/python3.10/site-packages (from packaging->datasets) (3.1.2)\r\n",
      "Requirement already satisfied: charset-normalizer<4,>=2 in /opt/conda/lib/python3.10/site-packages (from requests>=2.32.2->datasets) (3.3.2)\r\n",
      "Requirement already satisfied: idna<4,>=2.5 in /opt/conda/lib/python3.10/site-packages (from requests>=2.32.2->datasets) (3.7)\r\n",
      "Requirement already satisfied: urllib3<3,>=1.21.1 in /opt/conda/lib/python3.10/site-packages (from requests>=2.32.2->datasets) (1.26.18)\r\n",
      "Requirement already satisfied: certifi>=2017.4.17 in /opt/conda/lib/python3.10/site-packages (from requests>=2.32.2->datasets) (2024.8.30)\r\n",
      "Collecting anyascii (from textsearch>=0.0.21->contractions)\r\n",
      "  Downloading anyascii-0.3.2-py3-none-any.whl.metadata (1.5 kB)\r\n",
      "Collecting pyahocorasick (from textsearch>=0.0.21->contractions)\r\n",
      "  Downloading pyahocorasick-2.1.0-cp310-cp310-manylinux_2_5_x86_64.manylinux1_x86_64.manylinux_2_12_x86_64.manylinux2010_x86_64.whl.metadata (13 kB)\r\n",
      "Requirement already satisfied: absl-py in /opt/conda/lib/python3.10/site-packages (from keras->keras-tuner) (1.4.0)\r\n",
      "Requirement already satisfied: rich in /opt/conda/lib/python3.10/site-packages (from keras->keras-tuner) (13.7.1)\r\n",
      "Requirement already satisfied: namex in /opt/conda/lib/python3.10/site-packages (from keras->keras-tuner) (0.0.8)\r\n",
      "Requirement already satisfied: h5py in /opt/conda/lib/python3.10/site-packages (from keras->keras-tuner) (3.11.0)\r\n",
      "Requirement already satisfied: optree in /opt/conda/lib/python3.10/site-packages (from keras->keras-tuner) (0.11.0)\r\n",
      "Requirement already satisfied: ml-dtypes in /opt/conda/lib/python3.10/site-packages (from keras->keras-tuner) (0.3.2)\r\n",
      "Requirement already satisfied: python-dateutil>=2.8.2 in /opt/conda/lib/python3.10/site-packages (from pandas->datasets) (2.9.0.post0)\r\n",
      "Requirement already satisfied: pytz>=2020.1 in /opt/conda/lib/python3.10/site-packages (from pandas->datasets) (2024.1)\r\n",
      "Requirement already satisfied: tzdata>=2022.7 in /opt/conda/lib/python3.10/site-packages (from pandas->datasets) (2024.1)\r\n",
      "Requirement already satisfied: markdown-it-py>=2.2.0 in /opt/conda/lib/python3.10/site-packages (from rich->keras->keras-tuner) (3.0.0)\r\n",
      "Requirement already satisfied: pygments<3.0.0,>=2.13.0 in /opt/conda/lib/python3.10/site-packages (from rich->keras->keras-tuner) (2.18.0)\r\n",
      "Requirement already satisfied: mdurl~=0.1 in /opt/conda/lib/python3.10/site-packages (from markdown-it-py>=2.2.0->rich->keras->keras-tuner) (0.1.2)\r\n",
      "Downloading contractions-0.1.73-py2.py3-none-any.whl (8.7 kB)\r\n",
      "Downloading pyspellchecker-0.8.1-py3-none-any.whl (6.8 MB)\r\n",
      "\u001b[2K   \u001b[90m━━━━━━━━━━━━━━━━━━━━━━━━━━━━━━━━━━━━━━━━\u001b[0m \u001b[32m6.8/6.8 MB\u001b[0m \u001b[31m20.4 MB/s\u001b[0m eta \u001b[36m0:00:00\u001b[0m\r\n",
      "\u001b[?25hDownloading deep_translator-1.11.4-py3-none-any.whl (42 kB)\r\n",
      "\u001b[2K   \u001b[90m━━━━━━━━━━━━━━━━━━━━━━━━━━━━━━━━━━━━━━━━\u001b[0m \u001b[32m42.3/42.3 kB\u001b[0m \u001b[31m2.5 MB/s\u001b[0m eta \u001b[36m0:00:00\u001b[0m\r\n",
      "\u001b[?25hDownloading textsearch-0.0.24-py2.py3-none-any.whl (7.6 kB)\r\n",
      "Downloading anyascii-0.3.2-py3-none-any.whl (289 kB)\r\n",
      "\u001b[2K   \u001b[90m━━━━━━━━━━━━━━━━━━━━━━━━━━━━━━━━━━━━━━━━\u001b[0m \u001b[32m289.9/289.9 kB\u001b[0m \u001b[31m18.3 MB/s\u001b[0m eta \u001b[36m0:00:00\u001b[0m\r\n",
      "\u001b[?25hDownloading pyahocorasick-2.1.0-cp310-cp310-manylinux_2_5_x86_64.manylinux1_x86_64.manylinux_2_12_x86_64.manylinux2010_x86_64.whl (110 kB)\r\n",
      "\u001b[2K   \u001b[90m━━━━━━━━━━━━━━━━━━━━━━━━━━━━━━━━━━━━━━━━\u001b[0m \u001b[32m110.7/110.7 kB\u001b[0m \u001b[31m8.8 MB/s\u001b[0m eta \u001b[36m0:00:00\u001b[0m\r\n",
      "\u001b[?25hBuilding wheels for collected packages: langdetect\r\n",
      "  Building wheel for langdetect (setup.py) ... \u001b[?25l-\b \bdone\r\n",
      "\u001b[?25h  Created wheel for langdetect: filename=langdetect-1.0.9-py3-none-any.whl size=993227 sha256=16bc9944772aae86352a4cfcec239fc2fbe3a0f55bef5020091a983e7fd21acc\r\n",
      "  Stored in directory: /root/.cache/pip/wheels/95/03/7d/59ea870c70ce4e5a370638b5462a7711ab78fba2f655d05106\r\n",
      "Successfully built langdetect\r\n",
      "Installing collected packages: pyspellchecker, pyahocorasick, langdetect, anyascii, textsearch, deep-translator, contractions\r\n",
      "Successfully installed anyascii-0.3.2 contractions-0.1.73 deep-translator-1.11.4 langdetect-1.0.9 pyahocorasick-2.1.0 pyspellchecker-0.8.1 textsearch-0.0.24\r\n"
     ]
    }
   ],
   "source": [
    "!pip install datasets keras-tuner contractions pyspellchecker langdetect deep-translator"
   ]
  },
  {
   "cell_type": "code",
   "execution_count": 2,
   "id": "48e7cdc6",
   "metadata": {
    "execution": {
     "iopub.execute_input": "2024-11-09T01:35:21.446107Z",
     "iopub.status.busy": "2024-11-09T01:35:21.445800Z",
     "iopub.status.idle": "2024-11-09T01:35:42.853256Z",
     "shell.execute_reply": "2024-11-09T01:35:42.852305Z"
    },
    "id": "ULaU3KqpnzgA",
    "papermill": {
     "duration": 21.427788,
     "end_time": "2024-11-09T01:35:42.855725",
     "exception": false,
     "start_time": "2024-11-09T01:35:21.427937",
     "status": "completed"
    },
    "tags": []
   },
   "outputs": [],
   "source": [
    "import numpy as np\n",
    "import torch\n",
    "import torch.nn as nn\n",
    "from tensorflow.keras.models import Sequential\n",
    "from tensorflow.keras.layers import SimpleRNN, Dense, Dropout, Embedding, Bidirectional, GRU, Layer, Input\n",
    "from tensorflow.keras.preprocessing.text import Tokenizer\n",
    "from keras.preprocessing.sequence import pad_sequences\n",
    "from tensorflow.keras.optimizers import Adam\n",
    "from tensorflow.keras.callbacks import EarlyStopping\n",
    "from tensorflow.keras.layers import GlobalAveragePooling1D, GlobalMaxPooling1D\n",
    "from datasets import load_dataset\n",
    "from sklearn.metrics import confusion_matrix, ConfusionMatrixDisplay, classification_report\n",
    "import re\n",
    "import matplotlib.pyplot as plt\n",
    "import tensorflow as tf \n",
    "from tensorflow import keras\n",
    "import keras_tuner as kt\n",
    "from deep_translator import MyMemoryTranslator\n",
    "from langdetect import detect\n",
    "import spacy\n",
    "import contractions\n",
    "import nltk\n",
    "from spellchecker import SpellChecker\n",
    "import random\n",
    "\n",
    "# Set a seed value\n",
    "seed_value = 0\n",
    "\n",
    "random.seed(seed_value)\n",
    "# For NumPy\n",
    "np.random.seed(seed_value)\n",
    "# For TensorFlow\n",
    "tf.random.set_seed(seed_value)\n",
    "# For PyTorch\n",
    "torch.manual_seed(seed_value)\n",
    "\n",
    "if torch.cuda.is_available():\n",
    "    torch.cuda.manual_seed(seed_value)\n",
    "    torch.cuda.manual_seed_all(seed_value)  # if using multi-GPU\n",
    "    torch.backends.cudnn.deterministic = True\n",
    "    torch.backends.cudnn.benchmark = False"
   ]
  },
  {
   "cell_type": "markdown",
   "id": "4fcc3728",
   "metadata": {
    "id": "apHIqbFN0GgX",
    "papermill": {
     "duration": 0.016018,
     "end_time": "2024-11-09T01:35:42.888499",
     "exception": false,
     "start_time": "2024-11-09T01:35:42.872481",
     "status": "completed"
    },
    "tags": []
   },
   "source": [
    "# Dataset Preparation"
   ]
  },
  {
   "cell_type": "code",
   "execution_count": 3,
   "id": "d27e1fd4",
   "metadata": {
    "execution": {
     "iopub.execute_input": "2024-11-09T01:35:42.923350Z",
     "iopub.status.busy": "2024-11-09T01:35:42.922265Z",
     "iopub.status.idle": "2024-11-09T01:35:46.346983Z",
     "shell.execute_reply": "2024-11-09T01:35:46.346214Z"
    },
    "id": "6JvcZxEppkqp",
    "papermill": {
     "duration": 3.443845,
     "end_time": "2024-11-09T01:35:46.348896",
     "exception": false,
     "start_time": "2024-11-09T01:35:42.905051",
     "status": "completed"
    },
    "tags": []
   },
   "outputs": [
    {
     "data": {
      "application/vnd.jupyter.widget-view+json": {
       "model_id": "d3d54fb009d14dd69a519ec1048aded8",
       "version_major": 2,
       "version_minor": 0
      },
      "text/plain": [
       "README.md:   0%|          | 0.00/7.46k [00:00<?, ?B/s]"
      ]
     },
     "metadata": {},
     "output_type": "display_data"
    },
    {
     "data": {
      "application/vnd.jupyter.widget-view+json": {
       "model_id": "043af1022cb64e4d9a02c9eff7d08ab6",
       "version_major": 2,
       "version_minor": 0
      },
      "text/plain": [
       "train.parquet:   0%|          | 0.00/699k [00:00<?, ?B/s]"
      ]
     },
     "metadata": {},
     "output_type": "display_data"
    },
    {
     "data": {
      "application/vnd.jupyter.widget-view+json": {
       "model_id": "4608ba27fe8946bb9e53fd95904f5c5b",
       "version_major": 2,
       "version_minor": 0
      },
      "text/plain": [
       "validation.parquet:   0%|          | 0.00/90.0k [00:00<?, ?B/s]"
      ]
     },
     "metadata": {},
     "output_type": "display_data"
    },
    {
     "data": {
      "application/vnd.jupyter.widget-view+json": {
       "model_id": "f00e987be5044a6dac90b69bb1a7e2ff",
       "version_major": 2,
       "version_minor": 0
      },
      "text/plain": [
       "test.parquet:   0%|          | 0.00/92.2k [00:00<?, ?B/s]"
      ]
     },
     "metadata": {},
     "output_type": "display_data"
    },
    {
     "data": {
      "application/vnd.jupyter.widget-view+json": {
       "model_id": "b897ed8abaad4c319b37d215748969f5",
       "version_major": 2,
       "version_minor": 0
      },
      "text/plain": [
       "Generating train split:   0%|          | 0/8530 [00:00<?, ? examples/s]"
      ]
     },
     "metadata": {},
     "output_type": "display_data"
    },
    {
     "data": {
      "application/vnd.jupyter.widget-view+json": {
       "model_id": "fe658151f68a49158625ac624915d218",
       "version_major": 2,
       "version_minor": 0
      },
      "text/plain": [
       "Generating validation split:   0%|          | 0/1066 [00:00<?, ? examples/s]"
      ]
     },
     "metadata": {},
     "output_type": "display_data"
    },
    {
     "data": {
      "application/vnd.jupyter.widget-view+json": {
       "model_id": "40de6062853442de9d452030a407bcdf",
       "version_major": 2,
       "version_minor": 0
      },
      "text/plain": [
       "Generating test split:   0%|          | 0/1066 [00:00<?, ? examples/s]"
      ]
     },
     "metadata": {},
     "output_type": "display_data"
    }
   ],
   "source": [
    "# Load the dataset\n",
    "dataset = load_dataset(\"rotten_tomatoes\")\n",
    "\n",
    "# Split the dataset into training, validation, and test sets\n",
    "train_dataset = dataset['train']\n",
    "validation_dataset = dataset['validation']\n",
    "test_dataset = dataset['test']"
   ]
  },
  {
   "cell_type": "markdown",
   "id": "b0ec3ad2",
   "metadata": {
    "id": "Vxwf9Z-F0oMd",
    "papermill": {
     "duration": 0.017395,
     "end_time": "2024-11-09T01:35:46.384222",
     "exception": false,
     "start_time": "2024-11-09T01:35:46.366827",
     "status": "completed"
    },
    "tags": []
   },
   "source": [
    "# Generate Word Embeddings"
   ]
  },
  {
   "cell_type": "code",
   "execution_count": 4,
   "id": "42ca52c6",
   "metadata": {
    "execution": {
     "iopub.execute_input": "2024-11-09T01:35:46.420722Z",
     "iopub.status.busy": "2024-11-09T01:35:46.420332Z",
     "iopub.status.idle": "2024-11-09T01:38:48.467261Z",
     "shell.execute_reply": "2024-11-09T01:38:48.466197Z"
    },
    "id": "V045Fabq0VZt",
    "papermill": {
     "duration": 182.067614,
     "end_time": "2024-11-09T01:38:48.469513",
     "exception": false,
     "start_time": "2024-11-09T01:35:46.401899",
     "status": "completed"
    },
    "tags": []
   },
   "outputs": [
    {
     "name": "stderr",
     "output_type": "stream",
     "text": [
      "/opt/conda/lib/python3.10/pty.py:89: RuntimeWarning: os.fork() was called. os.fork() is incompatible with multithreaded code, and JAX is multithreaded, so this will likely lead to a deadlock.\n",
      "  pid, fd = os.forkpty()\n"
     ]
    },
    {
     "name": "stdout",
     "output_type": "stream",
     "text": [
      "--2024-11-09 01:35:47--  http://nlp.stanford.edu/data/glove.6B.zip\r\n",
      "Resolving nlp.stanford.edu (nlp.stanford.edu)... 171.64.67.140\r\n",
      "Connecting to nlp.stanford.edu (nlp.stanford.edu)|171.64.67.140|:80... connected.\r\n",
      "HTTP request sent, awaiting response... 302 Found\r\n",
      "Location: https://nlp.stanford.edu/data/glove.6B.zip [following]\r\n",
      "--2024-11-09 01:35:47--  https://nlp.stanford.edu/data/glove.6B.zip\r\n",
      "Connecting to nlp.stanford.edu (nlp.stanford.edu)|171.64.67.140|:443... connected.\r\n",
      "HTTP request sent, awaiting response... 301 Moved Permanently\r\n",
      "Location: https://downloads.cs.stanford.edu/nlp/data/glove.6B.zip [following]\r\n",
      "--2024-11-09 01:35:47--  https://downloads.cs.stanford.edu/nlp/data/glove.6B.zip\r\n",
      "Resolving downloads.cs.stanford.edu (downloads.cs.stanford.edu)... 171.64.64.22\r\n",
      "Connecting to downloads.cs.stanford.edu (downloads.cs.stanford.edu)|171.64.64.22|:443... connected.\r\n",
      "HTTP request sent, awaiting response... 200 OK\r\n",
      "Length: 862182613 (822M) [application/zip]\r\n",
      "Saving to: 'glove.6B.zip'\r\n",
      "\r\n",
      "glove.6B.zip        100%[===================>] 822.24M  4.98MB/s    in 2m 39s  \r\n",
      "\r\n",
      "2024-11-09 01:38:27 (5.16 MB/s) - 'glove.6B.zip' saved [862182613/862182613]\r\n",
      "\r\n",
      "Archive:  glove.6B.zip\r\n",
      "  inflating: glove.6B.50d.txt        \r\n",
      "  inflating: glove.6B.100d.txt       \r\n",
      "  inflating: glove.6B.200d.txt       \r\n",
      "  inflating: glove.6B.300d.txt       \r\n"
     ]
    }
   ],
   "source": [
    "# Download glove and unzip it in Notebook.\n",
    "!wget http://nlp.stanford.edu/data/glove.6B.zip\n",
    "!unzip glove*.zip"
   ]
  },
  {
   "cell_type": "markdown",
   "id": "ccdde11e",
   "metadata": {
    "id": "I9NWMMgd2KlH",
    "papermill": {
     "duration": 0.099409,
     "end_time": "2024-11-09T01:38:48.645772",
     "exception": false,
     "start_time": "2024-11-09T01:38:48.546363",
     "status": "completed"
    },
    "tags": []
   },
   "source": [
    "# Data Exploration & Preprocessing"
   ]
  },
  {
   "cell_type": "code",
   "execution_count": 5,
   "id": "79d4aac1",
   "metadata": {
    "execution": {
     "iopub.execute_input": "2024-11-09T01:38:48.805671Z",
     "iopub.status.busy": "2024-11-09T01:38:48.804697Z",
     "iopub.status.idle": "2024-11-09T01:38:49.062688Z",
     "shell.execute_reply": "2024-11-09T01:38:49.061692Z"
    },
    "id": "jBpYiX1j01jw",
    "papermill": {
     "duration": 0.339431,
     "end_time": "2024-11-09T01:38:49.064833",
     "exception": false,
     "start_time": "2024-11-09T01:38:48.725402",
     "status": "completed"
    },
    "tags": []
   },
   "outputs": [
    {
     "name": "stdout",
     "output_type": "stream",
     "text": [
      "Vocabulary size of train data: 17451\n"
     ]
    }
   ],
   "source": [
    "train_text = train_dataset['text']\n",
    "\n",
    "# Initialize the tokenizer\n",
    "tokenizer = Tokenizer()\n",
    "tokenizer.fit_on_texts(train_text)\n",
    "\n",
    "# Number of unique words in the train dataset\n",
    "vocab_size = len(tokenizer.word_index)\n",
    "print(\"Vocabulary size of train data:\", vocab_size)"
   ]
  },
  {
   "cell_type": "code",
   "execution_count": 6,
   "id": "f7a4f3ef",
   "metadata": {
    "execution": {
     "iopub.execute_input": "2024-11-09T01:38:49.222067Z",
     "iopub.status.busy": "2024-11-09T01:38:49.221350Z",
     "iopub.status.idle": "2024-11-09T01:38:58.939970Z",
     "shell.execute_reply": "2024-11-09T01:38:58.938952Z"
    },
    "id": "APtXfkn02drc",
    "papermill": {
     "duration": 9.800993,
     "end_time": "2024-11-09T01:38:58.943116",
     "exception": false,
     "start_time": "2024-11-09T01:38:49.142123",
     "status": "completed"
    },
    "tags": []
   },
   "outputs": [
    {
     "name": "stdout",
     "output_type": "stream",
     "text": [
      "Size of Glove Vocabulary: 400000\n",
      "Out-Of-Vocabulary Words: [\"it's\", \"doesn't\", \"there's\", \"that's\", \"isn't\", \"don't\", \"can't\", \"film's\", \"you're\", \"you'll\", \"he's\", \"movie's\", \"won't\", \"what's\", \"you've\", \"i'm\", \"didn't\", \"they're\", \"year's\", '\\x96', \"you'd\", \"aren't\", \"i've\", \"we've\", \"couldn't\", \"she's\", \"man's\", \"we're\", \"wasn't\", \"i'd\", '\\x97', \"who's\", \"director's\", \"haven't\", \"here's\", \"story's\", \"characters'\", \"wouldn't\", \"i'll\", \"'the\", \"woman's\", \"hasn't\", \"world's\", \"filmmaker's\", \"children's\", \"moore's\", \"one's\", \"soderbergh's\", \"america's\", \"disney's\", \"shouldn't\", \"ain't\", \"character's\", \"cinema's\", \"women's\", \"cho's\", \"hoffman's\", \"kids'\", \"today's\", \"amy's\", \"wilde's\", \"life's\", \"they'll\", \"emperor's\", \"sandler's\", \"scorsese's\", \"allen's\", \"it'll\", \"filmmakers'\", 'cletis', \"carvey's\", \"let's\", \"stevenson's\", 'waydowntown', \"polanski's\", \"he'd\", \"weren't\", \"lee's\", \"everyone's\", \"parker's\", \"woo's\", \"'i\", \"greene's\", \"2002's\", \"actor's\", \"bullock's\", \"writer's\", \"shakespeare's\", \"script's\", \"they'd\", \"audience's\", 'seldahl', \"kaufman's\", \"dickens'\", \"mcgrath's\", \"zhang's\", \"plot's\", \"joan's\", \"chan's\", \"son's\", \"grant's\", \"carpenter's\", \"'it's\", \"girls'\", \"solondz's\", \"artist's\", \"they've\", 'ozpetek', \"'a\", \"howard's\", \"rohmer's\", \"barry's\", \"child's\", \"summer's\", \"'what\", \"nelson's\", \"spears'\", \"seagal's\", \"benigni's\", \"week's\", \"jackson's\", \"vincent's\", \"boys'\", \"earnhart's\", \"fessenden's\", \"behan's\", \"haneke's\", \"'a'\", \"jacquot's\", \"he'll\", \"rowling's\", \"herzog's\", \"reggio's\", \"smith's\", \"people's\", 'divertida', 'stultifyingly', \"hart's\", \"leigh's\", \"'analyze\", \"birot's\", \"huppert's\", 'wollter', \"'they'\", \"kissinger's\", \"williams's\", 'birot', \"miller's\", \"seinfeld's\", \"godard's\", \"fontaine's\", \"broomfield's\", \"bard's\", \"kid's\", \"besson's\", \"eastwood's\", \"nair's\", \"boy's\", 'também', \"jolie's\", \"tv's\", \"iwai's\", \"'this\", \"rice's\", \"hill's\", \"nijinsky's\", \"lawrence's\", \"shyamalan's\", \"ana's\", \"egoyan's\", \"hadn't\", \"freundlich's\", \"ritchie's\", \"niro's\", \"avary's\", \"wertmuller's\", \"thing's\", \"lampoon's\", \"author's\", \"palma's\", \"peploe's\", \"britney's\", \"would've\", \"demme's\", \"murphy's\", \"wells'\", \"tolkien's\", \"'who\", \"gollum's\", \"yvan's\", \"iran's\", \"'urban\", \"nicholson's\", \"1995's\", \"jie's\", \"vardalos'\", \"kinnear's\", \"bennett's\", \"toback's\", \"kahlo's\", \"needn't\", \"shainberg's\", \"majidi's\", \"moretti's\", \"girl's\", \"leys'\", \"napoleon's\", \"pray's\", \"michele's\", \"goyer's\", 'watstein', \"witherspoon's\", \"lil'\", \"family's\", \"puccini's\", \"lilia's\", \"frida's\", \"'lovely\", \"burdette's\", \"we'll\", \"photographer's\", \"naipaul's\", \"1920's\", \"weaver's\", \"she'll\", \"hawn's\", \"'red\", \"writers'\", \"cox's\", \"nothing's\", \"band's\", \"protagonist's\", \"clooney's\", \"hollywood's\", 'fato', \"'love\", 'montias', \"scott's\", \"imamura's\", 'consegue', \"opera's\", \"meyer's\", \"morvern's\", \"fincher's\", \"vera's\", \"esther's\", \"mamet's\", \"paxton's\", \"gayton's\", \"haynes'\", \"'my\", \"miyazaki's\", \"jones's\", \"that'll\", \"'laughing\", \"burns'\", \"couple's\", \"marshall's\", \"coppola's\", \"burger's\", \"jaglom's\", \"yesterday's\", \"anyone's\", \"brown's\", \"romanek's\", \"fuhrman's\", \"chabrol's\", \"jelinek's\", 'animé', \"kosashvili's\", 'idemoto', \"movies'\", \"wen's\", 'personagens', \"dong's\", \"ratliff's\", \"assayas'\", \"gilliam's\", \"love's\", \"spielberg's\", 'profundamente', \"studio's\", 'runteldat', '\\x85', \"novel's\", 'líquido', 'elemento', 'achronological', \"harmon's\", 'sheerly', \"anderson's\", \"leguizamo's\", \"kline's\", \"welles'\", \"eisenstein's\", \"company's\", \"'what's\", \"heidi's\", \"viewers'\", \"famuyiwa's\", \"'dumb\", 'direção', 'actuada', 'janklowicz', \"jagger's\", \"kilmer's\", \"nohe's\", \"t's\", \"cat's\", \"schepisi's\", \"'are\", \"bielinsky's\", \"caruso's\", \"rifkin's\", \"devito's\", \"'enigma'\", \"'we\", \"series'\", \"hearst's\", \"bale's\", 'frissons', \"lopez's\", \"crudup's\", \"white's\", \"holofcener's\", \"old's\", \"mattei's\", \"boyd's\", \"'issues'\", \"schaeffer's\", \"ellis'\", \"actors'\", \"snail's\", \"showtime's\", 'roteirista', \"away'\", \"everything's\", \"barney's\", \"neighbor's\", \"schneider's\", 'kidlets', \"shreve's\", 'feardotcom', \"hero's\", \"'do\", \"rock's\", \"green's\", \"picture's\", \"oedekerk's\", \"madonna's\", \"film'\", \"hartley's\", \"something's\", \"'why\", \"where's\", \"yu's\", '8217', \"latter's\", \"queen's\", \"eyre's\", \"screenwriter's\", \"three's\", \"mctiernan's\", \"'best\", \"title's\", \"washington's\", \"'how\", \"denis'\", \"tarantino's\", \"shadyac's\", \"reyes'\", \"'fatal\", \"schnitzler's\", \"dawson's\", \"project's\", \"century's\", 'wisegirls', \"it'\", 'enrapturing', \"'compleja\", 'intelectualmente', 'retadora', 'orquídeas', 'originalidad', \"'50's\", \"johnson's\", \"derrida's\", \"1998's\", \"mother's\", \"'performance'\", \"damon's\", \"mcfarlane's\", \"irwin's\", \"piesiewicz's\", \"kieslowski's\", 'suspenser', 'obviation', \"kurys'\", \"'truth'\", 'gorefests', \"book's\", 'makmalbaf', \"comedy'\", \"willams'\", 'exhilarate', 'nuttgens', \"o's\", \"petin's\", 'provocatuers', 'jirí', \"hubac's\", 'shapelessly', \"münch's\", \"andersson's\", \"'bartleby'\", \"willis's\", \"sayles'\", \"american's\", \"renner's\", 'addessi', \"jones'\", \"pleaser's\", \"wollter's\", \"'brazil\", 'mullinski', \"'face\", \"value'\", \"'tadpole'\", \"elliott's\", \"'barbershop'\", 'narcotizing', \"villeneuve's\", 'precollegiate', \"hogan's\", \"reno's\", 'interwoven\\x85', \"version's\", \"glass'\", 'sparklingly', \"griffin's\", 'superlarge', '\\x91what', \"see'\", \"bow's\", 'destinees', \"lohman's\", 'margolo', \"another's\", 'dominatrixes', 'scuzbag', \"leoni's\", \"herek's\", \"hornby's\", 'idoosyncratic', 'flatula', 'denlopp', 'updatings', \"silver's\", \"trio's\", \"niccol's\", \"screenplay's\", 'sappier', \"hook's\", \"bernstein's\", \"ride's\", \"carion's\", 'condensada', 'visualmente', 'entretenida', 'sorprenderá', 'exporing', \"'they\", \"anymore'\", \"ross's\", \"pal's\", \"tsukamoto's\", \"'charly'\", \"'co\", \"leppard's\", 'capturou', \"master's\", 'sarcástica', 'demencial', 'predecesora', 'complejos', \"compulsive's\", 'cadness', \"'types'\", 'shagster', \"'hosts'\", \"'guests\", \"'jackie'\", \"francisco's\", \"python's\", \"1983's\", \"1988's\", 'powaqqatsi', \"noyce's\", 'policiales', 'últimos', 'kaputschnik', \"elvira's\", 'kickass', 'travil', \"australia's\", 'splittingly', \"japan's\", \"ramsay's\", 'aborbing', 'monkeyfun', \"petersburg's\", \"more's\", \"alzheimer's\", \"dragon'\", \"'have\", \"holocaust'\", 'bierbichler', \"ricci's\", 'crummles', 'bustingly', \"'70's\", \"gainsbourg's\", \"dankworth's\", 'deutchland', \"gaghan's\", 'datedness', 'inhospitability', 'næs', \"court's\", \"regime's\", \"individuals'\", \"carnahan's\", \"jacobson's\", \"'blundering'\", 'hastier', 'estava', 'existência', 'papai', 'inquestionável', \"production's\", 'talancón', \"'small'\", \"'safe\", \"form's\", \"wilson's\", 'drippiness', \"thyself'\", \"seldahl's\", \"era's\", \"lapaglia's\", \"oesn't\", \"'difficult'\", \"this'\", \"hamilton's\", 'hotdogging', \"eisenberg's\", \"time's\", 'stumblings', \"roland's\", \"housekeeping's\", \"andrew's\", \"borchardt's\", \"chaiken's\", 'apesar', 'entreter', \"'picture\", \"'spectacular\", \"recoing's\", 'bizzarre', \"'suits'\", 'alientation', \"fresnadillo's\", \"cq's\", 'sogginess', \"clones'\", 'mollà', 'involvingly', 'wifty', \"'easily\", \"charles'\", \"adams'\", \"'vain'\", \"jia's\", \"gerbosi's\", \"'reality'\", \"'frailty\", \"leon's\", 'stuffiest', 'timewaster', \"dubya's\", \"it'd\", 'strafings', \"kurosawa's\", 'debuter', \"desmond's\", \"'tis\", \"sade's\", 'histo', 'contando', 'premissa', 'mergulha', 'culminando', 'desfecho', 'certamente', 'memória', \"horner's\", \"mehta's\", \"'de\", \"moviegoer's\", 'soaringly', \"blanchett's\", \"'solaris'\", \"kaufmann's\", \"anspaugh's\", \"myer's\", \"original's\", \"'no\", 'entretiene', 'outgag', \"whale's\", \"group's\", \"'angels\", \"baker's\", 'pulpiness', \"tambor's\", \"stevens'\", \"meyjes'\", 'haphazardness', \"liyan's\", \"larson's\", \"urge'\", \"morrison's\", \"corcuera's\", \"orlean's\", 'kibbitzes', 'auteil', 'hardest\\x85', \"ambrose's\", \"lookin'\", \"broadway's\", 'cineasts', \"weinstein's\", \"denmark's\", \"1994's\", \"intacto's\", \"teacher's\", \"'children's'\", \"stepdad's\", \"adjusting'\", \"tinseltown's\", \"menzel's\", \"tanovic's\", \"'evelyn\", 'unconned', 'overmanipulative', \"schütte's\", \"s1m0ne's\", \"album's\", \"'life'\", \"paul's\", \"twohy's\", 'crappola', \"'refreshing\", \"'drumline'\", 'koshashvili', \"cusack's\", \"jeong's\", \"'real'\", \"dunst's\", \"york's\", 'jaglomized', 'fizzability', 'sytle', \"war's\", 'decasia', \"mexico's\", 'stoppingly', \"sydney's\", \"tufano's\", \"grabowsky's\", \"at'\", \"'stock\", \"choquart's\", 'espectáculo', 'digno', 'contemplarse', 'soberbio', 'montaje', 'colosal', 'universos', 'complementares', 'igualmente', 'fascinantes', \"'assassin'\", \"wasabi's\", 'captivatingly', \"iosseliani's\", \"poets'\", \"scorcese's\", \"campanella's\", 'fillm', \"'bad'\", 'unforgivingly', 'unreligious', 'anteing', \"espn's\", \"ya's\", \"gourmet's\", 'marcken', \"secret's\", \"sand's\", 'mouglalis', \"adaptation's\", \"burns's\", \"serry's\", \"pacino's\", \"paradiso's\", 'third\\x85emotionally', \"binoche's\", 'everlyn', \"tezuka's\", \"'home\", \"china's\", \"berry's\", \"'belgium's\", \"cam'ron\", 'komediant', \"turpin's\", \"nolan's\", 'cinemantic', 'efteriades', \"up's\", \"melville's\", 'narcotized', \"finch's\", \"ozpetek's\", 'graças', 'às', 'interações', 'perseguição', 'estudo', \"fun's\", \"nalin's\", \"'blood'\", \"serpent's\", 'contructed', 'volletta', \"wallace's\", \"1790's\", \"runner'\", \"'cultural\", \"tso's\", \"château's\", 'whimsicality', \"stone's\", \"zaza's\", 'uncinematic', 'corniest', \"barris'\", \"lieutenant's\", 'unslick', \"kafka's\", \"buñuel's\", \"'like\", \"skins'\", 'uplifter', \"krige's\", \"frodo's\", 'blighter', \"campaign's\", \"rose's\", \"source's\", \"'chops'\", \"antonia's\", 'naturedness', 'hjelje', 'gaï', \"rubbo's\", \"'scratch'\", \"'silence\", \"lambs'\", \"'hannibal'\", \"canada's\", 'masterpeice', \"pinochet's\", \"leone's\", \"hanks'\", \"'divertida\", 'enternecedora', 'sincera', 'románticas', 'delicia', \"critics'\", \"gosling's\", \"city's\", \"'film\", \"penn's\", \"liang's\", 'bjorkness', \"nesbitt's\", \"dumas'\", \"'laugh\", \"therapy'\", \"soul's\", 'trimmings\\x85arrive', 'minute\\x85with', \"humankind's\", 'musclefest', 'incoloro', 'perfect\\x85', \"foxworthy's\", \"phocion's\", 'of\\x85emotional', \"dicaprio's\", \"byler's\", \"1950's\", \"desplat's\", \"mora's\", 'score\\x85', 'copmovieland', \"'alabama'\", \"audiard's\", \"france's\", \"auteil's\", \"bride's\", \"lynch's\", 'oídos', 'movilizador', 'enfrentados', 'deseos', 'miedos', 'prejuicios', \"hitchens'\", 'engaña', 'enfrentará', \"'interesante\", 'disfrutable', 'prescinde', 'patriotero', 'manipulador', \"'blue\", \"crush'\", \"mtv's\", \"'korean\", \"wave'\", \"martin's\", \"barbara's\", \"viewer's\", \"reader's\", \"domino's\", \"lang's\", \"rintarô's\", \"crane's\", 'kahlories', \"aragorn's\", \"'si\", 'logra', 'desarrollarse', 'pretenciosas', 'resultan', \"savoca's\", \"'barbershop\", 'truncheoning', \"numbers'\", 'claustrophic', \"mullan's\", \"'shindler's\", \"list'\", 'hitchcockianism', 'chabrolian', 'gooeyness', \"sorcerer's\", \"kwan's\", 'crowdpleaser', 'espite', \"cunningham's\", \"fellowship's\", 'pincel', 'retrata', 'constatação', 'realidade', \"dumber'\", \"'possession\", \"manhattan's\", \"'baran\", \"cube's\", 'beseechingly', \"schmidt's\", \"abbass's\", 'cativante', 'representando', 'contrária', 'evolução', 'musicais', \"'bowling\", \"tsai's\", 'accomodates', 'cannier', \"diesel's\", \"rogers's\", \"nicholas'\", \"population's\", \"'estupendamente\", 'sumamente', 'emotiva', 'fílmica', \"olvidar'\", \"næss'\", 'hellstenius', \"student's\", \"quaid's\", \"'nicholas\", \"nickleby'\", 'suspeito', 'ganha', 'funcionar', 'esfera', \"feardotcom's\", \"'moore\", \"stuart's\", \"snowball's\", \"nakata's\", \"cannon's\", 'democracie', 'revigorates', \"park's\", 'qutting', \"memory's\", 'luvvies', \"bean's\", 'bergmanesque', \"cartoon's\", 'snazziness', \"adult's\", \"ziyi's\", \"huston's\", \"'anyone\", \"shiner's\", \"verete's\", \"spirit's\", \"tep's\", \"kouyate's\", 'diciness', 'colonics', 'outré', \"abagnale's\", \"griffiths'\", \"sea's\", 'shmear', \"region's\", \"bornin'\", \"fans'\", 'plaintiveness', \"ferrara's\", \"administration's\", \"'orphans'\", 'unemotive', 'steinis', \"j's\", \"'very\", \"sneaky'\", \"cedar's\", \"walsh's\", \"zelda's\", 'swordfights', \"'santa\", \"2'\", 'dooper', 'adorability', \"raimi's\", 'materalism', 'unhibited', 'japanimator', \"bv's\", \"auteur's\", 'achival', 'flakeball', \"'qatsi'\", 'atreve', 'atacar', 'atacarse', 'duración', \"'praise\", \"chances'\", 'precisa', 'grandiosa', 'conmovedora', \"don'\", 'têm', 'início', 'saímos', 'começamos', 'acabamos', 'então', 'sinais', 'desaponta', 'unfakable', \"lasker's\", \"teenager's\", 'dreadfulness', \"morton's\", \"labute's\", \"parris'\", \"munch's\", \"thatcher's\", \"culture's\", \"charlotte's\", \"'right\", \"thinking'\", \"'easier'\", \"'solid'\", \"sixties'\", \"'stoked\", \"bickle'\", 'marveilleux', \"'date\", \"movie'\", \"sissako's\", 'heremakono', \"bueller's\", 'hotsies', \"we'd\", \"argento's\", \"collaborators'\", \"'manhunter'\", 'preocupar', 'criar', 'melodramáticos', 'pianista', 'emocionante', \"germany's\", 'obligada', 'impotentes', 'daneses', 'camareras', 'italianas', 'desee', 'expresar', \"ong's\", \"immigrant's\", \"ravel's\", \"gondry's\", \"tavernier's\", \"diplomat's\", \"england's\", 'kosashvili', \"katz's\", \"evelyn's\", 'surehanded', \"'aunque\", 'recurre', 'actuación', 'perdona', 'guión', 'mibii', \"india's\", \"wong's\", 'shimmeringly', \"1992's\", \"ali's\", \"dinner'\", \"cockettes'\", \"caine's\", \"evans'\", \"nba's\", 'convencional', 'narrativa', 'quizá', 'arriesgado', \"taylor's\", 'próprio', 'abandone', 'paródia', 'utilizar', 'mesmos', 'clichês', 'havia', 'satirizado', \"massoud's\", 'nonethnic', \"ryan's\", \"'memento'\", \"'requiem\", '\\x91direct', \"video'\", 'dysfunctionally', 'vulakoro', 'ourside', 'goombah', 'dudsville', \"'jackass\", \"ladies'\", 'equlibrium', \"'hey\", \"macgraw's\", \"bailly's\", \"amélie's\", \"'blade\", \"ii'\", \"sinise's\", \"dentist's\", 'fantasti', 'surfacey', \"ceo's\", 'prefeminist', \"byatt's\", 'shrieky', \"'we're\", \"cash'\", \"'ejemplo\", 'premisa', 'francamente', 'aburrido', \"pandora's\", \"janice's\", 'stortelling', \"solondz'\", 'autocritique', \"'naturalistic'\", \"tommy's\", 'disposible', \"mama's\", \"subgenre's\", \"wiel's\", 'artnering', \"'you'll\", 'reeses', \"kin's\", \"'it\", \"tuxedo's\", \"'chan\", \"moment'\", 'slappingly', \"lane's\", \"lyne's\", 'eroti', 'vidgame', \"longley's\", \"lead's\", 'nebrida', \"macy's\", 'mcklusky', \"cage's\", 'minac', 'pretention', \"holm's\", 'unamusing', \"david's\", \"carlen's\", 'blutarsky', 'heartwarmingly', \"aisle's\", \"'perfection\", \"peralta's\", \"berkley's\", 'gasm', 'unimpressively', \"'yes\", \"heroine's\", 'responsável', 'direto', \"'artístico'\", 'sequer', 'aproveitar', 'pouquíssimos', 'escapa', 'mediocridade', 'unembarrassing', \"duvall's\", \"mason's\", \"creator's\", 'bibbidy', 'bobbidi', \"'swept\", 'fluxing', \"whitaker's\", \"grandson's\", \"'hungry\", \"bad'\", 'burningly', \"snipes'\", \"generation's\", \"zellweger's\", \"sam's\", \"malkovich's\", 'bottomlessly', \"klein's\", 'nohe', \"'intro'\", \"wit's\", \"na's\", 'halfwit', 'aceitou', 'continuação', 'saído', 'esquerdo', 'aqueles', 'decidiram', 'assistir', \"altman's\", \"'truth\", 'toolbags', \"period's\", \"chekhov's\", \"'ick'\", \"'classic\", \"'too\", \"jonah's\", \"'comedian'\", \"'drama\", 'glizty', \"cagney's\", \"'top\", \"world'\", 'pistoled', 'indieflick', 'hammily', \"kapur's\", 'dullingly', 'nonchallenging', \"hickenlooper's\", 'affirmational', 'smashups', 'phonce', 'stuporously', 'repellantly', 'hmmm\\x85might', \"bruckheimer's\", \"humanity's\", \"god's\", \"'quit\", \"'tweener'\", \"drowning's\", \"stiller's\", 'unentertaining', \"glass's\", 'decirles', 'grato', 'desnudo', \"kalesniko's\", 'squaddie', 'sandlerian', 'hirosue', \"'christian\", \"breen's\", 'actorish', 'penotti', 'leatherbound', 'zzzzzzzzz', \"draggin'\", \"'literary'\", 'puttingly', \"'under\", \"alcatraz'\", \"ludicrous'\", \"meyjes's\", \"rothman's\", 'schneidermeister', \"makin'\", \"losin'\", \"wang's\", \"'scooby'\", \"auteuil's\", 'sychowski', \"bartlett's\", 'fustily', \"suffer'\", \"'cq\", \"aliens'\", \"'german\", \"romething's\", 'ricture', \"'god\", \"'uhhh\", \"amari's\", \"taymor's\", 'prechewed', 'sitcomishly', \"beck's\", \"craven's\", \"street'\", \"'deadly\", \"uzumaki's\", \"'men\", \"pete's\", \"dean's\", \"'synthetic'\", \"judd's\", 'thesps', 'film\\x85it', \"'wow'\", 'sillified', \"could've\", \"river's\", \"bartleby's\", 'italicizes', \"'amateur'\", \"chai's\", 'skeeved', \"2's\", \"leroy's\", 'skippable', 'greaseballs', \"'action\", \"kong's\", 'forgettably', 'overstylized', 'puréed', 'wankery', \"malle's\", \"einstein's\", \"branagh's\", \"spain's\", \"'who's\", \"who'\", \"carlito's\", \"lizard's\", \"'all\", 'substitutable', \"hawke's\", \"gaitskill's\", \"ocean's\", \"'empowerment\", 'leplouff', \"hour's\", \"iles'\", 'maelström', 'ventually', 'gutterball', 'thekids', \"bibi's\", 'overplotted', 'thons', \"achilles'\", \"''independent\", \"film''\", \"'swimfan'\", 'collosum', 'drek', 'unclassifiably', \"parents'\", 'untugged', 'unplundered', \"'there\", 'zillionth', \"zaidan's\", \"'thank\", 'dateflick', \"hostess's\", \"baby's\", 'uncharismatically', 'allodi', 'nolden', 'higuchinsky', \"whaley's\", '28k', 'hamfisted', \"'worse\", \"ventura's\", \"porky's\", \"programs'\", 'amoses', \"'frankly\", \"harrison's\", \"humor\\x85it's\", 'prewarned', 'unencouraging', \"perry's\", \"preschooler's\", 'nutjob', \"goodall's\", \"redgrave's\", \"friend's\", \"'ace\", \"ventura'\", \"'credit'\", 'overemphatic', \"cryin'\", 'lástima', 'estafeta', 'puportedly', 'corruscating', 'inconsequentiality', 'repulsively', \"barrie's\", \"makhmalbaf's\", \"marriage's\", \"'get\", \"'true\", \"story'\", \"wilder's\", \"'chick\", \"flicks'\", \"o'neill's\", 'deadeningly', 'laboriousness', \"chelsea's\", 'dumbfoundingly', 'ooky', 'spookies', \"mcconaughey's\", \"ole'\", \"'comedy\", \"muccino's\", 'clutchy', \"bob's\", \"all's\", \"bundy's\", \"'artistically'\", 'unrecommendable', 'shayamalan', \"holland's\", \"nettelbeck's\", \"chaplin's\", \"1980's\", \"kaige's\", 'greasiest', \"who'd\", \"'significant'\", \"arnold's\", \"redford's\", 'solondzian', 'real\\x97she', 'ihops', \"toro's\", \"rodrigues'\", 'villians', \"swimfan's\", \"'carente\", 'imaginación', 'ápice', 'pérdida', \"dinero'\", 'delibrately', \"hubert's\", \"'unfaithful'\", \"kilner's\", 'divertingly', 'headbangingly', 'fuhgeddaboutit', \"ghosts'\", \"stalk'n'slash\", \"fire's\", \"'you're\", \"worlds'\", \"'tonight\", \"wilco's\", \"morrissette's\", 'russos', \"'e'\", \"'b'\", 'wewannour', 'salaciously', \"frei's\", \"soldier's\", 'dogwalker', 'kazmierski', 'unsuspenseful', \"jewison's\", \"picture'\", 'humbuggery', 'qatsi', \"'great\", \"hope'\", \"novak's\", 'lapdance', 'interspliced', \"russos'\", 'siuation', \"rymer's\", \"jesus'\", \"clancy's\", \"stallone's\", \"giants'\", 'episódio', 'única', 'diferença', 'gosto', 'exibi', \"lanie's\", \"arm's\", 'meaningness', \"'dragonfly'\", \"scriptwriter's\", 'miscasts', \"donati's\", \"spinotti's\", \"lucy's\", \"hewitt's\", \"gilligan's\", \"farmer's\", \"'bold'\", \"belushi's\", 'likableness', \"'inspirational'\", \"'uplifting'\", \"subjects'\", 'elegiacally', 'ryanovich', \"'fish\", \"water'\", 'brûlée', \"bond's\", 'dridi', 'manqué', 'nerfs', 'dès', \"insider's\", \"'some\", \"body'\", 'ineptitudes', 'sailboaters', \"'classic'\", 'apallingly', \"1982's\", 'excrescence', \"ahola's\", 'costumey', 'espetáculo', 'possui', 'esteticamente', 'emocionalmente', \"'terrible\", \"filmmaking'\", \"true'\", \"'twist'\", \"'life\", \"problems'\", 'nrelentingly', \"springsteen's\", 'slowtime', \"bull's\", \"'woods'\", 'montied', \"sen's\", 'strainingly', \"gantzes'\", \"schindler's\", 'uberviolence', 'clericks', \"kate's\", \"gray's\", 'roisterous', \"'abandon\", \"here'\", \"dante's\", 'gymkata', \"long's\", \"boat's\", 'incompetência', 'superada', 'péssima', 'friendly\\x85', \"admission's\", 'slummy', 'kalvert', \"ritter's\", \"barrow's\", 'guessable', \"bears'\", \"dad's\", \"'sacre\", \"'magnifique'\", \"'edgy\", 'inducingly', 'cipherlike', 'landbound', \"'surprises\", \"ho's\", \"deniro's\", \"'sophisticated'\", \"'challenging'\", \"philip's\", 'hobnail', \"babbitt's\", 'psychodramatics', 'sermonize', \"canadian's\", 'intentando', 'rápidamente', 'transforma', 'absolutamente', 'predecible', \"'tap\", \"schaefer's\", \"sugarman's\", \"friggin'\", \"'garth'\", \"'wayne\", \"oleander's\", \"cronenberg's\", \"'videodrome\", 'meanspirited', \"'surprises'\", '\\x9170s', \"'butterfingered'\", \"'tron'\", 'coriat', \"'grandeur'\", 'splatterfests', \"marivaux's\", \"sorvino's\", 'ótimo', 'esforço', 'diretor', 'frustrado', 'roteiro', 'colocar', 'andamento', 'perde', 'instante', 'estranhos', 'acontecimentos', 'explicados', \"miramax's\", 'reconceptualize', \"someone's\", \"hitchcock's\", 'cirulnick', 'artsploitation', \"'just\", \"other's\", \"problem\\x85it's\", \"jason's\", \"cooper's\", \"macdowell's\", 'stagecrafts', \"'jason\", \"x'\", 'unsalvageability', \"williams'\", \"newfoundland's\", \"rinzler's\", \"liza's\", 'transfigures', \"'epic\", \"there'll\", \"dahmer's\", \"rodrigues's\", \"should've\", \"driver's\", \"cacoyannis'\", \"thing'\", \"'scream\", 'witlessness', \"attraction'\", \"ganesh's\", 'pollyana', \"sommers's\", \"cinema'\", \"'ah\", 'shapable', 'felinni', \"'zany'\", \"'funny\", \"'alternate\", \"reality'\", 'imponderably', \"matrix'\", 'pokepie', \"'topless\", \"'if\", \"kennedy's\", 'bruckheimeresque', \"'rare\", \"birds'\", 'derivativeness', 'versión', 'preciosista', 'ningún', \"'snow\", \"dogs'\", 'djeinaba', 'silbersteins', 'juiceless', \"scarlet's\", \"'been\", \"that'\", 'reeboir', \"'let's\", \"with'\", \"teens'\", 'self\\x85', \"slackers'\", \"sheridan's\", \"'tradition\", \"might've\", \"hurley's\", 'perfervid', \"'guy's\", \"phoenix's\", \"brosnan's\", 'bondish', 'underdramatized', \"brady's\", \"nadia's\", 'joylessly', 'emptily', \"becker's\", 'actory', \"'lick\", 'here\\x85', \"warden's\", 'gabbiest', \"'in\", \"'james\", \"generation'\", \"guys'\", \"'seeking\", \"rosemary's\", 'bazadona', 'tardier', \"michell's\", \"lai's\", \"comin'\", 'superficiale', \"tartakovsky's\", \"'girls\", \"wild'\", \"hall's\", \"salle's\", \"'dog'\", 'flck', \"passe'\", 'chopsocky', \"harris's\", \"lear's\", \"costner's\", 'fuddled', \"brothers'\", \"benjamins'\", 'adventues', \"'juvenile\", \"delinquent'\", 'movie\\x97if', \"romancer's\", 'necessidade', 'término', 'projeção', 'preocupe', 'ninguém', 'lhe', 'enviará', 'simbolizando', 'covardia', 'defeatingly', 'shoplifts', \"part'\", \"fool's\", 'unlaughable', \"o'\", '5ths', 'shakesperean', 'amusedly', \"'linklater\", \"weil's\", 'snoots', \"'masterpiece'\", \"'triumph'\", 'shlockmeister']\n",
      "Number of OOV words: 1760\n"
     ]
    }
   ],
   "source": [
    "def load_glove_vocab(filepath):\n",
    "    glove_vocab = set()\n",
    "    \n",
    "    with open(filepath, encoding=\"utf8\") as f:\n",
    "        for line in f:\n",
    "            word, *vector = line.split()\n",
    "            glove_vocab.add(word)\n",
    "\n",
    "    return glove_vocab\n",
    "\n",
    "# Load Glove words into a set\n",
    "glove_vocab = load_glove_vocab('glove.6B.300d.txt')\n",
    "\n",
    "# Identify OOV words (Words appeared in training data but not in the GloVe dictionary)\n",
    "oov_words = []\n",
    "\n",
    "for word in tokenizer.word_index:\n",
    "  if word not in glove_vocab:\n",
    "    oov_words.append(word)\n",
    "\n",
    "# Print OOV words\n",
    "print(\"Size of Glove Vocabulary:\", len(glove_vocab))\n",
    "print(\"Out-Of-Vocabulary Words:\", oov_words)\n",
    "print(\"Number of OOV words:\", len(oov_words))"
   ]
  },
  {
   "cell_type": "markdown",
   "id": "177ad03b",
   "metadata": {
    "papermill": {
     "duration": 0.12128,
     "end_time": "2024-11-09T01:38:59.141821",
     "exception": false,
     "start_time": "2024-11-09T01:38:59.020541",
     "status": "completed"
    },
    "tags": []
   },
   "source": [
    "# RNN with raw unprocessed data and frozen embedding layer"
   ]
  },
  {
   "cell_type": "code",
   "execution_count": 7,
   "id": "4a76d745",
   "metadata": {
    "execution": {
     "iopub.execute_input": "2024-11-09T01:38:59.302728Z",
     "iopub.status.busy": "2024-11-09T01:38:59.302304Z",
     "iopub.status.idle": "2024-11-09T01:38:59.865471Z",
     "shell.execute_reply": "2024-11-09T01:38:59.864656Z"
    },
    "papermill": {
     "duration": 0.648554,
     "end_time": "2024-11-09T01:38:59.867716",
     "exception": false,
     "start_time": "2024-11-09T01:38:59.219162",
     "status": "completed"
    },
    "tags": []
   },
   "outputs": [],
   "source": [
    "test_text = test_dataset['text']\n",
    "val_text = validation_dataset['text']\n",
    "\n",
    "raw_train_text = train_text\n",
    "raw_val_text = val_text\n",
    "raw_test_text = test_text\n",
    "\n",
    "raw_train_sequences = tokenizer.texts_to_sequences(raw_train_text)\n",
    "raw_val_sequences = tokenizer.texts_to_sequences(raw_val_text)\n",
    "raw_test_sequences = tokenizer.texts_to_sequences(raw_test_text)\n",
    "\n",
    "tokenizer = Tokenizer(oov_token='<UNK>')  # <UNK> for unseen words\n",
    "tokenizer.fit_on_texts(raw_train_text)\n",
    "\n",
    "max_seq_len = 100\n",
    "tokenizer.word_index['<PAD>'] = 0\n",
    "\n",
    "# Pad sequences\n",
    "raw_train_padded = pad_sequences(raw_train_sequences, maxlen=max_seq_len, padding='post', value=tokenizer.word_index['<PAD>'])\n",
    "raw_val_padded = pad_sequences(raw_val_sequences, maxlen=max_seq_len, padding='post', value=tokenizer.word_index['<PAD>'])\n",
    "raw_test_padded = pad_sequences(raw_test_sequences, maxlen=max_seq_len, padding='post', value=tokenizer.word_index['<PAD>'])\n",
    "\n",
    "# Labels\n",
    "train_labels = np.array(train_dataset['label'])\n",
    "val_labels = np.array(validation_dataset['label'])\n",
    "test_labels = np.array(test_dataset['label'])"
   ]
  },
  {
   "cell_type": "code",
   "execution_count": 8,
   "id": "a0c22fe4",
   "metadata": {
    "execution": {
     "iopub.execute_input": "2024-11-09T01:39:00.027125Z",
     "iopub.status.busy": "2024-11-09T01:39:00.026773Z",
     "iopub.status.idle": "2024-11-09T01:39:32.831740Z",
     "shell.execute_reply": "2024-11-09T01:39:32.830738Z"
    },
    "papermill": {
     "duration": 32.963783,
     "end_time": "2024-11-09T01:39:32.912753",
     "exception": false,
     "start_time": "2024-11-09T01:38:59.948970",
     "status": "completed"
    },
    "tags": []
   },
   "outputs": [
    {
     "name": "stdout",
     "output_type": "stream",
     "text": [
      "Embedding Matrix Shape=>  torch.Size([17453, 300])\n",
      "Dense vector for UNK token is =>  tensor([0., 0., 0., 0., 0., 0., 0., 0., 0., 0., 0., 0., 0., 0., 0., 0., 0., 0., 0., 0., 0., 0., 0., 0.,\n",
      "        0., 0., 0., 0., 0., 0., 0., 0., 0., 0., 0., 0., 0., 0., 0., 0., 0., 0., 0., 0., 0., 0., 0., 0.,\n",
      "        0., 0., 0., 0., 0., 0., 0., 0., 0., 0., 0., 0., 0., 0., 0., 0., 0., 0., 0., 0., 0., 0., 0., 0.,\n",
      "        0., 0., 0., 0., 0., 0., 0., 0., 0., 0., 0., 0., 0., 0., 0., 0., 0., 0., 0., 0., 0., 0., 0., 0.,\n",
      "        0., 0., 0., 0., 0., 0., 0., 0., 0., 0., 0., 0., 0., 0., 0., 0., 0., 0., 0., 0., 0., 0., 0., 0.,\n",
      "        0., 0., 0., 0., 0., 0., 0., 0., 0., 0., 0., 0., 0., 0., 0., 0., 0., 0., 0., 0., 0., 0., 0., 0.,\n",
      "        0., 0., 0., 0., 0., 0., 0., 0., 0., 0., 0., 0., 0., 0., 0., 0., 0., 0., 0., 0., 0., 0., 0., 0.,\n",
      "        0., 0., 0., 0., 0., 0., 0., 0., 0., 0., 0., 0., 0., 0., 0., 0., 0., 0., 0., 0., 0., 0., 0., 0.,\n",
      "        0., 0., 0., 0., 0., 0., 0., 0., 0., 0., 0., 0., 0., 0., 0., 0., 0., 0., 0., 0., 0., 0., 0., 0.,\n",
      "        0., 0., 0., 0., 0., 0., 0., 0., 0., 0., 0., 0., 0., 0., 0., 0., 0., 0., 0., 0., 0., 0., 0., 0.,\n",
      "        0., 0., 0., 0., 0., 0., 0., 0., 0., 0., 0., 0., 0., 0., 0., 0., 0., 0., 0., 0., 0., 0., 0., 0.,\n",
      "        0., 0., 0., 0., 0., 0., 0., 0., 0., 0., 0., 0., 0., 0., 0., 0., 0., 0., 0., 0., 0., 0., 0., 0.,\n",
      "        0., 0., 0., 0., 0., 0., 0., 0., 0., 0., 0., 0.])\n"
     ]
    }
   ],
   "source": [
    "def create_vector_matrix(filepath, word_index, embedding_dim):\n",
    "    # Calculate the size of the vocabulary (including UNK token)\n",
    "    vocab_size = len(word_index)\n",
    "    embedding_matrix = np.zeros((vocab_size, embedding_dim))\n",
    "\n",
    "    # Load GloVe vectors from the file\n",
    "    glove_embeddings = {}\n",
    "\n",
    "    with open(filepath, encoding=\"utf8\") as f:\n",
    "        for line in f:\n",
    "            word, *vector = line.split()\n",
    "            glove_embeddings[word] = np.array(vector, dtype=np.float32)\n",
    "\n",
    "    # Create the embedding matrix\n",
    "    for word, idx in word_index.items():\n",
    "        if word in glove_embeddings:\n",
    "            embedding_matrix[idx] = glove_embeddings[word]\n",
    "        else:\n",
    "            # Set the embedding to zero if word is OOV (including <UNK>)\n",
    "            embedding_matrix[idx] = np.zeros(embedding_dim)\n",
    "\n",
    "    return torch.tensor(embedding_matrix, dtype=torch.float32)\n",
    "\n",
    "# Example usage with GloVe 300-dimensional embeddings\n",
    "embedding_dim = 300\n",
    "embedding_matrix = create_vector_matrix('glove.6B.300d.txt', tokenizer.word_index, embedding_dim)\n",
    "\n",
    "# No. of rows should be equal to vocab size, no. of columns should be equal to vector dimension\n",
    "print(\"Embedding Matrix Shape=> \", embedding_matrix.shape)\n",
    "\n",
    "# Print the dense vector for the UNK token\n",
    "unk_idx = tokenizer.word_index[\"<UNK>\"]\n",
    "print(\"Dense vector for UNK token is => \", embedding_matrix[unk_idx])"
   ]
  },
  {
   "cell_type": "code",
   "execution_count": 9,
   "id": "21426eac",
   "metadata": {
    "execution": {
     "iopub.execute_input": "2024-11-09T01:39:33.070457Z",
     "iopub.status.busy": "2024-11-09T01:39:33.070065Z",
     "iopub.status.idle": "2024-11-09T01:39:33.075480Z",
     "shell.execute_reply": "2024-11-09T01:39:33.074556Z"
    },
    "papermill": {
     "duration": 0.086481,
     "end_time": "2024-11-09T01:39:33.077294",
     "exception": false,
     "start_time": "2024-11-09T01:39:32.990813",
     "status": "completed"
    },
    "tags": []
   },
   "outputs": [],
   "source": [
    "hidden_dim = 64\n",
    "embedding_dim = 300\n",
    "vocab_size = len(tokenizer.word_index)\n",
    "output_dim = 1\n",
    "batch_size = 64\n",
    "\n",
    "no_epochs = 50\n",
    "lr = 0.001\n",
    "patience = 3\n",
    "\n",
    "# Add early stopping\n",
    "early_stopper = EarlyStopping(monitor='val_accuracy', mode='max', patience=patience, restore_best_weights=True)"
   ]
  },
  {
   "cell_type": "code",
   "execution_count": 10,
   "id": "db357e3f",
   "metadata": {
    "execution": {
     "iopub.execute_input": "2024-11-09T01:39:33.233141Z",
     "iopub.status.busy": "2024-11-09T01:39:33.232831Z",
     "iopub.status.idle": "2024-11-09T01:39:34.268492Z",
     "shell.execute_reply": "2024-11-09T01:39:34.267669Z"
    },
    "papermill": {
     "duration": 1.115593,
     "end_time": "2024-11-09T01:39:34.270372",
     "exception": false,
     "start_time": "2024-11-09T01:39:33.154779",
     "status": "completed"
    },
    "tags": []
   },
   "outputs": [
    {
     "name": "stderr",
     "output_type": "stream",
     "text": [
      "/opt/conda/lib/python3.10/site-packages/keras/src/layers/core/embedding.py:93: UserWarning: Do not pass an `input_shape`/`input_dim` argument to a layer. When using Sequential models, prefer using an `Input(shape)` object as the first layer in the model instead.\n",
      "  super().__init__(**kwargs)\n"
     ]
    },
    {
     "data": {
      "text/html": [
       "<pre style=\"white-space:pre;overflow-x:auto;line-height:normal;font-family:Menlo,'DejaVu Sans Mono',consolas,'Courier New',monospace\"><span style=\"font-weight: bold\">Model: \"sequential\"</span>\n",
       "</pre>\n"
      ],
      "text/plain": [
       "\u001b[1mModel: \"sequential\"\u001b[0m\n"
      ]
     },
     "metadata": {},
     "output_type": "display_data"
    },
    {
     "data": {
      "text/html": [
       "<pre style=\"white-space:pre;overflow-x:auto;line-height:normal;font-family:Menlo,'DejaVu Sans Mono',consolas,'Courier New',monospace\">┏━━━━━━━━━━━━━━━━━━━━━━━━━━━━━━━━━┳━━━━━━━━━━━━━━━━━━━━━━━━┳━━━━━━━━━━━━━━━┓\n",
       "┃<span style=\"font-weight: bold\"> Layer (type)                    </span>┃<span style=\"font-weight: bold\"> Output Shape           </span>┃<span style=\"font-weight: bold\">       Param # </span>┃\n",
       "┡━━━━━━━━━━━━━━━━━━━━━━━━━━━━━━━━━╇━━━━━━━━━━━━━━━━━━━━━━━━╇━━━━━━━━━━━━━━━┩\n",
       "│ embedding (<span style=\"color: #0087ff; text-decoration-color: #0087ff\">Embedding</span>)           │ (<span style=\"color: #00d7ff; text-decoration-color: #00d7ff\">None</span>, <span style=\"color: #00af00; text-decoration-color: #00af00\">100</span>, <span style=\"color: #00af00; text-decoration-color: #00af00\">300</span>)       │     <span style=\"color: #00af00; text-decoration-color: #00af00\">5,235,900</span> │\n",
       "├─────────────────────────────────┼────────────────────────┼───────────────┤\n",
       "│ simple_rnn (<span style=\"color: #0087ff; text-decoration-color: #0087ff\">SimpleRNN</span>)          │ (<span style=\"color: #00d7ff; text-decoration-color: #00d7ff\">None</span>, <span style=\"color: #00af00; text-decoration-color: #00af00\">64</span>)             │        <span style=\"color: #00af00; text-decoration-color: #00af00\">23,360</span> │\n",
       "├─────────────────────────────────┼────────────────────────┼───────────────┤\n",
       "│ dense (<span style=\"color: #0087ff; text-decoration-color: #0087ff\">Dense</span>)                   │ (<span style=\"color: #00d7ff; text-decoration-color: #00d7ff\">None</span>, <span style=\"color: #00af00; text-decoration-color: #00af00\">1</span>)              │            <span style=\"color: #00af00; text-decoration-color: #00af00\">65</span> │\n",
       "└─────────────────────────────────┴────────────────────────┴───────────────┘\n",
       "</pre>\n"
      ],
      "text/plain": [
       "┏━━━━━━━━━━━━━━━━━━━━━━━━━━━━━━━━━┳━━━━━━━━━━━━━━━━━━━━━━━━┳━━━━━━━━━━━━━━━┓\n",
       "┃\u001b[1m \u001b[0m\u001b[1mLayer (type)                   \u001b[0m\u001b[1m \u001b[0m┃\u001b[1m \u001b[0m\u001b[1mOutput Shape          \u001b[0m\u001b[1m \u001b[0m┃\u001b[1m \u001b[0m\u001b[1m      Param #\u001b[0m\u001b[1m \u001b[0m┃\n",
       "┡━━━━━━━━━━━━━━━━━━━━━━━━━━━━━━━━━╇━━━━━━━━━━━━━━━━━━━━━━━━╇━━━━━━━━━━━━━━━┩\n",
       "│ embedding (\u001b[38;5;33mEmbedding\u001b[0m)           │ (\u001b[38;5;45mNone\u001b[0m, \u001b[38;5;34m100\u001b[0m, \u001b[38;5;34m300\u001b[0m)       │     \u001b[38;5;34m5,235,900\u001b[0m │\n",
       "├─────────────────────────────────┼────────────────────────┼───────────────┤\n",
       "│ simple_rnn (\u001b[38;5;33mSimpleRNN\u001b[0m)          │ (\u001b[38;5;45mNone\u001b[0m, \u001b[38;5;34m64\u001b[0m)             │        \u001b[38;5;34m23,360\u001b[0m │\n",
       "├─────────────────────────────────┼────────────────────────┼───────────────┤\n",
       "│ dense (\u001b[38;5;33mDense\u001b[0m)                   │ (\u001b[38;5;45mNone\u001b[0m, \u001b[38;5;34m1\u001b[0m)              │            \u001b[38;5;34m65\u001b[0m │\n",
       "└─────────────────────────────────┴────────────────────────┴───────────────┘\n"
      ]
     },
     "metadata": {},
     "output_type": "display_data"
    },
    {
     "data": {
      "text/html": [
       "<pre style=\"white-space:pre;overflow-x:auto;line-height:normal;font-family:Menlo,'DejaVu Sans Mono',consolas,'Courier New',monospace\"><span style=\"font-weight: bold\"> Total params: </span><span style=\"color: #00af00; text-decoration-color: #00af00\">5,259,325</span> (20.06 MB)\n",
       "</pre>\n"
      ],
      "text/plain": [
       "\u001b[1m Total params: \u001b[0m\u001b[38;5;34m5,259,325\u001b[0m (20.06 MB)\n"
      ]
     },
     "metadata": {},
     "output_type": "display_data"
    },
    {
     "data": {
      "text/html": [
       "<pre style=\"white-space:pre;overflow-x:auto;line-height:normal;font-family:Menlo,'DejaVu Sans Mono',consolas,'Courier New',monospace\"><span style=\"font-weight: bold\"> Trainable params: </span><span style=\"color: #00af00; text-decoration-color: #00af00\">23,425</span> (91.50 KB)\n",
       "</pre>\n"
      ],
      "text/plain": [
       "\u001b[1m Trainable params: \u001b[0m\u001b[38;5;34m23,425\u001b[0m (91.50 KB)\n"
      ]
     },
     "metadata": {},
     "output_type": "display_data"
    },
    {
     "data": {
      "text/html": [
       "<pre style=\"white-space:pre;overflow-x:auto;line-height:normal;font-family:Menlo,'DejaVu Sans Mono',consolas,'Courier New',monospace\"><span style=\"font-weight: bold\"> Non-trainable params: </span><span style=\"color: #00af00; text-decoration-color: #00af00\">5,235,900</span> (19.97 MB)\n",
       "</pre>\n"
      ],
      "text/plain": [
       "\u001b[1m Non-trainable params: \u001b[0m\u001b[38;5;34m5,235,900\u001b[0m (19.97 MB)\n"
      ]
     },
     "metadata": {},
     "output_type": "display_data"
    }
   ],
   "source": [
    "# Simple RNN Model\n",
    "simple_rnn = Sequential([\n",
    "    Embedding(input_dim=vocab_size,\n",
    "              output_dim=embedding_dim,\n",
    "              input_shape=(max_seq_len,),\n",
    "              weights=[embedding_matrix],\n",
    "              mask_zero=True,\n",
    "              trainable=False),\n",
    "    SimpleRNN(units=hidden_dim), # RNN Layer\n",
    "    Dense(output_dim, activation='sigmoid') # 1 dense (FC) layer for binary classification\n",
    "])\n",
    "\n",
    "simple_rnn.compile(loss=\"binary_crossentropy\", optimizer=\"adam\", metrics=[\"accuracy\"])\n",
    "\n",
    "simple_rnn.summary()"
   ]
  },
  {
   "cell_type": "code",
   "execution_count": 11,
   "id": "67d54c9a",
   "metadata": {
    "execution": {
     "iopub.execute_input": "2024-11-09T01:39:34.430694Z",
     "iopub.status.busy": "2024-11-09T01:39:34.430323Z",
     "iopub.status.idle": "2024-11-09T01:39:49.684852Z",
     "shell.execute_reply": "2024-11-09T01:39:49.683895Z"
    },
    "papermill": {
     "duration": 15.337775,
     "end_time": "2024-11-09T01:39:49.686944",
     "exception": false,
     "start_time": "2024-11-09T01:39:34.349169",
     "status": "completed"
    },
    "tags": []
   },
   "outputs": [
    {
     "name": "stdout",
     "output_type": "stream",
     "text": [
      "Epoch 1/50\n"
     ]
    },
    {
     "name": "stderr",
     "output_type": "stream",
     "text": [
      "WARNING: All log messages before absl::InitializeLog() is called are written to STDERR\n",
      "I0000 00:00:1731116376.359184      95 service.cc:145] XLA service 0x7ef5e4015a10 initialized for platform CUDA (this does not guarantee that XLA will be used). Devices:\n",
      "I0000 00:00:1731116376.359233      95 service.cc:153]   StreamExecutor device (0): Tesla P100-PCIE-16GB, Compute Capability 6.0\n"
     ]
    },
    {
     "name": "stdout",
     "output_type": "stream",
     "text": [
      "\u001b[1m 18/134\u001b[0m \u001b[32m━━\u001b[0m\u001b[37m━━━━━━━━━━━━━━━━━━\u001b[0m \u001b[1m1s\u001b[0m 10ms/step - accuracy: 0.5014 - loss: 0.7497"
     ]
    },
    {
     "name": "stderr",
     "output_type": "stream",
     "text": [
      "I0000 00:00:1731116377.374956      95 device_compiler.h:188] Compiled cluster using XLA!  This line is logged at most once for the lifetime of the process.\n"
     ]
    },
    {
     "name": "stdout",
     "output_type": "stream",
     "text": [
      "\u001b[1m134/134\u001b[0m \u001b[32m━━━━━━━━━━━━━━━━━━━━\u001b[0m\u001b[37m\u001b[0m \u001b[1m6s\u001b[0m 21ms/step - accuracy: 0.5255 - loss: 0.7161 - val_accuracy: 0.5469 - val_loss: 0.6885\n",
      "Epoch 2/50\n",
      "\u001b[1m134/134\u001b[0m \u001b[32m━━━━━━━━━━━━━━━━━━━━\u001b[0m\u001b[37m\u001b[0m \u001b[1m1s\u001b[0m 10ms/step - accuracy: 0.6134 - loss: 0.6535 - val_accuracy: 0.5844 - val_loss: 0.6750\n",
      "Epoch 3/50\n",
      "\u001b[1m134/134\u001b[0m \u001b[32m━━━━━━━━━━━━━━━━━━━━\u001b[0m\u001b[37m\u001b[0m \u001b[1m1s\u001b[0m 10ms/step - accuracy: 0.6538 - loss: 0.6198 - val_accuracy: 0.5535 - val_loss: 0.7051\n",
      "Epoch 4/50\n",
      "\u001b[1m134/134\u001b[0m \u001b[32m━━━━━━━━━━━━━━━━━━━━\u001b[0m\u001b[37m\u001b[0m \u001b[1m1s\u001b[0m 10ms/step - accuracy: 0.6702 - loss: 0.6040 - val_accuracy: 0.5779 - val_loss: 0.7045\n",
      "Epoch 5/50\n",
      "\u001b[1m134/134\u001b[0m \u001b[32m━━━━━━━━━━━━━━━━━━━━\u001b[0m\u001b[37m\u001b[0m \u001b[1m1s\u001b[0m 10ms/step - accuracy: 0.6915 - loss: 0.5771 - val_accuracy: 0.5872 - val_loss: 0.7034\n",
      "Epoch 6/50\n",
      "\u001b[1m134/134\u001b[0m \u001b[32m━━━━━━━━━━━━━━━━━━━━\u001b[0m\u001b[37m\u001b[0m \u001b[1m1s\u001b[0m 10ms/step - accuracy: 0.7143 - loss: 0.5490 - val_accuracy: 0.5741 - val_loss: 0.7391\n",
      "Epoch 7/50\n",
      "\u001b[1m134/134\u001b[0m \u001b[32m━━━━━━━━━━━━━━━━━━━━\u001b[0m\u001b[37m\u001b[0m \u001b[1m1s\u001b[0m 10ms/step - accuracy: 0.7333 - loss: 0.5348 - val_accuracy: 0.5863 - val_loss: 0.7292\n",
      "Epoch 8/50\n",
      "\u001b[1m134/134\u001b[0m \u001b[32m━━━━━━━━━━━━━━━━━━━━\u001b[0m\u001b[37m\u001b[0m \u001b[1m1s\u001b[0m 10ms/step - accuracy: 0.7551 - loss: 0.5052 - val_accuracy: 0.5535 - val_loss: 0.7765\n"
     ]
    }
   ],
   "source": [
    "history = simple_rnn.fit(raw_train_padded, train_labels,\n",
    "                         epochs=no_epochs,\n",
    "                         batch_size=batch_size,\n",
    "                         validation_data=(raw_val_padded, val_labels),\n",
    "                         callbacks=[early_stopper])"
   ]
  },
  {
   "cell_type": "code",
   "execution_count": 12,
   "id": "ca441191",
   "metadata": {
    "execution": {
     "iopub.execute_input": "2024-11-09T01:39:49.877977Z",
     "iopub.status.busy": "2024-11-09T01:39:49.877250Z",
     "iopub.status.idle": "2024-11-09T01:39:50.596276Z",
     "shell.execute_reply": "2024-11-09T01:39:50.595241Z"
    },
    "papermill": {
     "duration": 0.815612,
     "end_time": "2024-11-09T01:39:50.598234",
     "exception": false,
     "start_time": "2024-11-09T01:39:49.782622",
     "status": "completed"
    },
    "tags": []
   },
   "outputs": [
    {
     "name": "stdout",
     "output_type": "stream",
     "text": [
      "\u001b[1m34/34\u001b[0m \u001b[32m━━━━━━━━━━━━━━━━━━━━\u001b[0m\u001b[37m\u001b[0m \u001b[1m1s\u001b[0m 12ms/step - accuracy: 0.7401 - loss: 0.5741\n",
      "Test Loss: 0.7293897867202759\n",
      "Test Accuracy: 58.07%\n"
     ]
    }
   ],
   "source": [
    "test_loss, test_accuracy = simple_rnn.evaluate(raw_test_padded, test_labels)\n",
    "\n",
    "print(f'Test Loss: {test_loss}')\n",
    "print(f'Test Accuracy: {test_accuracy * 100:.2f}%')"
   ]
  },
  {
   "cell_type": "code",
   "execution_count": 13,
   "id": "a086021a",
   "metadata": {
    "execution": {
     "iopub.execute_input": "2024-11-09T01:39:50.791138Z",
     "iopub.status.busy": "2024-11-09T01:39:50.790143Z",
     "iopub.status.idle": "2024-11-09T01:39:50.800102Z",
     "shell.execute_reply": "2024-11-09T01:39:50.799204Z"
    },
    "papermill": {
     "duration": 0.107494,
     "end_time": "2024-11-09T01:39:50.801937",
     "exception": false,
     "start_time": "2024-11-09T01:39:50.694443",
     "status": "completed"
    },
    "tags": []
   },
   "outputs": [],
   "source": [
    "# https://www.tensorflow.org/tutorials/keras/keras_tuner\n",
    "# Hyperparameter tuning\n",
    "def build_model(hp):\n",
    "    model = Sequential()\n",
    "\n",
    "    # Embedding layer (fixed)\n",
    "    model.add(Embedding(input_dim=vocab_size,\n",
    "                        output_dim=embedding_dim,\n",
    "                        input_length=max_seq_len,\n",
    "                        weights=[embedding_matrix],\n",
    "                        mask_zero=True,\n",
    "                        trainable=False))\n",
    "\n",
    "    # RNN layer (Tune between 64 and 256 neurons)\n",
    "    hidden_dim = hp.Choice('hidden_dim', [64, 128, 256]) # Tune between 64 and 256 neurons\n",
    "    model.add(SimpleRNN(units=hidden_dim, return_sequences=False))\n",
    "\n",
    "    # Tuning the number of FC (dense) layers\n",
    "    for i in range(hp.Int('num_layers', 0, 3)):  # Tune between 0 and 3 FC layers\n",
    "        units = hp.Choice(f'units_{i}', [32, 64, 128, 256]) # Tune between 32 and 256 neurons\n",
    "        model.add(Dense(units, activation='relu'))\n",
    "        \n",
    "    # Output layer\n",
    "    model.add(Dense(1, activation='sigmoid'))  # Binary classification\n",
    "\n",
    "    # Tune the learning rate for the optimizer\n",
    "    learning_rate = hp.Choice('learning_rate', [1e-3, 1e-4, 1e-5])  # Tune learning rate\n",
    "    optimizer = hp.Choice('optimizer', ['adam', 'SGD'])\n",
    "    \n",
    "    if optimizer == 'adam':\n",
    "        optimizer = tf.keras.optimizers.Adam(learning_rate=learning_rate)\n",
    "    elif optimizer == 'SGD':\n",
    "        optimizer = tf.keras.optimizers.SGD(learning_rate=learning_rate)\n",
    "        \n",
    "    # Compile the model, we decided to use Adam optimizer\n",
    "    model.compile(optimizer=optimizer,\n",
    "                  loss='binary_crossentropy', metrics=['accuracy'])\n",
    "\n",
    "    return model"
   ]
  },
  {
   "cell_type": "code",
   "execution_count": null,
   "id": "ad45fff8",
   "metadata": {
    "execution": {
     "iopub.execute_input": "2024-11-09T01:39:50.990513Z",
     "iopub.status.busy": "2024-11-09T01:39:50.990152Z",
     "iopub.status.idle": "2024-11-09T01:51:57.355877Z",
     "shell.execute_reply": "2024-11-09T01:51:57.354809Z"
    },
    "papermill": {
     "duration": 726.462227,
     "end_time": "2024-11-09T01:51:57.357916",
     "exception": false,
     "start_time": "2024-11-09T01:39:50.895689",
     "status": "completed"
    },
    "tags": []
   },
   "outputs": [
    {
     "name": "stdout",
     "output_type": "stream",
     "text": [
      "Trial 20 Complete [00h 00m 18s]\n",
      "val_accuracy: 0.5112570524215698\n",
      "\n",
      "Best val_accuracy So Far: 0.6153846383094788\n",
      "Total elapsed time: 00h 12m 06s\n"
     ]
    }
   ],
   "source": [
    "# Define the BayesianOptimization tuner\n",
    "tuner = kt.BayesianOptimization(\n",
    "    build_model,  # The model-building function\n",
    "    objective='val_accuracy',  # Optimize for validation accuracy\n",
    "    max_trials=20,\n",
    "    num_initial_points=5,\n",
    "    directory='/content/',\n",
    "    project_name='300d_test')\n",
    "\n",
    "early_stopper = EarlyStopping(monitor='val_accuracy', mode='max', patience=patience, restore_best_weights=True)\n",
    "\n",
    "# Perform the search for best hyperparameters\n",
    "tuner.search(raw_train_padded, train_labels,\n",
    "             epochs=20,\n",
    "             batch_size=tuner.oracle.hyperparameters.Choice('batch_size', [32, 64, 128]),  # Tune batch size\n",
    "             validation_data=(raw_val_padded, val_labels),\n",
    "             callbacks=[early_stopper])"
   ]
  },
  {
   "cell_type": "code",
   "execution_count": 15,
   "id": "c38ba68a",
   "metadata": {
    "execution": {
     "iopub.execute_input": "2024-11-09T01:51:57.549549Z",
     "iopub.status.busy": "2024-11-09T01:51:57.548662Z",
     "iopub.status.idle": "2024-11-09T01:51:57.555461Z",
     "shell.execute_reply": "2024-11-09T01:51:57.554365Z"
    },
    "papermill": {
     "duration": 0.10498,
     "end_time": "2024-11-09T01:51:57.557771",
     "exception": false,
     "start_time": "2024-11-09T01:51:57.452791",
     "status": "completed"
    },
    "tags": []
   },
   "outputs": [
    {
     "name": "stdout",
     "output_type": "stream",
     "text": [
      "hidden_dim : 256\n",
      "num_layers : 2\n",
      "learning_rate : 0.0001\n",
      "optimizer : adam\n",
      "batch_size : 64\n",
      "units_0 : 32\n",
      "units_1 : 32\n"
     ]
    }
   ],
   "source": [
    "# Get best hyperparameters\n",
    "best_hps = tuner.get_best_hyperparameters(num_trials=1)[0]\n",
    "\n",
    "for key in best_hps.values:\n",
    "  print(key, \":\", best_hps.get(key))"
   ]
  },
  {
   "cell_type": "code",
   "execution_count": 16,
   "id": "9e1634aa",
   "metadata": {
    "execution": {
     "iopub.execute_input": "2024-11-09T01:51:57.747078Z",
     "iopub.status.busy": "2024-11-09T01:51:57.746779Z",
     "iopub.status.idle": "2024-11-09T01:52:28.349264Z",
     "shell.execute_reply": "2024-11-09T01:52:28.348358Z"
    },
    "papermill": {
     "duration": 30.699808,
     "end_time": "2024-11-09T01:52:28.351687",
     "exception": false,
     "start_time": "2024-11-09T01:51:57.651879",
     "status": "completed"
    },
    "tags": []
   },
   "outputs": [
    {
     "name": "stdout",
     "output_type": "stream",
     "text": [
      "Epoch 1/50\n",
      "\u001b[1m134/134\u001b[0m \u001b[32m━━━━━━━━━━━━━━━━━━━━\u001b[0m\u001b[37m\u001b[0m \u001b[1m6s\u001b[0m 23ms/step - accuracy: 0.4987 - loss: 0.7031 - val_accuracy: 0.5291 - val_loss: 0.6904\n",
      "Epoch 2/50\n",
      "\u001b[1m134/134\u001b[0m \u001b[32m━━━━━━━━━━━━━━━━━━━━\u001b[0m\u001b[37m\u001b[0m \u001b[1m2s\u001b[0m 12ms/step - accuracy: 0.5850 - loss: 0.6739 - val_accuracy: 0.5441 - val_loss: 0.6838\n",
      "Epoch 3/50\n",
      "\u001b[1m134/134\u001b[0m \u001b[32m━━━━━━━━━━━━━━━━━━━━\u001b[0m\u001b[37m\u001b[0m \u001b[1m2s\u001b[0m 12ms/step - accuracy: 0.6344 - loss: 0.6467 - val_accuracy: 0.5610 - val_loss: 0.6844\n",
      "Epoch 4/50\n",
      "\u001b[1m134/134\u001b[0m \u001b[32m━━━━━━━━━━━━━━━━━━━━\u001b[0m\u001b[37m\u001b[0m \u001b[1m2s\u001b[0m 12ms/step - accuracy: 0.6707 - loss: 0.6171 - val_accuracy: 0.5675 - val_loss: 0.6903\n",
      "Epoch 5/50\n",
      "\u001b[1m134/134\u001b[0m \u001b[32m━━━━━━━━━━━━━━━━━━━━\u001b[0m\u001b[37m\u001b[0m \u001b[1m2s\u001b[0m 12ms/step - accuracy: 0.6981 - loss: 0.5897 - val_accuracy: 0.5694 - val_loss: 0.6964\n",
      "Epoch 6/50\n",
      "\u001b[1m134/134\u001b[0m \u001b[32m━━━━━━━━━━━━━━━━━━━━\u001b[0m\u001b[37m\u001b[0m \u001b[1m2s\u001b[0m 12ms/step - accuracy: 0.7210 - loss: 0.5623 - val_accuracy: 0.5685 - val_loss: 0.7124\n",
      "Epoch 7/50\n",
      "\u001b[1m134/134\u001b[0m \u001b[32m━━━━━━━━━━━━━━━━━━━━\u001b[0m\u001b[37m\u001b[0m \u001b[1m2s\u001b[0m 12ms/step - accuracy: 0.7424 - loss: 0.5353 - val_accuracy: 0.5657 - val_loss: 0.7227\n",
      "Epoch 8/50\n",
      "\u001b[1m134/134\u001b[0m \u001b[32m━━━━━━━━━━━━━━━━━━━━\u001b[0m\u001b[37m\u001b[0m \u001b[1m2s\u001b[0m 12ms/step - accuracy: 0.7657 - loss: 0.5062 - val_accuracy: 0.5750 - val_loss: 0.7429\n",
      "Epoch 9/50\n",
      "\u001b[1m134/134\u001b[0m \u001b[32m━━━━━━━━━━━━━━━━━━━━\u001b[0m\u001b[37m\u001b[0m \u001b[1m2s\u001b[0m 12ms/step - accuracy: 0.7841 - loss: 0.4757 - val_accuracy: 0.5788 - val_loss: 0.7716\n",
      "Epoch 10/50\n",
      "\u001b[1m134/134\u001b[0m \u001b[32m━━━━━━━━━━━━━━━━━━━━\u001b[0m\u001b[37m\u001b[0m \u001b[1m2s\u001b[0m 12ms/step - accuracy: 0.8065 - loss: 0.4426 - val_accuracy: 0.5854 - val_loss: 0.7954\n",
      "Epoch 11/50\n",
      "\u001b[1m134/134\u001b[0m \u001b[32m━━━━━━━━━━━━━━━━━━━━\u001b[0m\u001b[37m\u001b[0m \u001b[1m2s\u001b[0m 12ms/step - accuracy: 0.8280 - loss: 0.4095 - val_accuracy: 0.5844 - val_loss: 0.8276\n",
      "Epoch 12/50\n",
      "\u001b[1m134/134\u001b[0m \u001b[32m━━━━━━━━━━━━━━━━━━━━\u001b[0m\u001b[37m\u001b[0m \u001b[1m2s\u001b[0m 12ms/step - accuracy: 0.8433 - loss: 0.3758 - val_accuracy: 0.5872 - val_loss: 0.8588\n",
      "Epoch 13/50\n",
      "\u001b[1m134/134\u001b[0m \u001b[32m━━━━━━━━━━━━━━━━━━━━\u001b[0m\u001b[37m\u001b[0m \u001b[1m2s\u001b[0m 12ms/step - accuracy: 0.8670 - loss: 0.3444 - val_accuracy: 0.5910 - val_loss: 0.9102\n",
      "Epoch 14/50\n",
      "\u001b[1m134/134\u001b[0m \u001b[32m━━━━━━━━━━━━━━━━━━━━\u001b[0m\u001b[37m\u001b[0m \u001b[1m2s\u001b[0m 12ms/step - accuracy: 0.8834 - loss: 0.3149 - val_accuracy: 0.5835 - val_loss: 0.9577\n",
      "Epoch 15/50\n",
      "\u001b[1m134/134\u001b[0m \u001b[32m━━━━━━━━━━━━━━━━━━━━\u001b[0m\u001b[37m\u001b[0m \u001b[1m2s\u001b[0m 12ms/step - accuracy: 0.8992 - loss: 0.2854 - val_accuracy: 0.5704 - val_loss: 1.1293\n",
      "Epoch 16/50\n",
      "\u001b[1m134/134\u001b[0m \u001b[32m━━━━━━━━━━━━━━━━━━━━\u001b[0m\u001b[37m\u001b[0m \u001b[1m2s\u001b[0m 12ms/step - accuracy: 0.9036 - loss: 0.2644 - val_accuracy: 0.5629 - val_loss: 1.0672\n"
     ]
    }
   ],
   "source": [
    "# Build model with best hyperparameters found and train it on data for 50 epochs\n",
    "model = tuner.hypermodel.build(best_hps)\n",
    "\n",
    "early_stopper = EarlyStopping(monitor='val_accuracy', mode='max', patience=patience, restore_best_weights=True)\n",
    "\n",
    "history = model.fit(raw_train_padded, train_labels,\n",
    "               epochs=no_epochs,\n",
    "               batch_size=best_hps.get('batch_size'),\n",
    "               validation_data=(raw_val_padded, val_labels),\n",
    "               callbacks=[early_stopper])"
   ]
  },
  {
   "cell_type": "code",
   "execution_count": 17,
   "id": "cdad9070",
   "metadata": {
    "execution": {
     "iopub.execute_input": "2024-11-09T01:52:28.644020Z",
     "iopub.status.busy": "2024-11-09T01:52:28.643634Z",
     "iopub.status.idle": "2024-11-09T01:52:29.192813Z",
     "shell.execute_reply": "2024-11-09T01:52:29.191768Z"
    },
    "papermill": {
     "duration": 0.70053,
     "end_time": "2024-11-09T01:52:29.194747",
     "exception": false,
     "start_time": "2024-11-09T01:52:28.494217",
     "status": "completed"
    },
    "tags": []
   },
   "outputs": [
    {
     "name": "stdout",
     "output_type": "stream",
     "text": [
      "\u001b[1m34/34\u001b[0m \u001b[32m━━━━━━━━━━━━━━━━━━━━\u001b[0m\u001b[37m\u001b[0m \u001b[1m0s\u001b[0m 9ms/step - accuracy: 0.6275 - loss: 0.7654\n",
      "Test Loss: 0.9134982824325562\n",
      "Test Accuracy: 58.35%\n"
     ]
    }
   ],
   "source": [
    "# Evaluate best model\n",
    "test_loss, test_accuracy = model.evaluate(raw_test_padded, test_labels)\n",
    "\n",
    "print(f'Test Loss: {test_loss}')\n",
    "print(f'Test Accuracy: {test_accuracy * 100:.2f}%')"
   ]
  },
  {
   "cell_type": "markdown",
   "id": "105e347d",
   "metadata": {
    "papermill": {
     "duration": 0.131028,
     "end_time": "2024-11-09T01:52:29.496761",
     "exception": false,
     "start_time": "2024-11-09T01:52:29.365733",
     "status": "completed"
    },
    "tags": []
   },
   "source": [
    "## With Average Pooling"
   ]
  },
  {
   "cell_type": "code",
   "execution_count": 18,
   "id": "65e7ad62",
   "metadata": {
    "execution": {
     "iopub.execute_input": "2024-11-09T01:52:29.759889Z",
     "iopub.status.busy": "2024-11-09T01:52:29.758974Z",
     "iopub.status.idle": "2024-11-09T01:52:29.766957Z",
     "shell.execute_reply": "2024-11-09T01:52:29.766043Z"
    },
    "papermill": {
     "duration": 0.141469,
     "end_time": "2024-11-09T01:52:29.768883",
     "exception": false,
     "start_time": "2024-11-09T01:52:29.627414",
     "status": "completed"
    },
    "tags": []
   },
   "outputs": [],
   "source": [
    "mean_pool_optimizer = None\n",
    "if best_hps.get('optimizer') == 'adam':\n",
    "    mean_pool_optimizer = tf.keras.optimizers.Adam(learning_rate=best_hps.get('learning_rate'))\n",
    "elif best_hps.get('optimizer') == 'SGD':\n",
    "    mean_pool_optimizer = tf.keras.optimizers.SGD(learning_rate=best_hps.get('learning_rate'))"
   ]
  },
  {
   "cell_type": "code",
   "execution_count": 19,
   "id": "88be73a3",
   "metadata": {
    "execution": {
     "iopub.execute_input": "2024-11-09T01:52:30.032157Z",
     "iopub.status.busy": "2024-11-09T01:52:30.031336Z",
     "iopub.status.idle": "2024-11-09T01:52:30.138019Z",
     "shell.execute_reply": "2024-11-09T01:52:30.137134Z"
    },
    "papermill": {
     "duration": 0.240657,
     "end_time": "2024-11-09T01:52:30.139915",
     "exception": false,
     "start_time": "2024-11-09T01:52:29.899258",
     "status": "completed"
    },
    "tags": []
   },
   "outputs": [
    {
     "name": "stderr",
     "output_type": "stream",
     "text": [
      "/opt/conda/lib/python3.10/site-packages/keras/src/layers/core/embedding.py:93: UserWarning: Do not pass an `input_shape`/`input_dim` argument to a layer. When using Sequential models, prefer using an `Input(shape)` object as the first layer in the model instead.\n",
      "  super().__init__(**kwargs)\n"
     ]
    },
    {
     "data": {
      "text/html": [
       "<pre style=\"white-space:pre;overflow-x:auto;line-height:normal;font-family:Menlo,'DejaVu Sans Mono',consolas,'Courier New',monospace\"><span style=\"font-weight: bold\">Model: \"sequential_2\"</span>\n",
       "</pre>\n"
      ],
      "text/plain": [
       "\u001b[1mModel: \"sequential_2\"\u001b[0m\n"
      ]
     },
     "metadata": {},
     "output_type": "display_data"
    },
    {
     "data": {
      "text/html": [
       "<pre style=\"white-space:pre;overflow-x:auto;line-height:normal;font-family:Menlo,'DejaVu Sans Mono',consolas,'Courier New',monospace\">┏━━━━━━━━━━━━━━━━━━━━━━━━━━━━━━━━━┳━━━━━━━━━━━━━━━━━━━━━━━━┳━━━━━━━━━━━━━━━┓\n",
       "┃<span style=\"font-weight: bold\"> Layer (type)                    </span>┃<span style=\"font-weight: bold\"> Output Shape           </span>┃<span style=\"font-weight: bold\">       Param # </span>┃\n",
       "┡━━━━━━━━━━━━━━━━━━━━━━━━━━━━━━━━━╇━━━━━━━━━━━━━━━━━━━━━━━━╇━━━━━━━━━━━━━━━┩\n",
       "│ embedding_2 (<span style=\"color: #0087ff; text-decoration-color: #0087ff\">Embedding</span>)         │ (<span style=\"color: #00d7ff; text-decoration-color: #00d7ff\">None</span>, <span style=\"color: #00af00; text-decoration-color: #00af00\">100</span>, <span style=\"color: #00af00; text-decoration-color: #00af00\">300</span>)       │     <span style=\"color: #00af00; text-decoration-color: #00af00\">5,235,900</span> │\n",
       "├─────────────────────────────────┼────────────────────────┼───────────────┤\n",
       "│ simple_rnn_2 (<span style=\"color: #0087ff; text-decoration-color: #0087ff\">SimpleRNN</span>)        │ (<span style=\"color: #00d7ff; text-decoration-color: #00d7ff\">None</span>, <span style=\"color: #00af00; text-decoration-color: #00af00\">100</span>, <span style=\"color: #00af00; text-decoration-color: #00af00\">256</span>)       │       <span style=\"color: #00af00; text-decoration-color: #00af00\">142,592</span> │\n",
       "├─────────────────────────────────┼────────────────────────┼───────────────┤\n",
       "│ global_average_pooling1d        │ (<span style=\"color: #00d7ff; text-decoration-color: #00d7ff\">None</span>, <span style=\"color: #00af00; text-decoration-color: #00af00\">256</span>)            │             <span style=\"color: #00af00; text-decoration-color: #00af00\">0</span> │\n",
       "│ (<span style=\"color: #0087ff; text-decoration-color: #0087ff\">GlobalAveragePooling1D</span>)        │                        │               │\n",
       "├─────────────────────────────────┼────────────────────────┼───────────────┤\n",
       "│ dense_6 (<span style=\"color: #0087ff; text-decoration-color: #0087ff\">Dense</span>)                 │ (<span style=\"color: #00d7ff; text-decoration-color: #00d7ff\">None</span>, <span style=\"color: #00af00; text-decoration-color: #00af00\">32</span>)             │         <span style=\"color: #00af00; text-decoration-color: #00af00\">8,224</span> │\n",
       "├─────────────────────────────────┼────────────────────────┼───────────────┤\n",
       "│ dense_7 (<span style=\"color: #0087ff; text-decoration-color: #0087ff\">Dense</span>)                 │ (<span style=\"color: #00d7ff; text-decoration-color: #00d7ff\">None</span>, <span style=\"color: #00af00; text-decoration-color: #00af00\">32</span>)             │         <span style=\"color: #00af00; text-decoration-color: #00af00\">1,056</span> │\n",
       "├─────────────────────────────────┼────────────────────────┼───────────────┤\n",
       "│ dense_8 (<span style=\"color: #0087ff; text-decoration-color: #0087ff\">Dense</span>)                 │ (<span style=\"color: #00d7ff; text-decoration-color: #00d7ff\">None</span>, <span style=\"color: #00af00; text-decoration-color: #00af00\">1</span>)              │            <span style=\"color: #00af00; text-decoration-color: #00af00\">33</span> │\n",
       "└─────────────────────────────────┴────────────────────────┴───────────────┘\n",
       "</pre>\n"
      ],
      "text/plain": [
       "┏━━━━━━━━━━━━━━━━━━━━━━━━━━━━━━━━━┳━━━━━━━━━━━━━━━━━━━━━━━━┳━━━━━━━━━━━━━━━┓\n",
       "┃\u001b[1m \u001b[0m\u001b[1mLayer (type)                   \u001b[0m\u001b[1m \u001b[0m┃\u001b[1m \u001b[0m\u001b[1mOutput Shape          \u001b[0m\u001b[1m \u001b[0m┃\u001b[1m \u001b[0m\u001b[1m      Param #\u001b[0m\u001b[1m \u001b[0m┃\n",
       "┡━━━━━━━━━━━━━━━━━━━━━━━━━━━━━━━━━╇━━━━━━━━━━━━━━━━━━━━━━━━╇━━━━━━━━━━━━━━━┩\n",
       "│ embedding_2 (\u001b[38;5;33mEmbedding\u001b[0m)         │ (\u001b[38;5;45mNone\u001b[0m, \u001b[38;5;34m100\u001b[0m, \u001b[38;5;34m300\u001b[0m)       │     \u001b[38;5;34m5,235,900\u001b[0m │\n",
       "├─────────────────────────────────┼────────────────────────┼───────────────┤\n",
       "│ simple_rnn_2 (\u001b[38;5;33mSimpleRNN\u001b[0m)        │ (\u001b[38;5;45mNone\u001b[0m, \u001b[38;5;34m100\u001b[0m, \u001b[38;5;34m256\u001b[0m)       │       \u001b[38;5;34m142,592\u001b[0m │\n",
       "├─────────────────────────────────┼────────────────────────┼───────────────┤\n",
       "│ global_average_pooling1d        │ (\u001b[38;5;45mNone\u001b[0m, \u001b[38;5;34m256\u001b[0m)            │             \u001b[38;5;34m0\u001b[0m │\n",
       "│ (\u001b[38;5;33mGlobalAveragePooling1D\u001b[0m)        │                        │               │\n",
       "├─────────────────────────────────┼────────────────────────┼───────────────┤\n",
       "│ dense_6 (\u001b[38;5;33mDense\u001b[0m)                 │ (\u001b[38;5;45mNone\u001b[0m, \u001b[38;5;34m32\u001b[0m)             │         \u001b[38;5;34m8,224\u001b[0m │\n",
       "├─────────────────────────────────┼────────────────────────┼───────────────┤\n",
       "│ dense_7 (\u001b[38;5;33mDense\u001b[0m)                 │ (\u001b[38;5;45mNone\u001b[0m, \u001b[38;5;34m32\u001b[0m)             │         \u001b[38;5;34m1,056\u001b[0m │\n",
       "├─────────────────────────────────┼────────────────────────┼───────────────┤\n",
       "│ dense_8 (\u001b[38;5;33mDense\u001b[0m)                 │ (\u001b[38;5;45mNone\u001b[0m, \u001b[38;5;34m1\u001b[0m)              │            \u001b[38;5;34m33\u001b[0m │\n",
       "└─────────────────────────────────┴────────────────────────┴───────────────┘\n"
      ]
     },
     "metadata": {},
     "output_type": "display_data"
    },
    {
     "data": {
      "text/html": [
       "<pre style=\"white-space:pre;overflow-x:auto;line-height:normal;font-family:Menlo,'DejaVu Sans Mono',consolas,'Courier New',monospace\"><span style=\"font-weight: bold\"> Total params: </span><span style=\"color: #00af00; text-decoration-color: #00af00\">5,387,805</span> (20.55 MB)\n",
       "</pre>\n"
      ],
      "text/plain": [
       "\u001b[1m Total params: \u001b[0m\u001b[38;5;34m5,387,805\u001b[0m (20.55 MB)\n"
      ]
     },
     "metadata": {},
     "output_type": "display_data"
    },
    {
     "data": {
      "text/html": [
       "<pre style=\"white-space:pre;overflow-x:auto;line-height:normal;font-family:Menlo,'DejaVu Sans Mono',consolas,'Courier New',monospace\"><span style=\"font-weight: bold\"> Trainable params: </span><span style=\"color: #00af00; text-decoration-color: #00af00\">151,905</span> (593.38 KB)\n",
       "</pre>\n"
      ],
      "text/plain": [
       "\u001b[1m Trainable params: \u001b[0m\u001b[38;5;34m151,905\u001b[0m (593.38 KB)\n"
      ]
     },
     "metadata": {},
     "output_type": "display_data"
    },
    {
     "data": {
      "text/html": [
       "<pre style=\"white-space:pre;overflow-x:auto;line-height:normal;font-family:Menlo,'DejaVu Sans Mono',consolas,'Courier New',monospace\"><span style=\"font-weight: bold\"> Non-trainable params: </span><span style=\"color: #00af00; text-decoration-color: #00af00\">5,235,900</span> (19.97 MB)\n",
       "</pre>\n"
      ],
      "text/plain": [
       "\u001b[1m Non-trainable params: \u001b[0m\u001b[38;5;34m5,235,900\u001b[0m (19.97 MB)\n"
      ]
     },
     "metadata": {},
     "output_type": "display_data"
    }
   ],
   "source": [
    "# Average pooling\n",
    "# Average hidden states of all words in the sentence to represent sentence\n",
    "\n",
    "# Create model with optimal hyperparameters\n",
    "rnn_mean_pooling = Sequential()\n",
    "rnn_mean_pooling.add(Embedding(input_dim=vocab_size,\n",
    "          output_dim=embedding_dim,\n",
    "          input_shape=(max_seq_len,),\n",
    "          weights=[embedding_matrix],\n",
    "          mask_zero=True,\n",
    "          trainable=False))\n",
    "\n",
    "rnn_mean_pooling.add(SimpleRNN(units=best_hps.get('hidden_dim'), return_sequences=True))\n",
    "\n",
    "rnn_mean_pooling.add(GlobalAveragePooling1D())  # Average pooling over the time dimension\n",
    "\n",
    "for i in range(best_hps.get('num_layers')):\n",
    "    rnn_mean_pooling.add(Dense(best_hps.get(f'units_{i}'), activation='relu'))\n",
    "\n",
    "rnn_mean_pooling.add(Dense(output_dim, activation='sigmoid')) # 1 dense (FC) layer for binary classification\n",
    "    \n",
    "rnn_mean_pooling.compile(loss=\"binary_crossentropy\", optimizer=mean_pool_optimizer, metrics=[\"accuracy\"])\n",
    "rnn_mean_pooling.summary()"
   ]
  },
  {
   "cell_type": "code",
   "execution_count": 20,
   "id": "4d74168b",
   "metadata": {
    "execution": {
     "iopub.execute_input": "2024-11-09T01:52:30.405905Z",
     "iopub.status.busy": "2024-11-09T01:52:30.405554Z",
     "iopub.status.idle": "2024-11-09T01:52:52.548223Z",
     "shell.execute_reply": "2024-11-09T01:52:52.547214Z"
    },
    "papermill": {
     "duration": 22.2786,
     "end_time": "2024-11-09T01:52:52.550799",
     "exception": false,
     "start_time": "2024-11-09T01:52:30.272199",
     "status": "completed"
    },
    "tags": []
   },
   "outputs": [
    {
     "name": "stdout",
     "output_type": "stream",
     "text": [
      "Epoch 1/50\n",
      "\u001b[1m134/134\u001b[0m \u001b[32m━━━━━━━━━━━━━━━━━━━━\u001b[0m\u001b[37m\u001b[0m \u001b[1m7s\u001b[0m 27ms/step - accuracy: 0.5333 - loss: 0.6888 - val_accuracy: 0.5544 - val_loss: nan\n",
      "Epoch 2/50\n",
      "\u001b[1m134/134\u001b[0m \u001b[32m━━━━━━━━━━━━━━━━━━━━\u001b[0m\u001b[37m\u001b[0m \u001b[1m2s\u001b[0m 13ms/step - accuracy: 0.5929 - loss: 0.6669 - val_accuracy: 0.5797 - val_loss: nan\n",
      "Epoch 3/50\n",
      "\u001b[1m134/134\u001b[0m \u001b[32m━━━━━━━━━━━━━━━━━━━━\u001b[0m\u001b[37m\u001b[0m \u001b[1m2s\u001b[0m 13ms/step - accuracy: 0.6212 - loss: 0.6477 - val_accuracy: 0.5807 - val_loss: nan\n",
      "Epoch 4/50\n",
      "\u001b[1m134/134\u001b[0m \u001b[32m━━━━━━━━━━━━━━━━━━━━\u001b[0m\u001b[37m\u001b[0m \u001b[1m2s\u001b[0m 13ms/step - accuracy: 0.6409 - loss: 0.6335 - val_accuracy: 0.5788 - val_loss: nan\n",
      "Epoch 5/50\n",
      "\u001b[1m134/134\u001b[0m \u001b[32m━━━━━━━━━━━━━━━━━━━━\u001b[0m\u001b[37m\u001b[0m \u001b[1m2s\u001b[0m 13ms/step - accuracy: 0.6582 - loss: 0.6211 - val_accuracy: 0.5769 - val_loss: nan\n",
      "Epoch 6/50\n",
      "\u001b[1m134/134\u001b[0m \u001b[32m━━━━━━━━━━━━━━━━━━━━\u001b[0m\u001b[37m\u001b[0m \u001b[1m2s\u001b[0m 13ms/step - accuracy: 0.6704 - loss: 0.6095 - val_accuracy: 0.5957 - val_loss: nan\n",
      "Epoch 7/50\n",
      "\u001b[1m134/134\u001b[0m \u001b[32m━━━━━━━━━━━━━━━━━━━━\u001b[0m\u001b[37m\u001b[0m \u001b[1m2s\u001b[0m 13ms/step - accuracy: 0.6828 - loss: 0.5980 - val_accuracy: 0.6004 - val_loss: nan\n",
      "Epoch 8/50\n",
      "\u001b[1m134/134\u001b[0m \u001b[32m━━━━━━━━━━━━━━━━━━━━\u001b[0m\u001b[37m\u001b[0m \u001b[1m2s\u001b[0m 13ms/step - accuracy: 0.6914 - loss: 0.5866 - val_accuracy: 0.5966 - val_loss: nan\n",
      "Epoch 9/50\n",
      "\u001b[1m134/134\u001b[0m \u001b[32m━━━━━━━━━━━━━━━━━━━━\u001b[0m\u001b[37m\u001b[0m \u001b[1m2s\u001b[0m 13ms/step - accuracy: 0.7059 - loss: 0.5757 - val_accuracy: 0.5863 - val_loss: nan\n",
      "Epoch 10/50\n",
      "\u001b[1m134/134\u001b[0m \u001b[32m━━━━━━━━━━━━━━━━━━━━\u001b[0m\u001b[37m\u001b[0m \u001b[1m2s\u001b[0m 13ms/step - accuracy: 0.7170 - loss: 0.5634 - val_accuracy: 0.5891 - val_loss: nan\n"
     ]
    }
   ],
   "source": [
    "early_stopper = EarlyStopping(monitor='val_accuracy', patience=patience, restore_best_weights=True)\n",
    "\n",
    "mean_pooling_history = rnn_mean_pooling.fit(\n",
    "                         raw_train_padded, train_labels,\n",
    "                         epochs=no_epochs,\n",
    "                         batch_size=best_hps.get('batch_size'),\n",
    "                         validation_data=(raw_val_padded, val_labels),\n",
    "                         callbacks=[early_stopper])"
   ]
  },
  {
   "cell_type": "code",
   "execution_count": 21,
   "id": "70a3ea07",
   "metadata": {
    "execution": {
     "iopub.execute_input": "2024-11-09T01:52:52.897235Z",
     "iopub.status.busy": "2024-11-09T01:52:52.896253Z",
     "iopub.status.idle": "2024-11-09T01:52:53.677076Z",
     "shell.execute_reply": "2024-11-09T01:52:53.676155Z"
    },
    "papermill": {
     "duration": 0.941132,
     "end_time": "2024-11-09T01:52:53.679019",
     "exception": false,
     "start_time": "2024-11-09T01:52:52.737887",
     "status": "completed"
    },
    "tags": []
   },
   "outputs": [
    {
     "name": "stdout",
     "output_type": "stream",
     "text": [
      "\u001b[1m34/34\u001b[0m \u001b[32m━━━━━━━━━━━━━━━━━━━━\u001b[0m\u001b[37m\u001b[0m \u001b[1m1s\u001b[0m 13ms/step - accuracy: 0.6000 - loss: 0.6709\n",
      "Test Loss: 0.6774390339851379\n",
      "Test Accuracy: 58.82%\n"
     ]
    }
   ],
   "source": [
    "test_loss, test_accuracy = rnn_mean_pooling.evaluate(raw_test_padded, test_labels)\n",
    "\n",
    "print(f'Test Loss: {test_loss}')\n",
    "print(f'Test Accuracy: {test_accuracy * 100:.2f}%')"
   ]
  },
  {
   "cell_type": "markdown",
   "id": "55e65227",
   "metadata": {
    "papermill": {
     "duration": 0.155518,
     "end_time": "2024-11-09T01:52:53.991660",
     "exception": false,
     "start_time": "2024-11-09T01:52:53.836142",
     "status": "completed"
    },
    "tags": []
   },
   "source": [
    "## With Max Pooling"
   ]
  },
  {
   "cell_type": "code",
   "execution_count": 22,
   "id": "23769484",
   "metadata": {
    "execution": {
     "iopub.execute_input": "2024-11-09T01:52:54.309010Z",
     "iopub.status.busy": "2024-11-09T01:52:54.308135Z",
     "iopub.status.idle": "2024-11-09T01:52:54.315778Z",
     "shell.execute_reply": "2024-11-09T01:52:54.315050Z"
    },
    "papermill": {
     "duration": 0.169053,
     "end_time": "2024-11-09T01:52:54.317581",
     "exception": false,
     "start_time": "2024-11-09T01:52:54.148528",
     "status": "completed"
    },
    "tags": []
   },
   "outputs": [],
   "source": [
    "max_pool_optimizer = None\n",
    "if best_hps.get('optimizer') == 'adam':\n",
    "    max_pool_optimizer = tf.keras.optimizers.Adam(learning_rate=best_hps.get('learning_rate'))\n",
    "elif best_hps.get('optimizer') == 'SGD':\n",
    "    max_pool_optimizer = tf.keras.optimizers.SGD(learning_rate=best_hps.get('learning_rate'))"
   ]
  },
  {
   "cell_type": "code",
   "execution_count": 23,
   "id": "7d0e1ab8",
   "metadata": {
    "execution": {
     "iopub.execute_input": "2024-11-09T01:52:54.631270Z",
     "iopub.status.busy": "2024-11-09T01:52:54.630625Z",
     "iopub.status.idle": "2024-11-09T01:52:54.724741Z",
     "shell.execute_reply": "2024-11-09T01:52:54.723863Z"
    },
    "papermill": {
     "duration": 0.252772,
     "end_time": "2024-11-09T01:52:54.726651",
     "exception": false,
     "start_time": "2024-11-09T01:52:54.473879",
     "status": "completed"
    },
    "tags": []
   },
   "outputs": [
    {
     "name": "stderr",
     "output_type": "stream",
     "text": [
      "/opt/conda/lib/python3.10/site-packages/keras/src/layers/layer.py:877: UserWarning: Layer 'global_max_pooling1d' (of type GlobalMaxPooling1D) was passed an input with a mask attached to it. However, this layer does not support masking and will therefore destroy the mask information. Downstream layers will not see the mask.\n",
      "  warnings.warn(\n"
     ]
    },
    {
     "data": {
      "text/html": [
       "<pre style=\"white-space:pre;overflow-x:auto;line-height:normal;font-family:Menlo,'DejaVu Sans Mono',consolas,'Courier New',monospace\"><span style=\"font-weight: bold\">Model: \"sequential_3\"</span>\n",
       "</pre>\n"
      ],
      "text/plain": [
       "\u001b[1mModel: \"sequential_3\"\u001b[0m\n"
      ]
     },
     "metadata": {},
     "output_type": "display_data"
    },
    {
     "data": {
      "text/html": [
       "<pre style=\"white-space:pre;overflow-x:auto;line-height:normal;font-family:Menlo,'DejaVu Sans Mono',consolas,'Courier New',monospace\">┏━━━━━━━━━━━━━━━━━━━━━━━━━━━━━━━━━┳━━━━━━━━━━━━━━━━━━━━━━━━┳━━━━━━━━━━━━━━━┓\n",
       "┃<span style=\"font-weight: bold\"> Layer (type)                    </span>┃<span style=\"font-weight: bold\"> Output Shape           </span>┃<span style=\"font-weight: bold\">       Param # </span>┃\n",
       "┡━━━━━━━━━━━━━━━━━━━━━━━━━━━━━━━━━╇━━━━━━━━━━━━━━━━━━━━━━━━╇━━━━━━━━━━━━━━━┩\n",
       "│ embedding_3 (<span style=\"color: #0087ff; text-decoration-color: #0087ff\">Embedding</span>)         │ (<span style=\"color: #00d7ff; text-decoration-color: #00d7ff\">None</span>, <span style=\"color: #00af00; text-decoration-color: #00af00\">100</span>, <span style=\"color: #00af00; text-decoration-color: #00af00\">300</span>)       │     <span style=\"color: #00af00; text-decoration-color: #00af00\">5,235,900</span> │\n",
       "├─────────────────────────────────┼────────────────────────┼───────────────┤\n",
       "│ simple_rnn_3 (<span style=\"color: #0087ff; text-decoration-color: #0087ff\">SimpleRNN</span>)        │ (<span style=\"color: #00d7ff; text-decoration-color: #00d7ff\">None</span>, <span style=\"color: #00af00; text-decoration-color: #00af00\">100</span>, <span style=\"color: #00af00; text-decoration-color: #00af00\">256</span>)       │       <span style=\"color: #00af00; text-decoration-color: #00af00\">142,592</span> │\n",
       "├─────────────────────────────────┼────────────────────────┼───────────────┤\n",
       "│ global_max_pooling1d            │ (<span style=\"color: #00d7ff; text-decoration-color: #00d7ff\">None</span>, <span style=\"color: #00af00; text-decoration-color: #00af00\">256</span>)            │             <span style=\"color: #00af00; text-decoration-color: #00af00\">0</span> │\n",
       "│ (<span style=\"color: #0087ff; text-decoration-color: #0087ff\">GlobalMaxPooling1D</span>)            │                        │               │\n",
       "├─────────────────────────────────┼────────────────────────┼───────────────┤\n",
       "│ dense_9 (<span style=\"color: #0087ff; text-decoration-color: #0087ff\">Dense</span>)                 │ (<span style=\"color: #00d7ff; text-decoration-color: #00d7ff\">None</span>, <span style=\"color: #00af00; text-decoration-color: #00af00\">32</span>)             │         <span style=\"color: #00af00; text-decoration-color: #00af00\">8,224</span> │\n",
       "├─────────────────────────────────┼────────────────────────┼───────────────┤\n",
       "│ dense_10 (<span style=\"color: #0087ff; text-decoration-color: #0087ff\">Dense</span>)                │ (<span style=\"color: #00d7ff; text-decoration-color: #00d7ff\">None</span>, <span style=\"color: #00af00; text-decoration-color: #00af00\">32</span>)             │         <span style=\"color: #00af00; text-decoration-color: #00af00\">1,056</span> │\n",
       "├─────────────────────────────────┼────────────────────────┼───────────────┤\n",
       "│ dense_11 (<span style=\"color: #0087ff; text-decoration-color: #0087ff\">Dense</span>)                │ (<span style=\"color: #00d7ff; text-decoration-color: #00d7ff\">None</span>, <span style=\"color: #00af00; text-decoration-color: #00af00\">1</span>)              │            <span style=\"color: #00af00; text-decoration-color: #00af00\">33</span> │\n",
       "└─────────────────────────────────┴────────────────────────┴───────────────┘\n",
       "</pre>\n"
      ],
      "text/plain": [
       "┏━━━━━━━━━━━━━━━━━━━━━━━━━━━━━━━━━┳━━━━━━━━━━━━━━━━━━━━━━━━┳━━━━━━━━━━━━━━━┓\n",
       "┃\u001b[1m \u001b[0m\u001b[1mLayer (type)                   \u001b[0m\u001b[1m \u001b[0m┃\u001b[1m \u001b[0m\u001b[1mOutput Shape          \u001b[0m\u001b[1m \u001b[0m┃\u001b[1m \u001b[0m\u001b[1m      Param #\u001b[0m\u001b[1m \u001b[0m┃\n",
       "┡━━━━━━━━━━━━━━━━━━━━━━━━━━━━━━━━━╇━━━━━━━━━━━━━━━━━━━━━━━━╇━━━━━━━━━━━━━━━┩\n",
       "│ embedding_3 (\u001b[38;5;33mEmbedding\u001b[0m)         │ (\u001b[38;5;45mNone\u001b[0m, \u001b[38;5;34m100\u001b[0m, \u001b[38;5;34m300\u001b[0m)       │     \u001b[38;5;34m5,235,900\u001b[0m │\n",
       "├─────────────────────────────────┼────────────────────────┼───────────────┤\n",
       "│ simple_rnn_3 (\u001b[38;5;33mSimpleRNN\u001b[0m)        │ (\u001b[38;5;45mNone\u001b[0m, \u001b[38;5;34m100\u001b[0m, \u001b[38;5;34m256\u001b[0m)       │       \u001b[38;5;34m142,592\u001b[0m │\n",
       "├─────────────────────────────────┼────────────────────────┼───────────────┤\n",
       "│ global_max_pooling1d            │ (\u001b[38;5;45mNone\u001b[0m, \u001b[38;5;34m256\u001b[0m)            │             \u001b[38;5;34m0\u001b[0m │\n",
       "│ (\u001b[38;5;33mGlobalMaxPooling1D\u001b[0m)            │                        │               │\n",
       "├─────────────────────────────────┼────────────────────────┼───────────────┤\n",
       "│ dense_9 (\u001b[38;5;33mDense\u001b[0m)                 │ (\u001b[38;5;45mNone\u001b[0m, \u001b[38;5;34m32\u001b[0m)             │         \u001b[38;5;34m8,224\u001b[0m │\n",
       "├─────────────────────────────────┼────────────────────────┼───────────────┤\n",
       "│ dense_10 (\u001b[38;5;33mDense\u001b[0m)                │ (\u001b[38;5;45mNone\u001b[0m, \u001b[38;5;34m32\u001b[0m)             │         \u001b[38;5;34m1,056\u001b[0m │\n",
       "├─────────────────────────────────┼────────────────────────┼───────────────┤\n",
       "│ dense_11 (\u001b[38;5;33mDense\u001b[0m)                │ (\u001b[38;5;45mNone\u001b[0m, \u001b[38;5;34m1\u001b[0m)              │            \u001b[38;5;34m33\u001b[0m │\n",
       "└─────────────────────────────────┴────────────────────────┴───────────────┘\n"
      ]
     },
     "metadata": {},
     "output_type": "display_data"
    },
    {
     "data": {
      "text/html": [
       "<pre style=\"white-space:pre;overflow-x:auto;line-height:normal;font-family:Menlo,'DejaVu Sans Mono',consolas,'Courier New',monospace\"><span style=\"font-weight: bold\"> Total params: </span><span style=\"color: #00af00; text-decoration-color: #00af00\">5,387,805</span> (20.55 MB)\n",
       "</pre>\n"
      ],
      "text/plain": [
       "\u001b[1m Total params: \u001b[0m\u001b[38;5;34m5,387,805\u001b[0m (20.55 MB)\n"
      ]
     },
     "metadata": {},
     "output_type": "display_data"
    },
    {
     "data": {
      "text/html": [
       "<pre style=\"white-space:pre;overflow-x:auto;line-height:normal;font-family:Menlo,'DejaVu Sans Mono',consolas,'Courier New',monospace\"><span style=\"font-weight: bold\"> Trainable params: </span><span style=\"color: #00af00; text-decoration-color: #00af00\">151,905</span> (593.38 KB)\n",
       "</pre>\n"
      ],
      "text/plain": [
       "\u001b[1m Trainable params: \u001b[0m\u001b[38;5;34m151,905\u001b[0m (593.38 KB)\n"
      ]
     },
     "metadata": {},
     "output_type": "display_data"
    },
    {
     "data": {
      "text/html": [
       "<pre style=\"white-space:pre;overflow-x:auto;line-height:normal;font-family:Menlo,'DejaVu Sans Mono',consolas,'Courier New',monospace\"><span style=\"font-weight: bold\"> Non-trainable params: </span><span style=\"color: #00af00; text-decoration-color: #00af00\">5,235,900</span> (19.97 MB)\n",
       "</pre>\n"
      ],
      "text/plain": [
       "\u001b[1m Non-trainable params: \u001b[0m\u001b[38;5;34m5,235,900\u001b[0m (19.97 MB)\n"
      ]
     },
     "metadata": {},
     "output_type": "display_data"
    }
   ],
   "source": [
    "# Max pooling\n",
    "# Take Max of hidden states of all words in the sentence to represent sentence\n",
    "\n",
    "# Create model with optimal hyperparameters\n",
    "rnn_max_pooling = Sequential()\n",
    "rnn_max_pooling.add(Embedding(input_dim=vocab_size,\n",
    "          output_dim=embedding_dim,\n",
    "          input_shape=(max_seq_len,),\n",
    "          weights=[embedding_matrix],\n",
    "          mask_zero=True,\n",
    "          trainable=False))\n",
    "\n",
    "rnn_max_pooling.add(SimpleRNN(units=best_hps.get('hidden_dim'), return_sequences=True))\n",
    "\n",
    "rnn_max_pooling.add(GlobalMaxPooling1D())  # Max pooling over the time dimension\n",
    "\n",
    "for i in range(best_hps.get('num_layers')):\n",
    "    rnn_max_pooling.add(Dense(best_hps.get(f'units_{i}'), activation='relu'))\n",
    "\n",
    "rnn_max_pooling.add(Dense(output_dim, activation='sigmoid')) # 1 dense (FC) layer for binary classification\n",
    "\n",
    "rnn_max_pooling.compile(loss=\"binary_crossentropy\", optimizer=max_pool_optimizer, metrics=[\"accuracy\"])\n",
    "rnn_max_pooling.summary()"
   ]
  },
  {
   "cell_type": "code",
   "execution_count": 24,
   "id": "503f76f1",
   "metadata": {
    "execution": {
     "iopub.execute_input": "2024-11-09T01:52:55.043451Z",
     "iopub.status.busy": "2024-11-09T01:52:55.042688Z",
     "iopub.status.idle": "2024-11-09T01:53:17.271343Z",
     "shell.execute_reply": "2024-11-09T01:53:17.270440Z"
    },
    "papermill": {
     "duration": 22.389106,
     "end_time": "2024-11-09T01:53:17.273373",
     "exception": false,
     "start_time": "2024-11-09T01:52:54.884267",
     "status": "completed"
    },
    "tags": []
   },
   "outputs": [
    {
     "name": "stdout",
     "output_type": "stream",
     "text": [
      "Epoch 1/50\n",
      "\u001b[1m134/134\u001b[0m \u001b[32m━━━━━━━━━━━━━━━━━━━━\u001b[0m\u001b[37m\u001b[0m \u001b[1m6s\u001b[0m 27ms/step - accuracy: 0.5211 - loss: 0.6930 - val_accuracy: 0.5338 - val_loss: 0.6885\n",
      "Epoch 2/50\n",
      "\u001b[1m134/134\u001b[0m \u001b[32m━━━━━━━━━━━━━━━━━━━━\u001b[0m\u001b[37m\u001b[0m \u001b[1m2s\u001b[0m 13ms/step - accuracy: 0.6321 - loss: 0.6645 - val_accuracy: 0.5544 - val_loss: 0.6832\n",
      "Epoch 3/50\n",
      "\u001b[1m134/134\u001b[0m \u001b[32m━━━━━━━━━━━━━━━━━━━━\u001b[0m\u001b[37m\u001b[0m \u001b[1m2s\u001b[0m 13ms/step - accuracy: 0.6700 - loss: 0.6381 - val_accuracy: 0.5750 - val_loss: 0.6770\n",
      "Epoch 4/50\n",
      "\u001b[1m134/134\u001b[0m \u001b[32m━━━━━━━━━━━━━━━━━━━━\u001b[0m\u001b[37m\u001b[0m \u001b[1m2s\u001b[0m 13ms/step - accuracy: 0.6966 - loss: 0.6038 - val_accuracy: 0.5910 - val_loss: 0.6751\n",
      "Epoch 5/50\n",
      "\u001b[1m134/134\u001b[0m \u001b[32m━━━━━━━━━━━━━━━━━━━━\u001b[0m\u001b[37m\u001b[0m \u001b[1m2s\u001b[0m 13ms/step - accuracy: 0.7343 - loss: 0.5627 - val_accuracy: 0.5976 - val_loss: 0.6774\n",
      "Epoch 6/50\n",
      "\u001b[1m134/134\u001b[0m \u001b[32m━━━━━━━━━━━━━━━━━━━━\u001b[0m\u001b[37m\u001b[0m \u001b[1m2s\u001b[0m 13ms/step - accuracy: 0.7776 - loss: 0.5171 - val_accuracy: 0.6023 - val_loss: 0.6809\n",
      "Epoch 7/50\n",
      "\u001b[1m134/134\u001b[0m \u001b[32m━━━━━━━━━━━━━━━━━━━━\u001b[0m\u001b[37m\u001b[0m \u001b[1m2s\u001b[0m 13ms/step - accuracy: 0.8166 - loss: 0.4693 - val_accuracy: 0.6032 - val_loss: 0.6884\n",
      "Epoch 8/50\n",
      "\u001b[1m134/134\u001b[0m \u001b[32m━━━━━━━━━━━━━━━━━━━━\u001b[0m\u001b[37m\u001b[0m \u001b[1m2s\u001b[0m 13ms/step - accuracy: 0.8574 - loss: 0.4181 - val_accuracy: 0.5985 - val_loss: 0.6985\n",
      "Epoch 9/50\n",
      "\u001b[1m134/134\u001b[0m \u001b[32m━━━━━━━━━━━━━━━━━━━━\u001b[0m\u001b[37m\u001b[0m \u001b[1m2s\u001b[0m 13ms/step - accuracy: 0.8949 - loss: 0.3639 - val_accuracy: 0.5985 - val_loss: 0.7127\n",
      "Epoch 10/50\n",
      "\u001b[1m134/134\u001b[0m \u001b[32m━━━━━━━━━━━━━━━━━━━━\u001b[0m\u001b[37m\u001b[0m \u001b[1m2s\u001b[0m 13ms/step - accuracy: 0.9255 - loss: 0.3098 - val_accuracy: 0.5947 - val_loss: 0.7359\n"
     ]
    }
   ],
   "source": [
    "early_stopper = EarlyStopping(monitor='val_accuracy', patience=patience, restore_best_weights=True)\n",
    "\n",
    "max_pooling_history = rnn_max_pooling.fit(\n",
    "                         raw_train_padded, train_labels,\n",
    "                         epochs=no_epochs,\n",
    "                         batch_size=best_hps.get('batch_size'),\n",
    "                         validation_data=(raw_val_padded, val_labels),\n",
    "                         callbacks=[early_stopper])"
   ]
  },
  {
   "cell_type": "code",
   "execution_count": 25,
   "id": "f8681997",
   "metadata": {
    "execution": {
     "iopub.execute_input": "2024-11-09T01:53:17.638470Z",
     "iopub.status.busy": "2024-11-09T01:53:17.638091Z",
     "iopub.status.idle": "2024-11-09T01:53:18.369408Z",
     "shell.execute_reply": "2024-11-09T01:53:18.368433Z"
    },
    "papermill": {
     "duration": 0.914599,
     "end_time": "2024-11-09T01:53:18.371368",
     "exception": false,
     "start_time": "2024-11-09T01:53:17.456769",
     "status": "completed"
    },
    "tags": []
   },
   "outputs": [
    {
     "name": "stdout",
     "output_type": "stream",
     "text": [
      "\u001b[1m34/34\u001b[0m \u001b[32m━━━━━━━━━━━━━━━━━━━━\u001b[0m\u001b[37m\u001b[0m \u001b[1m1s\u001b[0m 12ms/step - accuracy: 0.6587 - loss: 0.6229\n",
      "Test Loss: 0.6627724766731262\n",
      "Test Accuracy: 61.07%\n"
     ]
    }
   ],
   "source": [
    "test_loss, test_accuracy = rnn_max_pooling.evaluate(raw_test_padded, test_labels)\n",
    "\n",
    "print(f'Test Loss: {test_loss}')\n",
    "print(f'Test Accuracy: {test_accuracy * 100:.2f}%')"
   ]
  },
  {
   "cell_type": "markdown",
   "id": "8f3f68d9",
   "metadata": {
    "papermill": {
     "duration": 0.236407,
     "end_time": "2024-11-09T01:53:18.806243",
     "exception": false,
     "start_time": "2024-11-09T01:53:18.569836",
     "status": "completed"
    },
    "tags": []
   },
   "source": [
    "## With Attention"
   ]
  },
  {
   "cell_type": "code",
   "execution_count": 26,
   "id": "8ce81161",
   "metadata": {
    "execution": {
     "iopub.execute_input": "2024-11-09T01:53:19.165855Z",
     "iopub.status.busy": "2024-11-09T01:53:19.165459Z",
     "iopub.status.idle": "2024-11-09T01:53:19.173226Z",
     "shell.execute_reply": "2024-11-09T01:53:19.172365Z"
    },
    "papermill": {
     "duration": 0.189501,
     "end_time": "2024-11-09T01:53:19.175008",
     "exception": false,
     "start_time": "2024-11-09T01:53:18.985507",
     "status": "completed"
    },
    "tags": []
   },
   "outputs": [],
   "source": [
    "# Attention\n",
    "\n",
    "class Attention_2(Layer):\n",
    "    def init(self):\n",
    "        super(Attention_2, self).init()\n",
    "\n",
    "    def build(self, input_shape):\n",
    "        # Define trainable weight parameters for attention\n",
    "        self.W = self.add_weight(name=\"att_weight\", shape=(input_shape[-1],), initializer=\"normal\")\n",
    "        self.b = self.add_weight(name=\"att_bias\", shape=(input_shape[1],), initializer=\"zeros\")\n",
    "        super(Attention_2, self).build(input_shape)\n",
    "\n",
    "    def call(self, x):\n",
    "        # Compute attention scores\n",
    "        e = tf.keras.activations.tanh(tf.tensordot(x, self.W, axes=1) + self.b)\n",
    "        a = tf.keras.activations.softmax(e, axis=1)\n",
    "\n",
    "        # Multiply each time step by its attention score\n",
    "        output = x * tf.expand_dims(a, -1)\n",
    "        return output"
   ]
  },
  {
   "cell_type": "code",
   "execution_count": 27,
   "id": "f7ca4dc8",
   "metadata": {
    "execution": {
     "iopub.execute_input": "2024-11-09T01:53:19.537495Z",
     "iopub.status.busy": "2024-11-09T01:53:19.537091Z",
     "iopub.status.idle": "2024-11-09T01:53:19.544889Z",
     "shell.execute_reply": "2024-11-09T01:53:19.544163Z"
    },
    "papermill": {
     "duration": 0.190912,
     "end_time": "2024-11-09T01:53:19.546612",
     "exception": false,
     "start_time": "2024-11-09T01:53:19.355700",
     "status": "completed"
    },
    "tags": []
   },
   "outputs": [],
   "source": [
    "attention_optimizer = None\n",
    "if best_hps.get('optimizer') == 'adam':\n",
    "    attention_optimizer = tf.keras.optimizers.Adam(learning_rate=best_hps.get('learning_rate'))\n",
    "elif best_hps.get('optimizer') == 'SGD':\n",
    "    attention_optimizer = tf.keras.optimizers.SGD(learning_rate=best_hps.get('learning_rate'))"
   ]
  },
  {
   "cell_type": "code",
   "execution_count": 28,
   "id": "2ce4b039",
   "metadata": {
    "execution": {
     "iopub.execute_input": "2024-11-09T01:53:19.909474Z",
     "iopub.status.busy": "2024-11-09T01:53:19.908548Z",
     "iopub.status.idle": "2024-11-09T01:53:20.109573Z",
     "shell.execute_reply": "2024-11-09T01:53:20.108632Z"
    },
    "papermill": {
     "duration": 0.384126,
     "end_time": "2024-11-09T01:53:20.111494",
     "exception": false,
     "start_time": "2024-11-09T01:53:19.727368",
     "status": "completed"
    },
    "tags": []
   },
   "outputs": [
    {
     "name": "stderr",
     "output_type": "stream",
     "text": [
      "/opt/conda/lib/python3.10/site-packages/keras/src/layers/layer.py:877: UserWarning: Layer 'attention_2' (of type Attention_2) was passed an input with a mask attached to it. However, this layer does not support masking and will therefore destroy the mask information. Downstream layers will not see the mask.\n",
      "  warnings.warn(\n"
     ]
    },
    {
     "data": {
      "text/html": [
       "<pre style=\"white-space:pre;overflow-x:auto;line-height:normal;font-family:Menlo,'DejaVu Sans Mono',consolas,'Courier New',monospace\"><span style=\"font-weight: bold\">Model: \"sequential_4\"</span>\n",
       "</pre>\n"
      ],
      "text/plain": [
       "\u001b[1mModel: \"sequential_4\"\u001b[0m\n"
      ]
     },
     "metadata": {},
     "output_type": "display_data"
    },
    {
     "data": {
      "text/html": [
       "<pre style=\"white-space:pre;overflow-x:auto;line-height:normal;font-family:Menlo,'DejaVu Sans Mono',consolas,'Courier New',monospace\">┏━━━━━━━━━━━━━━━━━━━━━━━━━━━━━━━━━┳━━━━━━━━━━━━━━━━━━━━━━━━┳━━━━━━━━━━━━━━━┓\n",
       "┃<span style=\"font-weight: bold\"> Layer (type)                    </span>┃<span style=\"font-weight: bold\"> Output Shape           </span>┃<span style=\"font-weight: bold\">       Param # </span>┃\n",
       "┡━━━━━━━━━━━━━━━━━━━━━━━━━━━━━━━━━╇━━━━━━━━━━━━━━━━━━━━━━━━╇━━━━━━━━━━━━━━━┩\n",
       "│ embedding_4 (<span style=\"color: #0087ff; text-decoration-color: #0087ff\">Embedding</span>)         │ (<span style=\"color: #00d7ff; text-decoration-color: #00d7ff\">None</span>, <span style=\"color: #00af00; text-decoration-color: #00af00\">100</span>, <span style=\"color: #00af00; text-decoration-color: #00af00\">300</span>)       │     <span style=\"color: #00af00; text-decoration-color: #00af00\">5,235,900</span> │\n",
       "├─────────────────────────────────┼────────────────────────┼───────────────┤\n",
       "│ simple_rnn_4 (<span style=\"color: #0087ff; text-decoration-color: #0087ff\">SimpleRNN</span>)        │ (<span style=\"color: #00d7ff; text-decoration-color: #00d7ff\">None</span>, <span style=\"color: #00af00; text-decoration-color: #00af00\">100</span>, <span style=\"color: #00af00; text-decoration-color: #00af00\">256</span>)       │       <span style=\"color: #00af00; text-decoration-color: #00af00\">142,592</span> │\n",
       "├─────────────────────────────────┼────────────────────────┼───────────────┤\n",
       "│ attention_2 (<span style=\"color: #0087ff; text-decoration-color: #0087ff\">Attention_2</span>)       │ (<span style=\"color: #00d7ff; text-decoration-color: #00d7ff\">None</span>, <span style=\"color: #00af00; text-decoration-color: #00af00\">100</span>, <span style=\"color: #00af00; text-decoration-color: #00af00\">256</span>)       │           <span style=\"color: #00af00; text-decoration-color: #00af00\">356</span> │\n",
       "├─────────────────────────────────┼────────────────────────┼───────────────┤\n",
       "│ global_max_pooling1d_1          │ (<span style=\"color: #00d7ff; text-decoration-color: #00d7ff\">None</span>, <span style=\"color: #00af00; text-decoration-color: #00af00\">256</span>)            │             <span style=\"color: #00af00; text-decoration-color: #00af00\">0</span> │\n",
       "│ (<span style=\"color: #0087ff; text-decoration-color: #0087ff\">GlobalMaxPooling1D</span>)            │                        │               │\n",
       "├─────────────────────────────────┼────────────────────────┼───────────────┤\n",
       "│ dense_12 (<span style=\"color: #0087ff; text-decoration-color: #0087ff\">Dense</span>)                │ (<span style=\"color: #00d7ff; text-decoration-color: #00d7ff\">None</span>, <span style=\"color: #00af00; text-decoration-color: #00af00\">32</span>)             │         <span style=\"color: #00af00; text-decoration-color: #00af00\">8,224</span> │\n",
       "├─────────────────────────────────┼────────────────────────┼───────────────┤\n",
       "│ dense_13 (<span style=\"color: #0087ff; text-decoration-color: #0087ff\">Dense</span>)                │ (<span style=\"color: #00d7ff; text-decoration-color: #00d7ff\">None</span>, <span style=\"color: #00af00; text-decoration-color: #00af00\">32</span>)             │         <span style=\"color: #00af00; text-decoration-color: #00af00\">1,056</span> │\n",
       "├─────────────────────────────────┼────────────────────────┼───────────────┤\n",
       "│ dense_14 (<span style=\"color: #0087ff; text-decoration-color: #0087ff\">Dense</span>)                │ (<span style=\"color: #00d7ff; text-decoration-color: #00d7ff\">None</span>, <span style=\"color: #00af00; text-decoration-color: #00af00\">1</span>)              │            <span style=\"color: #00af00; text-decoration-color: #00af00\">33</span> │\n",
       "└─────────────────────────────────┴────────────────────────┴───────────────┘\n",
       "</pre>\n"
      ],
      "text/plain": [
       "┏━━━━━━━━━━━━━━━━━━━━━━━━━━━━━━━━━┳━━━━━━━━━━━━━━━━━━━━━━━━┳━━━━━━━━━━━━━━━┓\n",
       "┃\u001b[1m \u001b[0m\u001b[1mLayer (type)                   \u001b[0m\u001b[1m \u001b[0m┃\u001b[1m \u001b[0m\u001b[1mOutput Shape          \u001b[0m\u001b[1m \u001b[0m┃\u001b[1m \u001b[0m\u001b[1m      Param #\u001b[0m\u001b[1m \u001b[0m┃\n",
       "┡━━━━━━━━━━━━━━━━━━━━━━━━━━━━━━━━━╇━━━━━━━━━━━━━━━━━━━━━━━━╇━━━━━━━━━━━━━━━┩\n",
       "│ embedding_4 (\u001b[38;5;33mEmbedding\u001b[0m)         │ (\u001b[38;5;45mNone\u001b[0m, \u001b[38;5;34m100\u001b[0m, \u001b[38;5;34m300\u001b[0m)       │     \u001b[38;5;34m5,235,900\u001b[0m │\n",
       "├─────────────────────────────────┼────────────────────────┼───────────────┤\n",
       "│ simple_rnn_4 (\u001b[38;5;33mSimpleRNN\u001b[0m)        │ (\u001b[38;5;45mNone\u001b[0m, \u001b[38;5;34m100\u001b[0m, \u001b[38;5;34m256\u001b[0m)       │       \u001b[38;5;34m142,592\u001b[0m │\n",
       "├─────────────────────────────────┼────────────────────────┼───────────────┤\n",
       "│ attention_2 (\u001b[38;5;33mAttention_2\u001b[0m)       │ (\u001b[38;5;45mNone\u001b[0m, \u001b[38;5;34m100\u001b[0m, \u001b[38;5;34m256\u001b[0m)       │           \u001b[38;5;34m356\u001b[0m │\n",
       "├─────────────────────────────────┼────────────────────────┼───────────────┤\n",
       "│ global_max_pooling1d_1          │ (\u001b[38;5;45mNone\u001b[0m, \u001b[38;5;34m256\u001b[0m)            │             \u001b[38;5;34m0\u001b[0m │\n",
       "│ (\u001b[38;5;33mGlobalMaxPooling1D\u001b[0m)            │                        │               │\n",
       "├─────────────────────────────────┼────────────────────────┼───────────────┤\n",
       "│ dense_12 (\u001b[38;5;33mDense\u001b[0m)                │ (\u001b[38;5;45mNone\u001b[0m, \u001b[38;5;34m32\u001b[0m)             │         \u001b[38;5;34m8,224\u001b[0m │\n",
       "├─────────────────────────────────┼────────────────────────┼───────────────┤\n",
       "│ dense_13 (\u001b[38;5;33mDense\u001b[0m)                │ (\u001b[38;5;45mNone\u001b[0m, \u001b[38;5;34m32\u001b[0m)             │         \u001b[38;5;34m1,056\u001b[0m │\n",
       "├─────────────────────────────────┼────────────────────────┼───────────────┤\n",
       "│ dense_14 (\u001b[38;5;33mDense\u001b[0m)                │ (\u001b[38;5;45mNone\u001b[0m, \u001b[38;5;34m1\u001b[0m)              │            \u001b[38;5;34m33\u001b[0m │\n",
       "└─────────────────────────────────┴────────────────────────┴───────────────┘\n"
      ]
     },
     "metadata": {},
     "output_type": "display_data"
    },
    {
     "data": {
      "text/html": [
       "<pre style=\"white-space:pre;overflow-x:auto;line-height:normal;font-family:Menlo,'DejaVu Sans Mono',consolas,'Courier New',monospace\"><span style=\"font-weight: bold\"> Total params: </span><span style=\"color: #00af00; text-decoration-color: #00af00\">5,388,161</span> (20.55 MB)\n",
       "</pre>\n"
      ],
      "text/plain": [
       "\u001b[1m Total params: \u001b[0m\u001b[38;5;34m5,388,161\u001b[0m (20.55 MB)\n"
      ]
     },
     "metadata": {},
     "output_type": "display_data"
    },
    {
     "data": {
      "text/html": [
       "<pre style=\"white-space:pre;overflow-x:auto;line-height:normal;font-family:Menlo,'DejaVu Sans Mono',consolas,'Courier New',monospace\"><span style=\"font-weight: bold\"> Trainable params: </span><span style=\"color: #00af00; text-decoration-color: #00af00\">152,261</span> (594.77 KB)\n",
       "</pre>\n"
      ],
      "text/plain": [
       "\u001b[1m Trainable params: \u001b[0m\u001b[38;5;34m152,261\u001b[0m (594.77 KB)\n"
      ]
     },
     "metadata": {},
     "output_type": "display_data"
    },
    {
     "data": {
      "text/html": [
       "<pre style=\"white-space:pre;overflow-x:auto;line-height:normal;font-family:Menlo,'DejaVu Sans Mono',consolas,'Courier New',monospace\"><span style=\"font-weight: bold\"> Non-trainable params: </span><span style=\"color: #00af00; text-decoration-color: #00af00\">5,235,900</span> (19.97 MB)\n",
       "</pre>\n"
      ],
      "text/plain": [
       "\u001b[1m Non-trainable params: \u001b[0m\u001b[38;5;34m5,235,900\u001b[0m (19.97 MB)\n"
      ]
     },
     "metadata": {},
     "output_type": "display_data"
    }
   ],
   "source": [
    "rnn_attention_pooling = Sequential()\n",
    "rnn_attention_pooling.add(Embedding(input_dim=vocab_size,\n",
    "          output_dim=embedding_dim,\n",
    "          input_shape=(max_seq_len,),\n",
    "          weights=[embedding_matrix],\n",
    "          mask_zero=True,\n",
    "          trainable=False))\n",
    "\n",
    "rnn_attention_pooling.add(SimpleRNN(units=best_hps.get('hidden_dim'), return_sequences=True))\n",
    "\n",
    "rnn_attention_pooling.add(Attention_2())\n",
    "\n",
    "rnn_attention_pooling.add(GlobalMaxPooling1D())\n",
    "\n",
    "for i in range(best_hps.get('num_layers')):\n",
    "    rnn_attention_pooling.add(Dense(best_hps.get(f'units_{i}'), activation='relu'))\n",
    "    \n",
    "rnn_attention_pooling.add(Dense(output_dim, activation='sigmoid')) # 1 dense (FC) layer for binary classification\n",
    "\n",
    "# Compile the model\n",
    "rnn_attention_pooling.compile(loss=\"binary_crossentropy\",\n",
    "                      optimizer=attention_optimizer,\n",
    "                      metrics=[\"accuracy\"])\n",
    "\n",
    "rnn_attention_pooling.summary()"
   ]
  },
  {
   "cell_type": "code",
   "execution_count": 29,
   "id": "2c89e990",
   "metadata": {
    "execution": {
     "iopub.execute_input": "2024-11-09T01:53:20.476765Z",
     "iopub.status.busy": "2024-11-09T01:53:20.475914Z",
     "iopub.status.idle": "2024-11-09T01:53:36.949729Z",
     "shell.execute_reply": "2024-11-09T01:53:36.948754Z"
    },
    "papermill": {
     "duration": 16.658686,
     "end_time": "2024-11-09T01:53:36.951852",
     "exception": false,
     "start_time": "2024-11-09T01:53:20.293166",
     "status": "completed"
    },
    "tags": []
   },
   "outputs": [
    {
     "name": "stdout",
     "output_type": "stream",
     "text": [
      "Epoch 1/50\n",
      "\u001b[1m134/134\u001b[0m \u001b[32m━━━━━━━━━━━━━━━━━━━━\u001b[0m\u001b[37m\u001b[0m \u001b[1m8s\u001b[0m 31ms/step - accuracy: 0.5122 - loss: 0.6931 - val_accuracy: 0.5394 - val_loss: 0.6930\n",
      "Epoch 2/50\n",
      "\u001b[1m134/134\u001b[0m \u001b[32m━━━━━━━━━━━━━━━━━━━━\u001b[0m\u001b[37m\u001b[0m \u001b[1m2s\u001b[0m 13ms/step - accuracy: 0.5323 - loss: 0.6927 - val_accuracy: 0.5741 - val_loss: 0.6918\n",
      "Epoch 3/50\n",
      "\u001b[1m134/134\u001b[0m \u001b[32m━━━━━━━━━━━━━━━━━━━━\u001b[0m\u001b[37m\u001b[0m \u001b[1m2s\u001b[0m 13ms/step - accuracy: 0.5705 - loss: 0.6897 - val_accuracy: 0.5769 - val_loss: 0.6856\n",
      "Epoch 4/50\n",
      "\u001b[1m134/134\u001b[0m \u001b[32m━━━━━━━━━━━━━━━━━━━━\u001b[0m\u001b[37m\u001b[0m \u001b[1m2s\u001b[0m 13ms/step - accuracy: 0.5946 - loss: 0.6800 - val_accuracy: 0.5657 - val_loss: 0.6832\n",
      "Epoch 5/50\n",
      "\u001b[1m134/134\u001b[0m \u001b[32m━━━━━━━━━━━━━━━━━━━━\u001b[0m\u001b[37m\u001b[0m \u001b[1m2s\u001b[0m 13ms/step - accuracy: 0.6116 - loss: 0.6676 - val_accuracy: 0.5713 - val_loss: 0.6827\n",
      "Epoch 6/50\n",
      "\u001b[1m134/134\u001b[0m \u001b[32m━━━━━━━━━━━━━━━━━━━━\u001b[0m\u001b[37m\u001b[0m \u001b[1m2s\u001b[0m 13ms/step - accuracy: 0.6254 - loss: 0.6519 - val_accuracy: 0.5769 - val_loss: 0.6814\n"
     ]
    }
   ],
   "source": [
    "early_stopper = EarlyStopping(monitor='val_accuracy', patience=patience, restore_best_weights=True)\n",
    "\n",
    "attention_history = rnn_attention_pooling.fit(\n",
    "                         raw_train_padded, train_labels,\n",
    "                         epochs=no_epochs,\n",
    "                         batch_size=best_hps.get('batch_size'),\n",
    "                         validation_data=(raw_val_padded, val_labels),\n",
    "                         callbacks=[early_stopper])"
   ]
  },
  {
   "cell_type": "code",
   "execution_count": 30,
   "id": "0ae0d8d6",
   "metadata": {
    "execution": {
     "iopub.execute_input": "2024-11-09T01:53:37.360668Z",
     "iopub.status.busy": "2024-11-09T01:53:37.360000Z",
     "iopub.status.idle": "2024-11-09T01:53:38.253879Z",
     "shell.execute_reply": "2024-11-09T01:53:38.252880Z"
    },
    "papermill": {
     "duration": 1.092638,
     "end_time": "2024-11-09T01:53:38.255934",
     "exception": false,
     "start_time": "2024-11-09T01:53:37.163296",
     "status": "completed"
    },
    "tags": []
   },
   "outputs": [
    {
     "name": "stdout",
     "output_type": "stream",
     "text": [
      "\u001b[1m34/34\u001b[0m \u001b[32m━━━━━━━━━━━━━━━━━━━━\u001b[0m\u001b[37m\u001b[0m \u001b[1m1s\u001b[0m 14ms/step - accuracy: 0.5832 - loss: 0.6960\n",
      "Test Loss: 0.6869640350341797\n",
      "Test Accuracy: 57.13%\n"
     ]
    }
   ],
   "source": [
    "test_loss, test_accuracy = rnn_attention_pooling.evaluate(raw_test_padded, test_labels)\n",
    "\n",
    "print(f'Test Loss: {test_loss}')\n",
    "print(f'Test Accuracy: {test_accuracy * 100:.2f}%')"
   ]
  },
  {
   "cell_type": "markdown",
   "id": "2e651e77",
   "metadata": {
    "papermill": {
     "duration": 0.213365,
     "end_time": "2024-11-09T01:53:38.671946",
     "exception": false,
     "start_time": "2024-11-09T01:53:38.458581",
     "status": "completed"
    },
    "tags": []
   },
   "source": [
    "# RNN with raw unprocessed data and unfrozen embedding layer"
   ]
  },
  {
   "cell_type": "code",
   "execution_count": 31,
   "id": "f8dfcf63",
   "metadata": {
    "execution": {
     "iopub.execute_input": "2024-11-09T01:53:39.101984Z",
     "iopub.status.busy": "2024-11-09T01:53:39.101595Z",
     "iopub.status.idle": "2024-11-09T01:53:39.109685Z",
     "shell.execute_reply": "2024-11-09T01:53:39.108782Z"
    },
    "papermill": {
     "duration": 0.205592,
     "end_time": "2024-11-09T01:53:39.111773",
     "exception": false,
     "start_time": "2024-11-09T01:53:38.906181",
     "status": "completed"
    },
    "tags": []
   },
   "outputs": [],
   "source": [
    "optimizer = None\n",
    "if best_hps.get('optimizer') == 'adam':\n",
    "    optimizer = tf.keras.optimizers.Adam(learning_rate=best_hps.get('learning_rate'))\n",
    "elif best_hps.get('optimizer') == 'SGD':\n",
    "    optimizer = tf.keras.optimizers.SGD(learning_rate=best_hps.get('learning_rate'))"
   ]
  },
  {
   "cell_type": "code",
   "execution_count": 32,
   "id": "fb35a0c7",
   "metadata": {
    "execution": {
     "iopub.execute_input": "2024-11-09T01:53:39.505437Z",
     "iopub.status.busy": "2024-11-09T01:53:39.504768Z",
     "iopub.status.idle": "2024-11-09T01:53:39.598784Z",
     "shell.execute_reply": "2024-11-09T01:53:39.597931Z"
    },
    "papermill": {
     "duration": 0.292079,
     "end_time": "2024-11-09T01:53:39.600620",
     "exception": false,
     "start_time": "2024-11-09T01:53:39.308541",
     "status": "completed"
    },
    "tags": []
   },
   "outputs": [
    {
     "name": "stderr",
     "output_type": "stream",
     "text": [
      "/opt/conda/lib/python3.10/site-packages/keras/src/layers/layer.py:877: UserWarning: Layer 'global_max_pooling1d_2' (of type GlobalMaxPooling1D) was passed an input with a mask attached to it. However, this layer does not support masking and will therefore destroy the mask information. Downstream layers will not see the mask.\n",
      "  warnings.warn(\n"
     ]
    },
    {
     "data": {
      "text/html": [
       "<pre style=\"white-space:pre;overflow-x:auto;line-height:normal;font-family:Menlo,'DejaVu Sans Mono',consolas,'Courier New',monospace\"><span style=\"font-weight: bold\">Model: \"sequential_5\"</span>\n",
       "</pre>\n"
      ],
      "text/plain": [
       "\u001b[1mModel: \"sequential_5\"\u001b[0m\n"
      ]
     },
     "metadata": {},
     "output_type": "display_data"
    },
    {
     "data": {
      "text/html": [
       "<pre style=\"white-space:pre;overflow-x:auto;line-height:normal;font-family:Menlo,'DejaVu Sans Mono',consolas,'Courier New',monospace\">┏━━━━━━━━━━━━━━━━━━━━━━━━━━━━━━━━━┳━━━━━━━━━━━━━━━━━━━━━━━━┳━━━━━━━━━━━━━━━┓\n",
       "┃<span style=\"font-weight: bold\"> Layer (type)                    </span>┃<span style=\"font-weight: bold\"> Output Shape           </span>┃<span style=\"font-weight: bold\">       Param # </span>┃\n",
       "┡━━━━━━━━━━━━━━━━━━━━━━━━━━━━━━━━━╇━━━━━━━━━━━━━━━━━━━━━━━━╇━━━━━━━━━━━━━━━┩\n",
       "│ embedding_5 (<span style=\"color: #0087ff; text-decoration-color: #0087ff\">Embedding</span>)         │ (<span style=\"color: #00d7ff; text-decoration-color: #00d7ff\">None</span>, <span style=\"color: #00af00; text-decoration-color: #00af00\">100</span>, <span style=\"color: #00af00; text-decoration-color: #00af00\">300</span>)       │     <span style=\"color: #00af00; text-decoration-color: #00af00\">5,235,900</span> │\n",
       "├─────────────────────────────────┼────────────────────────┼───────────────┤\n",
       "│ simple_rnn_5 (<span style=\"color: #0087ff; text-decoration-color: #0087ff\">SimpleRNN</span>)        │ (<span style=\"color: #00d7ff; text-decoration-color: #00d7ff\">None</span>, <span style=\"color: #00af00; text-decoration-color: #00af00\">100</span>, <span style=\"color: #00af00; text-decoration-color: #00af00\">256</span>)       │       <span style=\"color: #00af00; text-decoration-color: #00af00\">142,592</span> │\n",
       "├─────────────────────────────────┼────────────────────────┼───────────────┤\n",
       "│ global_max_pooling1d_2          │ (<span style=\"color: #00d7ff; text-decoration-color: #00d7ff\">None</span>, <span style=\"color: #00af00; text-decoration-color: #00af00\">256</span>)            │             <span style=\"color: #00af00; text-decoration-color: #00af00\">0</span> │\n",
       "│ (<span style=\"color: #0087ff; text-decoration-color: #0087ff\">GlobalMaxPooling1D</span>)            │                        │               │\n",
       "├─────────────────────────────────┼────────────────────────┼───────────────┤\n",
       "│ dense_15 (<span style=\"color: #0087ff; text-decoration-color: #0087ff\">Dense</span>)                │ (<span style=\"color: #00d7ff; text-decoration-color: #00d7ff\">None</span>, <span style=\"color: #00af00; text-decoration-color: #00af00\">32</span>)             │         <span style=\"color: #00af00; text-decoration-color: #00af00\">8,224</span> │\n",
       "├─────────────────────────────────┼────────────────────────┼───────────────┤\n",
       "│ dense_16 (<span style=\"color: #0087ff; text-decoration-color: #0087ff\">Dense</span>)                │ (<span style=\"color: #00d7ff; text-decoration-color: #00d7ff\">None</span>, <span style=\"color: #00af00; text-decoration-color: #00af00\">32</span>)             │         <span style=\"color: #00af00; text-decoration-color: #00af00\">1,056</span> │\n",
       "├─────────────────────────────────┼────────────────────────┼───────────────┤\n",
       "│ dense_17 (<span style=\"color: #0087ff; text-decoration-color: #0087ff\">Dense</span>)                │ (<span style=\"color: #00d7ff; text-decoration-color: #00d7ff\">None</span>, <span style=\"color: #00af00; text-decoration-color: #00af00\">1</span>)              │            <span style=\"color: #00af00; text-decoration-color: #00af00\">33</span> │\n",
       "└─────────────────────────────────┴────────────────────────┴───────────────┘\n",
       "</pre>\n"
      ],
      "text/plain": [
       "┏━━━━━━━━━━━━━━━━━━━━━━━━━━━━━━━━━┳━━━━━━━━━━━━━━━━━━━━━━━━┳━━━━━━━━━━━━━━━┓\n",
       "┃\u001b[1m \u001b[0m\u001b[1mLayer (type)                   \u001b[0m\u001b[1m \u001b[0m┃\u001b[1m \u001b[0m\u001b[1mOutput Shape          \u001b[0m\u001b[1m \u001b[0m┃\u001b[1m \u001b[0m\u001b[1m      Param #\u001b[0m\u001b[1m \u001b[0m┃\n",
       "┡━━━━━━━━━━━━━━━━━━━━━━━━━━━━━━━━━╇━━━━━━━━━━━━━━━━━━━━━━━━╇━━━━━━━━━━━━━━━┩\n",
       "│ embedding_5 (\u001b[38;5;33mEmbedding\u001b[0m)         │ (\u001b[38;5;45mNone\u001b[0m, \u001b[38;5;34m100\u001b[0m, \u001b[38;5;34m300\u001b[0m)       │     \u001b[38;5;34m5,235,900\u001b[0m │\n",
       "├─────────────────────────────────┼────────────────────────┼───────────────┤\n",
       "│ simple_rnn_5 (\u001b[38;5;33mSimpleRNN\u001b[0m)        │ (\u001b[38;5;45mNone\u001b[0m, \u001b[38;5;34m100\u001b[0m, \u001b[38;5;34m256\u001b[0m)       │       \u001b[38;5;34m142,592\u001b[0m │\n",
       "├─────────────────────────────────┼────────────────────────┼───────────────┤\n",
       "│ global_max_pooling1d_2          │ (\u001b[38;5;45mNone\u001b[0m, \u001b[38;5;34m256\u001b[0m)            │             \u001b[38;5;34m0\u001b[0m │\n",
       "│ (\u001b[38;5;33mGlobalMaxPooling1D\u001b[0m)            │                        │               │\n",
       "├─────────────────────────────────┼────────────────────────┼───────────────┤\n",
       "│ dense_15 (\u001b[38;5;33mDense\u001b[0m)                │ (\u001b[38;5;45mNone\u001b[0m, \u001b[38;5;34m32\u001b[0m)             │         \u001b[38;5;34m8,224\u001b[0m │\n",
       "├─────────────────────────────────┼────────────────────────┼───────────────┤\n",
       "│ dense_16 (\u001b[38;5;33mDense\u001b[0m)                │ (\u001b[38;5;45mNone\u001b[0m, \u001b[38;5;34m32\u001b[0m)             │         \u001b[38;5;34m1,056\u001b[0m │\n",
       "├─────────────────────────────────┼────────────────────────┼───────────────┤\n",
       "│ dense_17 (\u001b[38;5;33mDense\u001b[0m)                │ (\u001b[38;5;45mNone\u001b[0m, \u001b[38;5;34m1\u001b[0m)              │            \u001b[38;5;34m33\u001b[0m │\n",
       "└─────────────────────────────────┴────────────────────────┴───────────────┘\n"
      ]
     },
     "metadata": {},
     "output_type": "display_data"
    },
    {
     "data": {
      "text/html": [
       "<pre style=\"white-space:pre;overflow-x:auto;line-height:normal;font-family:Menlo,'DejaVu Sans Mono',consolas,'Courier New',monospace\"><span style=\"font-weight: bold\"> Total params: </span><span style=\"color: #00af00; text-decoration-color: #00af00\">5,387,805</span> (20.55 MB)\n",
       "</pre>\n"
      ],
      "text/plain": [
       "\u001b[1m Total params: \u001b[0m\u001b[38;5;34m5,387,805\u001b[0m (20.55 MB)\n"
      ]
     },
     "metadata": {},
     "output_type": "display_data"
    },
    {
     "data": {
      "text/html": [
       "<pre style=\"white-space:pre;overflow-x:auto;line-height:normal;font-family:Menlo,'DejaVu Sans Mono',consolas,'Courier New',monospace\"><span style=\"font-weight: bold\"> Trainable params: </span><span style=\"color: #00af00; text-decoration-color: #00af00\">5,387,805</span> (20.55 MB)\n",
       "</pre>\n"
      ],
      "text/plain": [
       "\u001b[1m Trainable params: \u001b[0m\u001b[38;5;34m5,387,805\u001b[0m (20.55 MB)\n"
      ]
     },
     "metadata": {},
     "output_type": "display_data"
    },
    {
     "data": {
      "text/html": [
       "<pre style=\"white-space:pre;overflow-x:auto;line-height:normal;font-family:Menlo,'DejaVu Sans Mono',consolas,'Courier New',monospace\"><span style=\"font-weight: bold\"> Non-trainable params: </span><span style=\"color: #00af00; text-decoration-color: #00af00\">0</span> (0.00 B)\n",
       "</pre>\n"
      ],
      "text/plain": [
       "\u001b[1m Non-trainable params: \u001b[0m\u001b[38;5;34m0\u001b[0m (0.00 B)\n"
      ]
     },
     "metadata": {},
     "output_type": "display_data"
    }
   ],
   "source": [
    "best_model_bef = Sequential()\n",
    "best_model_bef.add(Embedding(input_dim=vocab_size,\n",
    "          output_dim=embedding_dim,\n",
    "          input_shape=(max_seq_len,),\n",
    "          weights=[embedding_matrix],\n",
    "          mask_zero=True,\n",
    "          trainable=True))\n",
    "\n",
    "best_model_bef.add(SimpleRNN(units=best_hps.get('hidden_dim'), return_sequences=True))\n",
    "\n",
    "best_model_bef.add(GlobalMaxPooling1D())  # Max pooling over the time dimension\n",
    "\n",
    "for i in range(best_hps.get('num_layers')):\n",
    "    best_model_bef.add(Dense(best_hps.get(f'units_{i}'), activation='relu'))\n",
    "\n",
    "best_model_bef.add(Dense(output_dim, activation='sigmoid')) # 1 dense (FC) layer for binary classification\n",
    "\n",
    "best_model_bef.compile(loss=\"binary_crossentropy\", optimizer=optimizer, metrics=[\"accuracy\"])\n",
    "best_model_bef.summary()"
   ]
  },
  {
   "cell_type": "code",
   "execution_count": 33,
   "id": "0ffc5972",
   "metadata": {
    "execution": {
     "iopub.execute_input": "2024-11-09T01:53:39.997770Z",
     "iopub.status.busy": "2024-11-09T01:53:39.996891Z",
     "iopub.status.idle": "2024-11-09T01:54:22.014006Z",
     "shell.execute_reply": "2024-11-09T01:54:22.013032Z"
    },
    "papermill": {
     "duration": 42.216347,
     "end_time": "2024-11-09T01:54:22.015997",
     "exception": false,
     "start_time": "2024-11-09T01:53:39.799650",
     "status": "completed"
    },
    "tags": []
   },
   "outputs": [
    {
     "name": "stdout",
     "output_type": "stream",
     "text": [
      "Epoch 1/50\n",
      "\u001b[1m134/134\u001b[0m \u001b[32m━━━━━━━━━━━━━━━━━━━━\u001b[0m\u001b[37m\u001b[0m \u001b[1m7s\u001b[0m 28ms/step - accuracy: 0.5044 - loss: 0.6938 - val_accuracy: 0.5600 - val_loss: 0.6885\n",
      "Epoch 2/50\n",
      "\u001b[1m134/134\u001b[0m \u001b[32m━━━━━━━━━━━━━━━━━━━━\u001b[0m\u001b[37m\u001b[0m \u001b[1m2s\u001b[0m 15ms/step - accuracy: 0.6208 - loss: 0.6727 - val_accuracy: 0.5835 - val_loss: 0.6781\n",
      "Epoch 3/50\n",
      "\u001b[1m134/134\u001b[0m \u001b[32m━━━━━━━━━━━━━━━━━━━━\u001b[0m\u001b[37m\u001b[0m \u001b[1m2s\u001b[0m 14ms/step - accuracy: 0.6589 - loss: 0.6389 - val_accuracy: 0.6051 - val_loss: 0.6669\n",
      "Epoch 4/50\n",
      "\u001b[1m134/134\u001b[0m \u001b[32m━━━━━━━━━━━━━━━━━━━━\u001b[0m\u001b[37m\u001b[0m \u001b[1m2s\u001b[0m 14ms/step - accuracy: 0.7089 - loss: 0.5866 - val_accuracy: 0.6313 - val_loss: 0.6585\n",
      "Epoch 5/50\n",
      "\u001b[1m134/134\u001b[0m \u001b[32m━━━━━━━━━━━━━━━━━━━━\u001b[0m\u001b[37m\u001b[0m \u001b[1m2s\u001b[0m 14ms/step - accuracy: 0.7649 - loss: 0.5156 - val_accuracy: 0.6266 - val_loss: 0.6768\n",
      "Epoch 6/50\n",
      "\u001b[1m134/134\u001b[0m \u001b[32m━━━━━━━━━━━━━━━━━━━━\u001b[0m\u001b[37m\u001b[0m \u001b[1m2s\u001b[0m 15ms/step - accuracy: 0.8155 - loss: 0.4389 - val_accuracy: 0.6473 - val_loss: 0.6936\n",
      "Epoch 7/50\n",
      "\u001b[1m134/134\u001b[0m \u001b[32m━━━━━━━━━━━━━━━━━━━━\u001b[0m\u001b[37m\u001b[0m \u001b[1m2s\u001b[0m 15ms/step - accuracy: 0.8655 - loss: 0.3470 - val_accuracy: 0.6670 - val_loss: 0.6926\n",
      "Epoch 8/50\n",
      "\u001b[1m134/134\u001b[0m \u001b[32m━━━━━━━━━━━━━━━━━━━━\u001b[0m\u001b[37m\u001b[0m \u001b[1m2s\u001b[0m 14ms/step - accuracy: 0.9139 - loss: 0.2575 - val_accuracy: 0.6660 - val_loss: 0.7157\n",
      "Epoch 9/50\n",
      "\u001b[1m134/134\u001b[0m \u001b[32m━━━━━━━━━━━━━━━━━━━━\u001b[0m\u001b[37m\u001b[0m \u001b[1m2s\u001b[0m 14ms/step - accuracy: 0.9416 - loss: 0.1903 - val_accuracy: 0.6707 - val_loss: 0.7844\n",
      "Epoch 10/50\n",
      "\u001b[1m134/134\u001b[0m \u001b[32m━━━━━━━━━━━━━━━━━━━━\u001b[0m\u001b[37m\u001b[0m \u001b[1m2s\u001b[0m 14ms/step - accuracy: 0.9506 - loss: 0.1585 - val_accuracy: 0.6867 - val_loss: 0.7516\n",
      "Epoch 11/50\n",
      "\u001b[1m134/134\u001b[0m \u001b[32m━━━━━━━━━━━━━━━━━━━━\u001b[0m\u001b[37m\u001b[0m \u001b[1m2s\u001b[0m 14ms/step - accuracy: 0.9640 - loss: 0.1221 - val_accuracy: 0.6782 - val_loss: 0.8612\n",
      "Epoch 12/50\n",
      "\u001b[1m134/134\u001b[0m \u001b[32m━━━━━━━━━━━━━━━━━━━━\u001b[0m\u001b[37m\u001b[0m \u001b[1m2s\u001b[0m 14ms/step - accuracy: 0.9809 - loss: 0.0852 - val_accuracy: 0.6886 - val_loss: 0.9186\n",
      "Epoch 13/50\n",
      "\u001b[1m134/134\u001b[0m \u001b[32m━━━━━━━━━━━━━━━━━━━━\u001b[0m\u001b[37m\u001b[0m \u001b[1m2s\u001b[0m 15ms/step - accuracy: 0.9856 - loss: 0.0742 - val_accuracy: 0.6942 - val_loss: 0.8189\n",
      "Epoch 14/50\n",
      "\u001b[1m134/134\u001b[0m \u001b[32m━━━━━━━━━━━━━━━━━━━━\u001b[0m\u001b[37m\u001b[0m \u001b[1m2s\u001b[0m 14ms/step - accuracy: 0.9935 - loss: 0.0481 - val_accuracy: 0.6942 - val_loss: 0.8637\n",
      "Epoch 15/50\n",
      "\u001b[1m134/134\u001b[0m \u001b[32m━━━━━━━━━━━━━━━━━━━━\u001b[0m\u001b[37m\u001b[0m \u001b[1m2s\u001b[0m 14ms/step - accuracy: 0.9974 - loss: 0.0276 - val_accuracy: 0.7017 - val_loss: 0.9312\n",
      "Epoch 16/50\n",
      "\u001b[1m134/134\u001b[0m \u001b[32m━━━━━━━━━━━━━━━━━━━━\u001b[0m\u001b[37m\u001b[0m \u001b[1m2s\u001b[0m 14ms/step - accuracy: 0.9994 - loss: 0.0189 - val_accuracy: 0.7083 - val_loss: 0.9933\n",
      "Epoch 17/50\n",
      "\u001b[1m134/134\u001b[0m \u001b[32m━━━━━━━━━━━━━━━━━━━━\u001b[0m\u001b[37m\u001b[0m \u001b[1m2s\u001b[0m 14ms/step - accuracy: 0.9997 - loss: 0.0142 - val_accuracy: 0.6932 - val_loss: 1.0877\n",
      "Epoch 18/50\n",
      "\u001b[1m134/134\u001b[0m \u001b[32m━━━━━━━━━━━━━━━━━━━━\u001b[0m\u001b[37m\u001b[0m \u001b[1m2s\u001b[0m 14ms/step - accuracy: 0.9997 - loss: 0.0110 - val_accuracy: 0.6820 - val_loss: 1.2987\n",
      "Epoch 19/50\n",
      "\u001b[1m134/134\u001b[0m \u001b[32m━━━━━━━━━━━━━━━━━━━━\u001b[0m\u001b[37m\u001b[0m \u001b[1m2s\u001b[0m 14ms/step - accuracy: 0.9992 - loss: 0.0104 - val_accuracy: 0.6857 - val_loss: 1.4309\n"
     ]
    }
   ],
   "source": [
    "early_stopper = EarlyStopping(monitor='val_accuracy', patience=patience, restore_best_weights=True)\n",
    "\n",
    "best_model_bef_history = best_model_bef.fit(raw_train_padded, train_labels,\n",
    "                         epochs=no_epochs,\n",
    "                         batch_size=best_hps.get('batch_size'),\n",
    "                         validation_data=(raw_val_padded, val_labels),\n",
    "                         callbacks=[early_stopper])"
   ]
  },
  {
   "cell_type": "code",
   "execution_count": 34,
   "id": "d0213452",
   "metadata": {
    "execution": {
     "iopub.execute_input": "2024-11-09T01:54:22.521744Z",
     "iopub.status.busy": "2024-11-09T01:54:22.520942Z",
     "iopub.status.idle": "2024-11-09T01:54:23.207243Z",
     "shell.execute_reply": "2024-11-09T01:54:23.206239Z"
    },
    "papermill": {
     "duration": 0.939805,
     "end_time": "2024-11-09T01:54:23.209409",
     "exception": false,
     "start_time": "2024-11-09T01:54:22.269604",
     "status": "completed"
    },
    "tags": []
   },
   "outputs": [
    {
     "name": "stdout",
     "output_type": "stream",
     "text": [
      "\u001b[1m34/34\u001b[0m \u001b[32m━━━━━━━━━━━━━━━━━━━━\u001b[0m\u001b[37m\u001b[0m \u001b[1m1s\u001b[0m 10ms/step - accuracy: 0.7298 - loss: 0.8833\n",
      "Test Loss: 0.9292657971382141\n",
      "Test Accuracy: 71.11%\n"
     ]
    }
   ],
   "source": [
    "test_loss, test_accuracy = best_model_bef.evaluate(raw_test_padded, test_labels)\n",
    "\n",
    "print(f'Test Loss: {test_loss}')\n",
    "print(f'Test Accuracy: {test_accuracy * 100:.2f}%')"
   ]
  },
  {
   "cell_type": "markdown",
   "id": "315f84db",
   "metadata": {
    "id": "5iI-z8lv67M9",
    "papermill": {
     "duration": 0.28928,
     "end_time": "2024-11-09T01:54:23.749195",
     "exception": false,
     "start_time": "2024-11-09T01:54:23.459915",
     "status": "completed"
    },
    "tags": []
   },
   "source": [
    "# Cleaning Training Text"
   ]
  },
  {
   "cell_type": "code",
   "execution_count": 35,
   "id": "f2835378",
   "metadata": {
    "execution": {
     "iopub.execute_input": "2024-11-09T01:54:24.250587Z",
     "iopub.status.busy": "2024-11-09T01:54:24.250173Z",
     "iopub.status.idle": "2024-11-09T01:54:24.254719Z",
     "shell.execute_reply": "2024-11-09T01:54:24.253826Z"
    },
    "id": "PqX7bbkXysIP",
    "papermill": {
     "duration": 0.257876,
     "end_time": "2024-11-09T01:54:24.256618",
     "exception": false,
     "start_time": "2024-11-09T01:54:23.998742",
     "status": "completed"
    },
    "tags": []
   },
   "outputs": [],
   "source": [
    "def expand_contractions(text):\n",
    "    return contractions.fix(text)"
   ]
  },
  {
   "cell_type": "code",
   "execution_count": 36,
   "id": "55db7b1c",
   "metadata": {
    "execution": {
     "iopub.execute_input": "2024-11-09T01:54:24.774418Z",
     "iopub.status.busy": "2024-11-09T01:54:24.773480Z",
     "iopub.status.idle": "2024-11-09T01:54:24.779317Z",
     "shell.execute_reply": "2024-11-09T01:54:24.778372Z"
    },
    "papermill": {
     "duration": 0.270703,
     "end_time": "2024-11-09T01:54:24.781309",
     "exception": false,
     "start_time": "2024-11-09T01:54:24.510606",
     "status": "completed"
    },
    "tags": []
   },
   "outputs": [],
   "source": [
    "def re_manip(text):\n",
    "    #remove apostrophe and punctuations\n",
    "    text = re.sub(r\"'\\S*\", \"\", text)\n",
    "    text = re.sub(r'[^\\w\\s]', ' ', text)\n",
    "\n",
    "    #remove numbers\n",
    "    text = re.sub(r'\\b\\d+(st|nd|rd|th)?\\b', '', text)\n",
    "\n",
    "    text = re.sub(r'\\s+', ' ', text).strip()\n",
    "\n",
    "    return text"
   ]
  },
  {
   "cell_type": "code",
   "execution_count": 37,
   "id": "08548af3",
   "metadata": {
    "execution": {
     "iopub.execute_input": "2024-11-09T01:54:25.283475Z",
     "iopub.status.busy": "2024-11-09T01:54:25.283051Z",
     "iopub.status.idle": "2024-11-09T01:54:25.844420Z",
     "shell.execute_reply": "2024-11-09T01:54:25.843436Z"
    },
    "papermill": {
     "duration": 0.813909,
     "end_time": "2024-11-09T01:54:25.846636",
     "exception": false,
     "start_time": "2024-11-09T01:54:25.032727",
     "status": "completed"
    },
    "tags": []
   },
   "outputs": [],
   "source": [
    "### INTERMEDIARY STEP TO NOT OVERUSE TRANSLATION API\n",
    "cleaned_train_text = [re_manip(expand_contractions(text)) for text in train_text]\n",
    "\n",
    "tokenizer = Tokenizer(oov_token='<UNK>')  # <UNK> for unseen words\n",
    "tokenizer.fit_on_texts(cleaned_train_text)\n",
    "\n",
    "# Identify OOV words (Words appeared in training data but not in the GloVe dictionary)\n",
    "oov_words = []\n",
    "for word in tokenizer.word_index:\n",
    "  if word not in glove_vocab:\n",
    "    oov_words.append(word)"
   ]
  },
  {
   "cell_type": "code",
   "execution_count": 38,
   "id": "28c271e9",
   "metadata": {
    "execution": {
     "iopub.execute_input": "2024-11-09T01:54:26.347549Z",
     "iopub.status.busy": "2024-11-09T01:54:26.346560Z",
     "iopub.status.idle": "2024-11-09T01:54:26.351719Z",
     "shell.execute_reply": "2024-11-09T01:54:26.350907Z"
    },
    "papermill": {
     "duration": 0.256988,
     "end_time": "2024-11-09T01:54:26.353558",
     "exception": false,
     "start_time": "2024-11-09T01:54:26.096570",
     "status": "completed"
    },
    "tags": []
   },
   "outputs": [],
   "source": [
    "language_locale_map = {\n",
    "    \"es\": \"es-ES\",\n",
    "    \"fr\": \"fr-FR\",\n",
    "    \"de\": \"de-DE\",\n",
    "    \"it\": \"it-IT\",\n",
    "    \"pt\": \"pt-PT\",\n",
    "    \"ru\": \"ru-RU\",\n",
    "    \"zh\": \"zh-CN\",\n",
    "    \"ja\": \"ja-JP\",\n",
    "    \"ko\": \"ko-KR\",\n",
    "    \"ar\": \"ar-SA\"\n",
    "}"
   ]
  },
  {
   "cell_type": "code",
   "execution_count": 39,
   "id": "cfce6811",
   "metadata": {
    "execution": {
     "iopub.execute_input": "2024-11-09T01:54:26.903313Z",
     "iopub.status.busy": "2024-11-09T01:54:26.902689Z",
     "iopub.status.idle": "2024-11-09T01:54:27.073071Z",
     "shell.execute_reply": "2024-11-09T01:54:27.072040Z"
    },
    "papermill": {
     "duration": 0.432144,
     "end_time": "2024-11-09T01:54:27.075972",
     "exception": false,
     "start_time": "2024-11-09T01:54:26.643828",
     "status": "completed"
    },
    "tags": []
   },
   "outputs": [],
   "source": [
    "spell = SpellChecker(distance=3)\n",
    "\n",
    "def correct_and_translate(word):\n",
    "    spell.distance = 3\n",
    "    corrected_word = spell.correction(word) or word\n",
    "    try:\n",
    "        lang = detect(corrected_word)\n",
    "        if lang in language_locale_map and lang != 'en':\n",
    "            source_locale = language_locale_map[lang]\n",
    "            translator = MyMemoryTranslator(source=source_locale, target='en-US')\n",
    "            corrected_word = translator.translate(corrected_word)\n",
    "\n",
    "    except Exception as e:\n",
    "        print(f\"Error translating word '{corrected_word}': {e}\")\n",
    "\n",
    "    return corrected_word"
   ]
  },
  {
   "cell_type": "code",
   "execution_count": 40,
   "id": "b58759ad",
   "metadata": {
    "execution": {
     "iopub.execute_input": "2024-11-09T01:54:27.607779Z",
     "iopub.status.busy": "2024-11-09T01:54:27.607367Z",
     "iopub.status.idle": "2024-11-09T02:07:19.006336Z",
     "shell.execute_reply": "2024-11-09T02:07:19.005435Z"
    },
    "id": "ZUHozCs3vjNv",
    "papermill": {
     "duration": 771.91222,
     "end_time": "2024-11-09T02:07:19.262704",
     "exception": false,
     "start_time": "2024-11-09T01:54:27.350484",
     "status": "completed"
    },
    "tags": []
   },
   "outputs": [
    {
     "name": "stdout",
     "output_type": "stream",
     "text": [
      "Before: the rock is destined to be the 21st century's new \" conan \" and that he's going to make a splash even greater than arnold schwarzenegger , jean-claud van damme or steven segal .\n",
      "After: the rock be destine to be the century new conan and that he be go to make a splash even great than arnold schwarzenegger jean claud van damme or steven segal\n"
     ]
    }
   ],
   "source": [
    "nlp = spacy.load(\"en_core_web_sm\")\n",
    "spell = SpellChecker(distance=3)\n",
    "\n",
    "def lemmatize_with_handling(text, oov_words):\n",
    "    doc = nlp(text)\n",
    "    lemmatized_words = []\n",
    "\n",
    "    for token in doc:\n",
    "        if token.text in oov_words:\n",
    "            lemmatized_words.append(correct_and_translate(token.text))\n",
    "        else:\n",
    "            spell.distance = 2\n",
    "            lemma = token.lemma_\n",
    "            if token.lemma_ not in glove_vocab:\n",
    "                lemma = spell.correction(lemma) or lemma\n",
    "\n",
    "            lemmatized_words.append(lemma)\n",
    "\n",
    "    return \" \".join(lemmatized_words)\n",
    "\n",
    "cleaned_train_text = [lemmatize_with_handling(text, oov_words) for text in cleaned_train_text]\n",
    "\n",
    "print(\"Before:\", train_text[0])\n",
    "print(\"After:\", cleaned_train_text[0])"
   ]
  },
  {
   "cell_type": "code",
   "execution_count": 41,
   "id": "4c2d7832",
   "metadata": {
    "execution": {
     "iopub.execute_input": "2024-11-09T02:07:19.767335Z",
     "iopub.status.busy": "2024-11-09T02:07:19.766560Z",
     "iopub.status.idle": "2024-11-09T02:07:19.773041Z",
     "shell.execute_reply": "2024-11-09T02:07:19.772125Z"
    },
    "papermill": {
     "duration": 0.26143,
     "end_time": "2024-11-09T02:07:19.775002",
     "exception": false,
     "start_time": "2024-11-09T02:07:19.513572",
     "status": "completed"
    },
    "tags": []
   },
   "outputs": [],
   "source": [
    "### FUNCTION PURELY FOR TEST/VAL DATA\n",
    "def clean_words(texts):\n",
    "    cleaned_text = [re_manip(expand_contractions(text)) for text in texts]\n",
    "    tokenizer.fit_on_texts(cleaned_text)  \n",
    "\n",
    "    # Identify OOV words (Words appeared in training data but not in the GloVe dictionary)\n",
    "    oov_word = []\n",
    "\n",
    "    for word in tokenizer.word_index:\n",
    "      if word not in glove_vocab:\n",
    "        oov_word.append(word)\n",
    "\n",
    "    finalised_text = [lemmatize_with_handling(text, oov_word) for text in cleaned_text]\n",
    "\n",
    "    return finalised_text"
   ]
  },
  {
   "cell_type": "code",
   "execution_count": 42,
   "id": "aca7bc29",
   "metadata": {
    "execution": {
     "iopub.execute_input": "2024-11-09T02:07:20.279552Z",
     "iopub.status.busy": "2024-11-09T02:07:20.279145Z",
     "iopub.status.idle": "2024-11-09T02:10:43.369084Z",
     "shell.execute_reply": "2024-11-09T02:10:43.368254Z"
    },
    "papermill": {
     "duration": 203.347456,
     "end_time": "2024-11-09T02:10:43.371457",
     "exception": false,
     "start_time": "2024-11-09T02:07:20.024001",
     "status": "completed"
    },
    "tags": []
   },
   "outputs": [],
   "source": [
    "# Clean test/validation sets\n",
    "test_text = test_dataset['text']\n",
    "val_text = validation_dataset['text']\n",
    "cleaned_test_text = clean_words(test_text)\n",
    "cleaned_val_text = clean_words(val_text)"
   ]
  },
  {
   "cell_type": "markdown",
   "id": "34d8db78",
   "metadata": {
    "id": "XTTDR-xi7I9c",
    "papermill": {
     "duration": 0.2488,
     "end_time": "2024-11-09T02:10:43.871410",
     "exception": false,
     "start_time": "2024-11-09T02:10:43.622610",
     "status": "completed"
    },
    "tags": []
   },
   "source": [
    "Assigning 'UNK' Label on Cleaned Training Text"
   ]
  },
  {
   "cell_type": "code",
   "execution_count": 43,
   "id": "e452479c",
   "metadata": {
    "execution": {
     "iopub.execute_input": "2024-11-09T02:10:44.374175Z",
     "iopub.status.busy": "2024-11-09T02:10:44.373511Z",
     "iopub.status.idle": "2024-11-09T02:10:44.603153Z",
     "shell.execute_reply": "2024-11-09T02:10:44.602186Z"
    },
    "id": "e4yAJBxk4-Bv",
    "papermill": {
     "duration": 0.4836,
     "end_time": "2024-11-09T02:10:44.605318",
     "exception": false,
     "start_time": "2024-11-09T02:10:44.121718",
     "status": "completed"
    },
    "tags": []
   },
   "outputs": [
    {
     "name": "stdout",
     "output_type": "stream",
     "text": [
      "Out-of-vocabulary words: ['<UNK>', 'exhilarate', 'engross', 'moviemake', 'stylize', 'unclinch', 'windtalker', 'clockstopper', 'enthral', 'waydowntown', 'ozpetek', 'everlaste', 'spellbind', 'kosashvili', 'tambac', 'swinge', 'feardotcom', 'overstuff', 'deprave', 'watstein', 'appal', 'breathtake', 'throe', 'rollick', 'tatter', 'runteldat', 'misconceive', 'cheerly', 'janklowicz', 'frissons', 'infatuate', 'roteirista', 'stupefy', 'groundbreake', 'cliffsnote', 'wertmull', 'wisegirls', 'enrapturing', 'originalidad', 'overpraise', 'syncopate', 'obviation', 'gorefests', 'makmalbaf', 'shapelessly', 'mullinski', 'narcotizing', 'sparklingly', 'dreyfu', 'nonthreatene', 'dominatrixes', 'denlopp', 'sappier', 'sorprenderá', 'sarcastic\\xa0', 'powaqqatsi', 'kaputschnik', 'monkeyfun', 'bierbichler', 'unindicte', 'datedness', 'inhospitality', 'hastier', 'existência', 'inquestionável', 'hotdogging', 'sogginess', 'stuffiest', 'limewater', 'muckrake', 'premiss', 'mergulha', 'culminant', 'desfecho', 'lentamente', 'soaringly', 'entretiene', 'pulpiness', 'haphazardness', 'preordain', 'kibbutzes', 'cineast', 'backmaske', 'undemande', 'overmanipulative', 's1m0ne', 'crappola', 'koshashvili', 'jaglomized', 'fizzability', 'choquart', 'soberbio', 'igualmente', 'unreligious', 'anteing', 'mouglalis', 'efteriades', 'narcotized', 'volletta', 'whimsicality', 'playwrite', 'corniest', 'blighter', 'veggietale', 'helve', 'bloodlette', 'deliria', 'bjorkness', 'musclefest', 'copmovieland', 'movilizador', 'qintar', 'truncheoning', 'hitchcockianism', 'chabrolian', 'crowdpleaser', 'beseechingly', 'cannier', 'fílmica', 'hellstenius', 'luvvie', 'bergmanesque', 'snazziness', 'shmear', 'plaintiveness', \"swordfish's\", 'japanimator', 'flakeball', 'atacarse', 'conmovedora', 'início', 'depuncture', 'dreadfulness', 'heremakono', 'twentysomethe', 'preocupar', 'lágrima', 'italianas', 'desex', 'shimmeringly', 'scintillate', 'próprio', 'utilizer', 'nonethnic', 'dysfunctionally', 'vulakoro', 'goodfella', 'goombah', 'dudsville', 'cleanflick', 'profeminist', 'francamente', 'psychologize', 'nebrida', 'thanksgive', 'mcklusky', 'blutarsky', 'enamor', 'underwhelm', 'unimpressively', 'bibbidy', 'fluxing', 'halfwit', 'acetous', 'decigram', 'indieflick', 'nonchallenging', 'smashups', 'stuporous', 'repellently', 'kalesniko', 'squaddie', 'sandlerian', 'penotti', 'leatherbound', 'zzzzzzzzz', 'cuttingly', 'prepackage', 'sychowski', 'fustily', 'sitcomishly', 'becalm', 'sidesplitte', 'italicizes', 'prefabricate', 'shippable', 'greaseballs', 'disaffect', 'overstylized', 'substitutable', 'leplouff', 'cassavete', 'overplotted', 'collogue', 'heartsome', 'untagged', 'dateflick', 'higuchinsky', 'fisticuff', 'hamfisted', 'nutjob', 'overemphatic', 'lástima', 'estafette', 'inconsequentiality', 'repulsively', 'laboriousness', 'shayamalan', 'greasiest', 'solondzian', 'dissatisfy', 'divertingly', 'fuhgeddaboutit', 'wewannour', 'salaciously', 'dogwalker', 'kazmierski', 'humbuggery', 'enervate', 'platinium', 'interspliced', 'diferença', 'miscasts', 'likableness', 'elegiacally', 'ryanovich', 'excrescence', 'uberviolence', 'roisterous', 'superadd', 'slummy', 'guessable', 'cipherlike', 'hobnail', 'motorize', 'psychodramatic', 'sermonize', 'absolutamente', 'meanspirited', 'gadroon', 'splatterfests', 'megaplexe', 'estranges', 'cirulnick', 'artsploitation', 'unsalvageability', 'transfigures', 'witlessness', 'pollyana', 'shakable', 'imponderably', 'emaciate', 'bruckheimeresque', 'derivativeness', 'preciosity', 'reboil', 'perfervid', 'underdramatized', 'cockeye', 'joylessly', 'emptily', 'gabbiest', 'overinflate', 'hermocrate', 'bazadone', 'tardier', 'chopsocky', 'fuddled', 'ninguém', 'simbolizando', 'covardia', 'shoplifts', 'shakesperean', 'silberle', 'amusedly', 'snoots', 'shlockmeister']\n",
      "Number of OOV words: 277\n"
     ]
    }
   ],
   "source": [
    "# Initialise the tokeniser\n",
    "tokenizer = Tokenizer(oov_token='<UNK>')  # <UNK> for unseen words\n",
    "tokenizer.fit_on_texts(cleaned_train_text)\n",
    "\n",
    "# Identify OOV words (Words appeared in training data but not in the GloVe dictionary)\n",
    "oov_words = []\n",
    "\n",
    "for word in tokenizer.word_index:\n",
    "  if word not in glove_vocab:\n",
    "    oov_words.append(word)\n",
    "\n",
    "# Print OOV words\n",
    "print(\"Out-of-vocabulary words:\", oov_words)\n",
    "print(\"Number of OOV words:\", len(oov_words))"
   ]
  },
  {
   "cell_type": "markdown",
   "id": "4423c98f",
   "metadata": {
    "id": "n_WZCWDS9HRj",
    "papermill": {
     "duration": 0.254155,
     "end_time": "2024-11-09T02:10:45.151829",
     "exception": false,
     "start_time": "2024-11-09T02:10:44.897674",
     "status": "completed"
    },
    "tags": []
   },
   "source": [
    "# RNN with processed data and unfrozen embedding layer"
   ]
  },
  {
   "cell_type": "code",
   "execution_count": 44,
   "id": "af254a32",
   "metadata": {
    "execution": {
     "iopub.execute_input": "2024-11-09T02:10:45.655441Z",
     "iopub.status.busy": "2024-11-09T02:10:45.655026Z",
     "iopub.status.idle": "2024-11-09T02:10:45.862331Z",
     "shell.execute_reply": "2024-11-09T02:10:45.861339Z"
    },
    "id": "q3Vc7p948B6u",
    "papermill": {
     "duration": 0.461049,
     "end_time": "2024-11-09T02:10:45.864495",
     "exception": false,
     "start_time": "2024-11-09T02:10:45.403446",
     "status": "completed"
    },
    "tags": []
   },
   "outputs": [
    {
     "name": "stdout",
     "output_type": "stream",
     "text": [
      "Before: [2, 579, 3, 2602, 7, 3, 2, 748, 98, 4251, 5, 10, 61, 3, 71, 7, 25, 4, 2291, 60, 113, 34, 1349, 1854, 1855, 7481, 1439, 5371, 41, 834, 7482]\n",
      "After: [2, 579, 3, 2602, 7, 3, 2, 748, 98, 4251, 5, 10, 61, 3, 71, 7, 25, 4, 2291, 60, 113, 34, 1349, 1854, 1855, 7481, 1439, 5371, 41, 834, 7482, 0, 0, 0, 0, 0, 0, 0, 0, 0, 0, 0, 0, 0, 0, 0, 0, 0, 0, 0, 0, 0, 0, 0, 0, 0, 0, 0, 0, 0, 0, 0, 0, 0, 0, 0, 0, 0, 0, 0, 0, 0, 0, 0, 0, 0, 0, 0, 0, 0, 0, 0, 0, 0, 0, 0, 0, 0, 0, 0, 0, 0, 0, 0, 0, 0, 0, 0, 0, 0]\n"
     ]
    }
   ],
   "source": [
    "# Convert texts to sequences (words to the word index in tokenizer)\n",
    "train_sequences = tokenizer.texts_to_sequences(cleaned_train_text)\n",
    "\n",
    "# Pad the sequences (ensure they are all the same length)\n",
    "max_seq_len = 100\n",
    "tokenizer.word_index['<PAD>'] = 0\n",
    "train_padded = pad_sequences(train_sequences, maxlen=max_seq_len, padding='post', value=tokenizer.word_index['<PAD>'])\n",
    "\n",
    "print(\"Before:\", train_sequences[0])\n",
    "print(\"After:\", list(train_padded[0]))"
   ]
  },
  {
   "cell_type": "code",
   "execution_count": 45,
   "id": "27845fe6",
   "metadata": {
    "execution": {
     "iopub.execute_input": "2024-11-09T02:10:46.374119Z",
     "iopub.status.busy": "2024-11-09T02:10:46.373729Z",
     "iopub.status.idle": "2024-11-09T02:10:46.439097Z",
     "shell.execute_reply": "2024-11-09T02:10:46.438183Z"
    },
    "id": "LfNsxEOk9OkK",
    "papermill": {
     "duration": 0.319968,
     "end_time": "2024-11-09T02:10:46.441091",
     "exception": false,
     "start_time": "2024-11-09T02:10:46.121123",
     "status": "completed"
    },
    "tags": []
   },
   "outputs": [],
   "source": [
    "# Prepare inputs for model\n",
    "# Convert validation and test texts to sequences\n",
    "val_sequences = tokenizer.texts_to_sequences(cleaned_val_text)\n",
    "test_sequences = tokenizer.texts_to_sequences(cleaned_test_text)\n",
    "\n",
    "# Pad sequences\n",
    "val_padded = pad_sequences(val_sequences, maxlen=max_seq_len, padding='post', value=tokenizer.word_index['<PAD>'])\n",
    "test_padded = pad_sequences(test_sequences, maxlen=max_seq_len, padding='post', value=tokenizer.word_index['<PAD>'])\n",
    "\n",
    "# Labels\n",
    "train_labels = np.array(train_dataset['label'])\n",
    "val_labels = np.array(validation_dataset['label'])\n",
    "test_labels = np.array(test_dataset['label'])"
   ]
  },
  {
   "cell_type": "code",
   "execution_count": 46,
   "id": "1ee88f6a",
   "metadata": {
    "execution": {
     "iopub.execute_input": "2024-11-09T02:10:46.944927Z",
     "iopub.status.busy": "2024-11-09T02:10:46.944167Z",
     "iopub.status.idle": "2024-11-09T02:10:46.952238Z",
     "shell.execute_reply": "2024-11-09T02:10:46.951428Z"
    },
    "papermill": {
     "duration": 0.26286,
     "end_time": "2024-11-09T02:10:46.954923",
     "exception": false,
     "start_time": "2024-11-09T02:10:46.692063",
     "status": "completed"
    },
    "tags": []
   },
   "outputs": [],
   "source": [
    "optimizer = None\n",
    "if best_hps.get('optimizer') == 'adam':\n",
    "    optimizer = tf.keras.optimizers.Adam(learning_rate=best_hps.get('learning_rate'))\n",
    "elif best_hps.get('optimizer') == 'SGD':\n",
    "    optimizer = tf.keras.optimizers.SGD(learning_rate=best_hps.get('learning_rate'))"
   ]
  },
  {
   "cell_type": "code",
   "execution_count": 47,
   "id": "b8f9d4c5",
   "metadata": {
    "execution": {
     "iopub.execute_input": "2024-11-09T02:10:47.497977Z",
     "iopub.status.busy": "2024-11-09T02:10:47.497625Z",
     "iopub.status.idle": "2024-11-09T02:10:47.594457Z",
     "shell.execute_reply": "2024-11-09T02:10:47.593562Z"
    },
    "papermill": {
     "duration": 0.351819,
     "end_time": "2024-11-09T02:10:47.596410",
     "exception": false,
     "start_time": "2024-11-09T02:10:47.244591",
     "status": "completed"
    },
    "tags": []
   },
   "outputs": [
    {
     "name": "stderr",
     "output_type": "stream",
     "text": [
      "/opt/conda/lib/python3.10/site-packages/keras/src/layers/layer.py:877: UserWarning: Layer 'global_max_pooling1d_3' (of type GlobalMaxPooling1D) was passed an input with a mask attached to it. However, this layer does not support masking and will therefore destroy the mask information. Downstream layers will not see the mask.\n",
      "  warnings.warn(\n"
     ]
    },
    {
     "data": {
      "text/html": [
       "<pre style=\"white-space:pre;overflow-x:auto;line-height:normal;font-family:Menlo,'DejaVu Sans Mono',consolas,'Courier New',monospace\"><span style=\"font-weight: bold\">Model: \"sequential_6\"</span>\n",
       "</pre>\n"
      ],
      "text/plain": [
       "\u001b[1mModel: \"sequential_6\"\u001b[0m\n"
      ]
     },
     "metadata": {},
     "output_type": "display_data"
    },
    {
     "data": {
      "text/html": [
       "<pre style=\"white-space:pre;overflow-x:auto;line-height:normal;font-family:Menlo,'DejaVu Sans Mono',consolas,'Courier New',monospace\">┏━━━━━━━━━━━━━━━━━━━━━━━━━━━━━━━━━┳━━━━━━━━━━━━━━━━━━━━━━━━┳━━━━━━━━━━━━━━━┓\n",
       "┃<span style=\"font-weight: bold\"> Layer (type)                    </span>┃<span style=\"font-weight: bold\"> Output Shape           </span>┃<span style=\"font-weight: bold\">       Param # </span>┃\n",
       "┡━━━━━━━━━━━━━━━━━━━━━━━━━━━━━━━━━╇━━━━━━━━━━━━━━━━━━━━━━━━╇━━━━━━━━━━━━━━━┩\n",
       "│ embedding_6 (<span style=\"color: #0087ff; text-decoration-color: #0087ff\">Embedding</span>)         │ (<span style=\"color: #00d7ff; text-decoration-color: #00d7ff\">None</span>, <span style=\"color: #00af00; text-decoration-color: #00af00\">100</span>, <span style=\"color: #00af00; text-decoration-color: #00af00\">300</span>)       │     <span style=\"color: #00af00; text-decoration-color: #00af00\">5,235,900</span> │\n",
       "├─────────────────────────────────┼────────────────────────┼───────────────┤\n",
       "│ simple_rnn_6 (<span style=\"color: #0087ff; text-decoration-color: #0087ff\">SimpleRNN</span>)        │ (<span style=\"color: #00d7ff; text-decoration-color: #00d7ff\">None</span>, <span style=\"color: #00af00; text-decoration-color: #00af00\">100</span>, <span style=\"color: #00af00; text-decoration-color: #00af00\">256</span>)       │       <span style=\"color: #00af00; text-decoration-color: #00af00\">142,592</span> │\n",
       "├─────────────────────────────────┼────────────────────────┼───────────────┤\n",
       "│ global_max_pooling1d_3          │ (<span style=\"color: #00d7ff; text-decoration-color: #00d7ff\">None</span>, <span style=\"color: #00af00; text-decoration-color: #00af00\">256</span>)            │             <span style=\"color: #00af00; text-decoration-color: #00af00\">0</span> │\n",
       "│ (<span style=\"color: #0087ff; text-decoration-color: #0087ff\">GlobalMaxPooling1D</span>)            │                        │               │\n",
       "├─────────────────────────────────┼────────────────────────┼───────────────┤\n",
       "│ dense_18 (<span style=\"color: #0087ff; text-decoration-color: #0087ff\">Dense</span>)                │ (<span style=\"color: #00d7ff; text-decoration-color: #00d7ff\">None</span>, <span style=\"color: #00af00; text-decoration-color: #00af00\">32</span>)             │         <span style=\"color: #00af00; text-decoration-color: #00af00\">8,224</span> │\n",
       "├─────────────────────────────────┼────────────────────────┼───────────────┤\n",
       "│ dense_19 (<span style=\"color: #0087ff; text-decoration-color: #0087ff\">Dense</span>)                │ (<span style=\"color: #00d7ff; text-decoration-color: #00d7ff\">None</span>, <span style=\"color: #00af00; text-decoration-color: #00af00\">32</span>)             │         <span style=\"color: #00af00; text-decoration-color: #00af00\">1,056</span> │\n",
       "├─────────────────────────────────┼────────────────────────┼───────────────┤\n",
       "│ dense_20 (<span style=\"color: #0087ff; text-decoration-color: #0087ff\">Dense</span>)                │ (<span style=\"color: #00d7ff; text-decoration-color: #00d7ff\">None</span>, <span style=\"color: #00af00; text-decoration-color: #00af00\">1</span>)              │            <span style=\"color: #00af00; text-decoration-color: #00af00\">33</span> │\n",
       "└─────────────────────────────────┴────────────────────────┴───────────────┘\n",
       "</pre>\n"
      ],
      "text/plain": [
       "┏━━━━━━━━━━━━━━━━━━━━━━━━━━━━━━━━━┳━━━━━━━━━━━━━━━━━━━━━━━━┳━━━━━━━━━━━━━━━┓\n",
       "┃\u001b[1m \u001b[0m\u001b[1mLayer (type)                   \u001b[0m\u001b[1m \u001b[0m┃\u001b[1m \u001b[0m\u001b[1mOutput Shape          \u001b[0m\u001b[1m \u001b[0m┃\u001b[1m \u001b[0m\u001b[1m      Param #\u001b[0m\u001b[1m \u001b[0m┃\n",
       "┡━━━━━━━━━━━━━━━━━━━━━━━━━━━━━━━━━╇━━━━━━━━━━━━━━━━━━━━━━━━╇━━━━━━━━━━━━━━━┩\n",
       "│ embedding_6 (\u001b[38;5;33mEmbedding\u001b[0m)         │ (\u001b[38;5;45mNone\u001b[0m, \u001b[38;5;34m100\u001b[0m, \u001b[38;5;34m300\u001b[0m)       │     \u001b[38;5;34m5,235,900\u001b[0m │\n",
       "├─────────────────────────────────┼────────────────────────┼───────────────┤\n",
       "│ simple_rnn_6 (\u001b[38;5;33mSimpleRNN\u001b[0m)        │ (\u001b[38;5;45mNone\u001b[0m, \u001b[38;5;34m100\u001b[0m, \u001b[38;5;34m256\u001b[0m)       │       \u001b[38;5;34m142,592\u001b[0m │\n",
       "├─────────────────────────────────┼────────────────────────┼───────────────┤\n",
       "│ global_max_pooling1d_3          │ (\u001b[38;5;45mNone\u001b[0m, \u001b[38;5;34m256\u001b[0m)            │             \u001b[38;5;34m0\u001b[0m │\n",
       "│ (\u001b[38;5;33mGlobalMaxPooling1D\u001b[0m)            │                        │               │\n",
       "├─────────────────────────────────┼────────────────────────┼───────────────┤\n",
       "│ dense_18 (\u001b[38;5;33mDense\u001b[0m)                │ (\u001b[38;5;45mNone\u001b[0m, \u001b[38;5;34m32\u001b[0m)             │         \u001b[38;5;34m8,224\u001b[0m │\n",
       "├─────────────────────────────────┼────────────────────────┼───────────────┤\n",
       "│ dense_19 (\u001b[38;5;33mDense\u001b[0m)                │ (\u001b[38;5;45mNone\u001b[0m, \u001b[38;5;34m32\u001b[0m)             │         \u001b[38;5;34m1,056\u001b[0m │\n",
       "├─────────────────────────────────┼────────────────────────┼───────────────┤\n",
       "│ dense_20 (\u001b[38;5;33mDense\u001b[0m)                │ (\u001b[38;5;45mNone\u001b[0m, \u001b[38;5;34m1\u001b[0m)              │            \u001b[38;5;34m33\u001b[0m │\n",
       "└─────────────────────────────────┴────────────────────────┴───────────────┘\n"
      ]
     },
     "metadata": {},
     "output_type": "display_data"
    },
    {
     "data": {
      "text/html": [
       "<pre style=\"white-space:pre;overflow-x:auto;line-height:normal;font-family:Menlo,'DejaVu Sans Mono',consolas,'Courier New',monospace\"><span style=\"font-weight: bold\"> Total params: </span><span style=\"color: #00af00; text-decoration-color: #00af00\">5,387,805</span> (20.55 MB)\n",
       "</pre>\n"
      ],
      "text/plain": [
       "\u001b[1m Total params: \u001b[0m\u001b[38;5;34m5,387,805\u001b[0m (20.55 MB)\n"
      ]
     },
     "metadata": {},
     "output_type": "display_data"
    },
    {
     "data": {
      "text/html": [
       "<pre style=\"white-space:pre;overflow-x:auto;line-height:normal;font-family:Menlo,'DejaVu Sans Mono',consolas,'Courier New',monospace\"><span style=\"font-weight: bold\"> Trainable params: </span><span style=\"color: #00af00; text-decoration-color: #00af00\">5,387,805</span> (20.55 MB)\n",
       "</pre>\n"
      ],
      "text/plain": [
       "\u001b[1m Trainable params: \u001b[0m\u001b[38;5;34m5,387,805\u001b[0m (20.55 MB)\n"
      ]
     },
     "metadata": {},
     "output_type": "display_data"
    },
    {
     "data": {
      "text/html": [
       "<pre style=\"white-space:pre;overflow-x:auto;line-height:normal;font-family:Menlo,'DejaVu Sans Mono',consolas,'Courier New',monospace\"><span style=\"font-weight: bold\"> Non-trainable params: </span><span style=\"color: #00af00; text-decoration-color: #00af00\">0</span> (0.00 B)\n",
       "</pre>\n"
      ],
      "text/plain": [
       "\u001b[1m Non-trainable params: \u001b[0m\u001b[38;5;34m0\u001b[0m (0.00 B)\n"
      ]
     },
     "metadata": {},
     "output_type": "display_data"
    }
   ],
   "source": [
    "# Build model with best hyperparameters found and train it on data for 50 epochs\n",
    "# Create model with optimal hyperparameters\n",
    "best_model = Sequential()\n",
    "best_model.add(Embedding(input_dim=vocab_size,\n",
    "          output_dim=embedding_dim,\n",
    "          input_shape=(max_seq_len,),\n",
    "          weights=[embedding_matrix],\n",
    "          mask_zero=True,\n",
    "          trainable=True))\n",
    "\n",
    "best_model.add(SimpleRNN(units=best_hps.get('hidden_dim'), return_sequences=True))\n",
    "\n",
    "best_model.add(GlobalMaxPooling1D())  # Max pooling over the time dimension\n",
    "\n",
    "for i in range(best_hps.get('num_layers')):\n",
    "    best_model.add(Dense(best_hps.get(f'units_{i}'), activation='relu'))\n",
    "\n",
    "best_model.add(Dense(output_dim, activation='sigmoid')) # 1 dense (FC) layer for binary classification\n",
    "\n",
    "best_model.compile(loss=\"binary_crossentropy\", optimizer=optimizer, metrics=[\"accuracy\"])\n",
    "best_model.summary()"
   ]
  },
  {
   "cell_type": "code",
   "execution_count": 48,
   "id": "c14b2f89",
   "metadata": {
    "execution": {
     "iopub.execute_input": "2024-11-09T02:10:48.104764Z",
     "iopub.status.busy": "2024-11-09T02:10:48.104090Z",
     "iopub.status.idle": "2024-11-09T02:11:25.820133Z",
     "shell.execute_reply": "2024-11-09T02:11:25.819392Z"
    },
    "papermill": {
     "duration": 37.975372,
     "end_time": "2024-11-09T02:11:25.822148",
     "exception": false,
     "start_time": "2024-11-09T02:10:47.846776",
     "status": "completed"
    },
    "tags": []
   },
   "outputs": [
    {
     "name": "stdout",
     "output_type": "stream",
     "text": [
      "Epoch 1/50\n",
      "\u001b[1m134/134\u001b[0m \u001b[32m━━━━━━━━━━━━━━━━━━━━\u001b[0m\u001b[37m\u001b[0m \u001b[1m6s\u001b[0m 26ms/step - accuracy: 0.5104 - loss: 0.7177 - val_accuracy: 0.5441 - val_loss: 0.6869\n",
      "Epoch 2/50\n",
      "\u001b[1m134/134\u001b[0m \u001b[32m━━━━━━━━━━━━━━━━━━━━\u001b[0m\u001b[37m\u001b[0m \u001b[1m2s\u001b[0m 14ms/step - accuracy: 0.6168 - loss: 0.6728 - val_accuracy: 0.5844 - val_loss: 0.6762\n",
      "Epoch 3/50\n",
      "\u001b[1m134/134\u001b[0m \u001b[32m━━━━━━━━━━━━━━━━━━━━\u001b[0m\u001b[37m\u001b[0m \u001b[1m2s\u001b[0m 14ms/step - accuracy: 0.6679 - loss: 0.6448 - val_accuracy: 0.6116 - val_loss: 0.6599\n",
      "Epoch 4/50\n",
      "\u001b[1m134/134\u001b[0m \u001b[32m━━━━━━━━━━━━━━━━━━━━\u001b[0m\u001b[37m\u001b[0m \u001b[1m2s\u001b[0m 15ms/step - accuracy: 0.7123 - loss: 0.6030 - val_accuracy: 0.6276 - val_loss: 0.6441\n",
      "Epoch 5/50\n",
      "\u001b[1m134/134\u001b[0m \u001b[32m━━━━━━━━━━━━━━━━━━━━\u001b[0m\u001b[37m\u001b[0m \u001b[1m2s\u001b[0m 14ms/step - accuracy: 0.7547 - loss: 0.5492 - val_accuracy: 0.6238 - val_loss: 0.6463\n",
      "Epoch 6/50\n",
      "\u001b[1m134/134\u001b[0m \u001b[32m━━━━━━━━━━━━━━━━━━━━\u001b[0m\u001b[37m\u001b[0m \u001b[1m2s\u001b[0m 14ms/step - accuracy: 0.7997 - loss: 0.4857 - val_accuracy: 0.6379 - val_loss: 0.6328\n",
      "Epoch 7/50\n",
      "\u001b[1m134/134\u001b[0m \u001b[32m━━━━━━━━━━━━━━━━━━━━\u001b[0m\u001b[37m\u001b[0m \u001b[1m2s\u001b[0m 14ms/step - accuracy: 0.8454 - loss: 0.4051 - val_accuracy: 0.6707 - val_loss: 0.6138\n",
      "Epoch 8/50\n",
      "\u001b[1m134/134\u001b[0m \u001b[32m━━━━━━━━━━━━━━━━━━━━\u001b[0m\u001b[37m\u001b[0m \u001b[1m2s\u001b[0m 15ms/step - accuracy: 0.8909 - loss: 0.3194 - val_accuracy: 0.6970 - val_loss: 0.6098\n",
      "Epoch 9/50\n",
      "\u001b[1m134/134\u001b[0m \u001b[32m━━━━━━━━━━━━━━━━━━━━\u001b[0m\u001b[37m\u001b[0m \u001b[1m2s\u001b[0m 15ms/step - accuracy: 0.9259 - loss: 0.2398 - val_accuracy: 0.7026 - val_loss: 0.6173\n",
      "Epoch 10/50\n",
      "\u001b[1m134/134\u001b[0m \u001b[32m━━━━━━━━━━━━━━━━━━━━\u001b[0m\u001b[37m\u001b[0m \u001b[1m2s\u001b[0m 14ms/step - accuracy: 0.9562 - loss: 0.1753 - val_accuracy: 0.7064 - val_loss: 0.6439\n",
      "Epoch 11/50\n",
      "\u001b[1m134/134\u001b[0m \u001b[32m━━━━━━━━━━━━━━━━━━━━\u001b[0m\u001b[37m\u001b[0m \u001b[1m2s\u001b[0m 15ms/step - accuracy: 0.9702 - loss: 0.1346 - val_accuracy: 0.6435 - val_loss: 0.8783\n",
      "Epoch 12/50\n",
      "\u001b[1m134/134\u001b[0m \u001b[32m━━━━━━━━━━━━━━━━━━━━\u001b[0m\u001b[37m\u001b[0m \u001b[1m2s\u001b[0m 14ms/step - accuracy: 0.9589 - loss: 0.1350 - val_accuracy: 0.6914 - val_loss: 0.6797\n",
      "Epoch 13/50\n",
      "\u001b[1m134/134\u001b[0m \u001b[32m━━━━━━━━━━━━━━━━━━━━\u001b[0m\u001b[37m\u001b[0m \u001b[1m2s\u001b[0m 14ms/step - accuracy: 0.9897 - loss: 0.0796 - val_accuracy: 0.7139 - val_loss: 0.6659\n",
      "Epoch 14/50\n",
      "\u001b[1m134/134\u001b[0m \u001b[32m━━━━━━━━━━━━━━━━━━━━\u001b[0m\u001b[37m\u001b[0m \u001b[1m2s\u001b[0m 15ms/step - accuracy: 0.9944 - loss: 0.0533 - val_accuracy: 0.7158 - val_loss: 0.7075\n",
      "Epoch 15/50\n",
      "\u001b[1m134/134\u001b[0m \u001b[32m━━━━━━━━━━━━━━━━━━━━\u001b[0m\u001b[37m\u001b[0m \u001b[1m2s\u001b[0m 14ms/step - accuracy: 0.9971 - loss: 0.0445 - val_accuracy: 0.6782 - val_loss: 0.8049\n",
      "Epoch 16/50\n",
      "\u001b[1m134/134\u001b[0m \u001b[32m━━━━━━━━━━━━━━━━━━━━\u001b[0m\u001b[37m\u001b[0m \u001b[1m2s\u001b[0m 14ms/step - accuracy: 0.9949 - loss: 0.0433 - val_accuracy: 0.6932 - val_loss: 0.7447\n",
      "Epoch 17/50\n",
      "\u001b[1m134/134\u001b[0m \u001b[32m━━━━━━━━━━━━━━━━━━━━\u001b[0m\u001b[37m\u001b[0m \u001b[1m2s\u001b[0m 15ms/step - accuracy: 0.9969 - loss: 0.0456 - val_accuracy: 0.6773 - val_loss: 0.8980\n"
     ]
    }
   ],
   "source": [
    "early_stopper = EarlyStopping(monitor='val_accuracy', patience=patience, restore_best_weights=True)\n",
    "\n",
    "best_model_history = best_model.fit(train_padded, train_labels,\n",
    "                         epochs=no_epochs,\n",
    "                         batch_size=best_hps.get('batch_size'),\n",
    "                         validation_data=(val_padded, val_labels),\n",
    "                         callbacks=[early_stopper])"
   ]
  },
  {
   "cell_type": "code",
   "execution_count": 49,
   "id": "7d380d46",
   "metadata": {
    "execution": {
     "iopub.execute_input": "2024-11-09T02:11:26.434148Z",
     "iopub.status.busy": "2024-11-09T02:11:26.433251Z",
     "iopub.status.idle": "2024-11-09T02:11:27.009940Z",
     "shell.execute_reply": "2024-11-09T02:11:27.008826Z"
    },
    "papermill": {
     "duration": 0.881169,
     "end_time": "2024-11-09T02:11:27.011950",
     "exception": false,
     "start_time": "2024-11-09T02:11:26.130781",
     "status": "completed"
    },
    "tags": []
   },
   "outputs": [
    {
     "name": "stdout",
     "output_type": "stream",
     "text": [
      "\u001b[1m34/34\u001b[0m \u001b[32m━━━━━━━━━━━━━━━━━━━━\u001b[0m\u001b[37m\u001b[0m \u001b[1m1s\u001b[0m 10ms/step - accuracy: 0.7632 - loss: 0.5368\n",
      "Test Loss: 0.6985761523246765\n",
      "Test Accuracy: 71.20%\n"
     ]
    }
   ],
   "source": [
    "test_loss, test_accuracy = best_model.evaluate(test_padded, test_labels)\n",
    "\n",
    "print(f'Test Loss: {test_loss}')\n",
    "print(f'Test Accuracy: {test_accuracy * 100:.2f}%')"
   ]
  },
  {
   "cell_type": "code",
   "execution_count": null,
   "id": "9231a7e8",
   "metadata": {
    "papermill": {
     "duration": 0.301124,
     "end_time": "2024-11-09T02:11:27.653944",
     "exception": false,
     "start_time": "2024-11-09T02:11:27.352820",
     "status": "completed"
    },
    "tags": []
   },
   "outputs": [],
   "source": []
  }
 ],
 "metadata": {
  "colab": {
   "provenance": []
  },
  "kaggle": {
   "accelerator": "gpu",
   "dataSources": [],
   "dockerImageVersionId": 30787,
   "isGpuEnabled": true,
   "isInternetEnabled": true,
   "language": "python",
   "sourceType": "notebook"
  },
  "kernelspec": {
   "display_name": "Python 3",
   "language": "python",
   "name": "python3"
  },
  "language_info": {
   "codemirror_mode": {
    "name": "ipython",
    "version": 3
   },
   "file_extension": ".py",
   "mimetype": "text/x-python",
   "name": "python",
   "nbconvert_exporter": "python",
   "pygments_lexer": "ipython3",
   "version": "3.10.14"
  },
  "papermill": {
   "default_parameters": {},
   "duration": 2189.818953,
   "end_time": "2024-11-09T02:11:31.263661",
   "environment_variables": {},
   "exception": null,
   "input_path": "__notebook__.ipynb",
   "output_path": "__notebook__.ipynb",
   "parameters": {},
   "start_time": "2024-11-09T01:35:01.444708",
   "version": "2.6.0"
  },
  "widgets": {
   "application/vnd.jupyter.widget-state+json": {
    "state": {
     "043af1022cb64e4d9a02c9eff7d08ab6": {
      "model_module": "@jupyter-widgets/controls",
      "model_module_version": "1.5.0",
      "model_name": "HBoxModel",
      "state": {
       "_dom_classes": [],
       "_model_module": "@jupyter-widgets/controls",
       "_model_module_version": "1.5.0",
       "_model_name": "HBoxModel",
       "_view_count": null,
       "_view_module": "@jupyter-widgets/controls",
       "_view_module_version": "1.5.0",
       "_view_name": "HBoxView",
       "box_style": "",
       "children": [
        "IPY_MODEL_78642db088f6493e817dcea51c6247da",
        "IPY_MODEL_f478d9ce24ba409e932e0308d6f08c04",
        "IPY_MODEL_c94c3452aa5b4dad9d6a4cd06968550b"
       ],
       "layout": "IPY_MODEL_0bbe814dc94f40ad9784f8905535f0a0"
      }
     },
     "063f92ab2b5f46bfaa1882e9c92abf2c": {
      "model_module": "@jupyter-widgets/controls",
      "model_module_version": "1.5.0",
      "model_name": "DescriptionStyleModel",
      "state": {
       "_model_module": "@jupyter-widgets/controls",
       "_model_module_version": "1.5.0",
       "_model_name": "DescriptionStyleModel",
       "_view_count": null,
       "_view_module": "@jupyter-widgets/base",
       "_view_module_version": "1.2.0",
       "_view_name": "StyleView",
       "description_width": ""
      }
     },
     "0aeecf0bb42841f38b3c0e5cb035c130": {
      "model_module": "@jupyter-widgets/base",
      "model_module_version": "1.2.0",
      "model_name": "LayoutModel",
      "state": {
       "_model_module": "@jupyter-widgets/base",
       "_model_module_version": "1.2.0",
       "_model_name": "LayoutModel",
       "_view_count": null,
       "_view_module": "@jupyter-widgets/base",
       "_view_module_version": "1.2.0",
       "_view_name": "LayoutView",
       "align_content": null,
       "align_items": null,
       "align_self": null,
       "border": null,
       "bottom": null,
       "display": null,
       "flex": null,
       "flex_flow": null,
       "grid_area": null,
       "grid_auto_columns": null,
       "grid_auto_flow": null,
       "grid_auto_rows": null,
       "grid_column": null,
       "grid_gap": null,
       "grid_row": null,
       "grid_template_areas": null,
       "grid_template_columns": null,
       "grid_template_rows": null,
       "height": null,
       "justify_content": null,
       "justify_items": null,
       "left": null,
       "margin": null,
       "max_height": null,
       "max_width": null,
       "min_height": null,
       "min_width": null,
       "object_fit": null,
       "object_position": null,
       "order": null,
       "overflow": null,
       "overflow_x": null,
       "overflow_y": null,
       "padding": null,
       "right": null,
       "top": null,
       "visibility": null,
       "width": null
      }
     },
     "0bbe814dc94f40ad9784f8905535f0a0": {
      "model_module": "@jupyter-widgets/base",
      "model_module_version": "1.2.0",
      "model_name": "LayoutModel",
      "state": {
       "_model_module": "@jupyter-widgets/base",
       "_model_module_version": "1.2.0",
       "_model_name": "LayoutModel",
       "_view_count": null,
       "_view_module": "@jupyter-widgets/base",
       "_view_module_version": "1.2.0",
       "_view_name": "LayoutView",
       "align_content": null,
       "align_items": null,
       "align_self": null,
       "border": null,
       "bottom": null,
       "display": null,
       "flex": null,
       "flex_flow": null,
       "grid_area": null,
       "grid_auto_columns": null,
       "grid_auto_flow": null,
       "grid_auto_rows": null,
       "grid_column": null,
       "grid_gap": null,
       "grid_row": null,
       "grid_template_areas": null,
       "grid_template_columns": null,
       "grid_template_rows": null,
       "height": null,
       "justify_content": null,
       "justify_items": null,
       "left": null,
       "margin": null,
       "max_height": null,
       "max_width": null,
       "min_height": null,
       "min_width": null,
       "object_fit": null,
       "object_position": null,
       "order": null,
       "overflow": null,
       "overflow_x": null,
       "overflow_y": null,
       "padding": null,
       "right": null,
       "top": null,
       "visibility": null,
       "width": null
      }
     },
     "0cac54b959a34d46867b2026f0766152": {
      "model_module": "@jupyter-widgets/base",
      "model_module_version": "1.2.0",
      "model_name": "LayoutModel",
      "state": {
       "_model_module": "@jupyter-widgets/base",
       "_model_module_version": "1.2.0",
       "_model_name": "LayoutModel",
       "_view_count": null,
       "_view_module": "@jupyter-widgets/base",
       "_view_module_version": "1.2.0",
       "_view_name": "LayoutView",
       "align_content": null,
       "align_items": null,
       "align_self": null,
       "border": null,
       "bottom": null,
       "display": null,
       "flex": null,
       "flex_flow": null,
       "grid_area": null,
       "grid_auto_columns": null,
       "grid_auto_flow": null,
       "grid_auto_rows": null,
       "grid_column": null,
       "grid_gap": null,
       "grid_row": null,
       "grid_template_areas": null,
       "grid_template_columns": null,
       "grid_template_rows": null,
       "height": null,
       "justify_content": null,
       "justify_items": null,
       "left": null,
       "margin": null,
       "max_height": null,
       "max_width": null,
       "min_height": null,
       "min_width": null,
       "object_fit": null,
       "object_position": null,
       "order": null,
       "overflow": null,
       "overflow_x": null,
       "overflow_y": null,
       "padding": null,
       "right": null,
       "top": null,
       "visibility": null,
       "width": null
      }
     },
     "0ce7ea7e94df494f9c1e8cd35ed8447e": {
      "model_module": "@jupyter-widgets/controls",
      "model_module_version": "1.5.0",
      "model_name": "DescriptionStyleModel",
      "state": {
       "_model_module": "@jupyter-widgets/controls",
       "_model_module_version": "1.5.0",
       "_model_name": "DescriptionStyleModel",
       "_view_count": null,
       "_view_module": "@jupyter-widgets/base",
       "_view_module_version": "1.2.0",
       "_view_name": "StyleView",
       "description_width": ""
      }
     },
     "0f6eaa92dc964e2ebd819b61dd59d0f1": {
      "model_module": "@jupyter-widgets/controls",
      "model_module_version": "1.5.0",
      "model_name": "ProgressStyleModel",
      "state": {
       "_model_module": "@jupyter-widgets/controls",
       "_model_module_version": "1.5.0",
       "_model_name": "ProgressStyleModel",
       "_view_count": null,
       "_view_module": "@jupyter-widgets/base",
       "_view_module_version": "1.2.0",
       "_view_name": "StyleView",
       "bar_color": null,
       "description_width": ""
      }
     },
     "0fde6dad870a48689d17241d2e0da531": {
      "model_module": "@jupyter-widgets/base",
      "model_module_version": "1.2.0",
      "model_name": "LayoutModel",
      "state": {
       "_model_module": "@jupyter-widgets/base",
       "_model_module_version": "1.2.0",
       "_model_name": "LayoutModel",
       "_view_count": null,
       "_view_module": "@jupyter-widgets/base",
       "_view_module_version": "1.2.0",
       "_view_name": "LayoutView",
       "align_content": null,
       "align_items": null,
       "align_self": null,
       "border": null,
       "bottom": null,
       "display": null,
       "flex": null,
       "flex_flow": null,
       "grid_area": null,
       "grid_auto_columns": null,
       "grid_auto_flow": null,
       "grid_auto_rows": null,
       "grid_column": null,
       "grid_gap": null,
       "grid_row": null,
       "grid_template_areas": null,
       "grid_template_columns": null,
       "grid_template_rows": null,
       "height": null,
       "justify_content": null,
       "justify_items": null,
       "left": null,
       "margin": null,
       "max_height": null,
       "max_width": null,
       "min_height": null,
       "min_width": null,
       "object_fit": null,
       "object_position": null,
       "order": null,
       "overflow": null,
       "overflow_x": null,
       "overflow_y": null,
       "padding": null,
       "right": null,
       "top": null,
       "visibility": null,
       "width": null
      }
     },
     "10d60aeaab9546e6aaf5e78f653b3f06": {
      "model_module": "@jupyter-widgets/controls",
      "model_module_version": "1.5.0",
      "model_name": "DescriptionStyleModel",
      "state": {
       "_model_module": "@jupyter-widgets/controls",
       "_model_module_version": "1.5.0",
       "_model_name": "DescriptionStyleModel",
       "_view_count": null,
       "_view_module": "@jupyter-widgets/base",
       "_view_module_version": "1.2.0",
       "_view_name": "StyleView",
       "description_width": ""
      }
     },
     "1245cc997109409aac1c9908fb6f2a1e": {
      "model_module": "@jupyter-widgets/controls",
      "model_module_version": "1.5.0",
      "model_name": "HBoxModel",
      "state": {
       "_dom_classes": [],
       "_model_module": "@jupyter-widgets/controls",
       "_model_module_version": "1.5.0",
       "_model_name": "HBoxModel",
       "_view_count": null,
       "_view_module": "@jupyter-widgets/controls",
       "_view_module_version": "1.5.0",
       "_view_name": "HBoxView",
       "box_style": "",
       "children": [
        "IPY_MODEL_8fcd0389388e47f9bcd25a48aa7e6ece",
        "IPY_MODEL_b2bd678d16b540d58452ac24ee349199",
        "IPY_MODEL_1f4eb081d3184fcabc5f6cd1da4e9e53"
       ],
       "layout": "IPY_MODEL_55c73a329a4746a4bf6bdb2619479986"
      }
     },
     "144bd3d20c7843839423ea60e6eed2e0": {
      "model_module": "@jupyter-widgets/base",
      "model_module_version": "1.2.0",
      "model_name": "LayoutModel",
      "state": {
       "_model_module": "@jupyter-widgets/base",
       "_model_module_version": "1.2.0",
       "_model_name": "LayoutModel",
       "_view_count": null,
       "_view_module": "@jupyter-widgets/base",
       "_view_module_version": "1.2.0",
       "_view_name": "LayoutView",
       "align_content": null,
       "align_items": null,
       "align_self": null,
       "border": null,
       "bottom": null,
       "display": null,
       "flex": null,
       "flex_flow": null,
       "grid_area": null,
       "grid_auto_columns": null,
       "grid_auto_flow": null,
       "grid_auto_rows": null,
       "grid_column": null,
       "grid_gap": null,
       "grid_row": null,
       "grid_template_areas": null,
       "grid_template_columns": null,
       "grid_template_rows": null,
       "height": null,
       "justify_content": null,
       "justify_items": null,
       "left": null,
       "margin": null,
       "max_height": null,
       "max_width": null,
       "min_height": null,
       "min_width": null,
       "object_fit": null,
       "object_position": null,
       "order": null,
       "overflow": null,
       "overflow_x": null,
       "overflow_y": null,
       "padding": null,
       "right": null,
       "top": null,
       "visibility": null,
       "width": null
      }
     },
     "14fe6bacc6b44c8b9658bb1b4b56c003": {
      "model_module": "@jupyter-widgets/base",
      "model_module_version": "1.2.0",
      "model_name": "LayoutModel",
      "state": {
       "_model_module": "@jupyter-widgets/base",
       "_model_module_version": "1.2.0",
       "_model_name": "LayoutModel",
       "_view_count": null,
       "_view_module": "@jupyter-widgets/base",
       "_view_module_version": "1.2.0",
       "_view_name": "LayoutView",
       "align_content": null,
       "align_items": null,
       "align_self": null,
       "border": null,
       "bottom": null,
       "display": null,
       "flex": null,
       "flex_flow": null,
       "grid_area": null,
       "grid_auto_columns": null,
       "grid_auto_flow": null,
       "grid_auto_rows": null,
       "grid_column": null,
       "grid_gap": null,
       "grid_row": null,
       "grid_template_areas": null,
       "grid_template_columns": null,
       "grid_template_rows": null,
       "height": null,
       "justify_content": null,
       "justify_items": null,
       "left": null,
       "margin": null,
       "max_height": null,
       "max_width": null,
       "min_height": null,
       "min_width": null,
       "object_fit": null,
       "object_position": null,
       "order": null,
       "overflow": null,
       "overflow_x": null,
       "overflow_y": null,
       "padding": null,
       "right": null,
       "top": null,
       "visibility": null,
       "width": null
      }
     },
     "153e22fd97d943e6a5dc294813308d62": {
      "model_module": "@jupyter-widgets/controls",
      "model_module_version": "1.5.0",
      "model_name": "DescriptionStyleModel",
      "state": {
       "_model_module": "@jupyter-widgets/controls",
       "_model_module_version": "1.5.0",
       "_model_name": "DescriptionStyleModel",
       "_view_count": null,
       "_view_module": "@jupyter-widgets/base",
       "_view_module_version": "1.2.0",
       "_view_name": "StyleView",
       "description_width": ""
      }
     },
     "15f931cba4294850877cfe1a560b97a5": {
      "model_module": "@jupyter-widgets/controls",
      "model_module_version": "1.5.0",
      "model_name": "FloatProgressModel",
      "state": {
       "_dom_classes": [],
       "_model_module": "@jupyter-widgets/controls",
       "_model_module_version": "1.5.0",
       "_model_name": "FloatProgressModel",
       "_view_count": null,
       "_view_module": "@jupyter-widgets/controls",
       "_view_module_version": "1.5.0",
       "_view_name": "ProgressView",
       "bar_style": "success",
       "description": "",
       "description_tooltip": null,
       "layout": "IPY_MODEL_0cac54b959a34d46867b2026f0766152",
       "max": 8530,
       "min": 0,
       "orientation": "horizontal",
       "style": "IPY_MODEL_b0b2d2ce472348c791ffad16ca836bdf",
       "value": 8530
      }
     },
     "183ce4f173234812b062082ea3d3018a": {
      "model_module": "@jupyter-widgets/controls",
      "model_module_version": "1.5.0",
      "model_name": "HTMLModel",
      "state": {
       "_dom_classes": [],
       "_model_module": "@jupyter-widgets/controls",
       "_model_module_version": "1.5.0",
       "_model_name": "HTMLModel",
       "_view_count": null,
       "_view_module": "@jupyter-widgets/controls",
       "_view_module_version": "1.5.0",
       "_view_name": "HTMLView",
       "description": "",
       "description_tooltip": null,
       "layout": "IPY_MODEL_d6c9df339f564ac7b701e7e2a02a184b",
       "placeholder": "​",
       "style": "IPY_MODEL_6fd7c089dbe14c289e69b3833606ad3d",
       "value": " 1066/1066 [00:00&lt;00:00, 58253.46 examples/s]"
      }
     },
     "19def9e63d3c4c658bcceb41c0281800": {
      "model_module": "@jupyter-widgets/base",
      "model_module_version": "1.2.0",
      "model_name": "LayoutModel",
      "state": {
       "_model_module": "@jupyter-widgets/base",
       "_model_module_version": "1.2.0",
       "_model_name": "LayoutModel",
       "_view_count": null,
       "_view_module": "@jupyter-widgets/base",
       "_view_module_version": "1.2.0",
       "_view_name": "LayoutView",
       "align_content": null,
       "align_items": null,
       "align_self": null,
       "border": null,
       "bottom": null,
       "display": null,
       "flex": null,
       "flex_flow": null,
       "grid_area": null,
       "grid_auto_columns": null,
       "grid_auto_flow": null,
       "grid_auto_rows": null,
       "grid_column": null,
       "grid_gap": null,
       "grid_row": null,
       "grid_template_areas": null,
       "grid_template_columns": null,
       "grid_template_rows": null,
       "height": null,
       "justify_content": null,
       "justify_items": null,
       "left": null,
       "margin": null,
       "max_height": null,
       "max_width": null,
       "min_height": null,
       "min_width": null,
       "object_fit": null,
       "object_position": null,
       "order": null,
       "overflow": null,
       "overflow_x": null,
       "overflow_y": null,
       "padding": null,
       "right": null,
       "top": null,
       "visibility": null,
       "width": null
      }
     },
     "1b2abd738af64bbb9877a27d8fdde6d1": {
      "model_module": "@jupyter-widgets/controls",
      "model_module_version": "1.5.0",
      "model_name": "FloatProgressModel",
      "state": {
       "_dom_classes": [],
       "_model_module": "@jupyter-widgets/controls",
       "_model_module_version": "1.5.0",
       "_model_name": "FloatProgressModel",
       "_view_count": null,
       "_view_module": "@jupyter-widgets/controls",
       "_view_module_version": "1.5.0",
       "_view_name": "ProgressView",
       "bar_style": "success",
       "description": "",
       "description_tooltip": null,
       "layout": "IPY_MODEL_14fe6bacc6b44c8b9658bb1b4b56c003",
       "max": 90001,
       "min": 0,
       "orientation": "horizontal",
       "style": "IPY_MODEL_3d03b51bbf524760868f91753b963e4f",
       "value": 90001
      }
     },
     "1e3c09beda5e40aaba88eaa05d25a3de": {
      "model_module": "@jupyter-widgets/controls",
      "model_module_version": "1.5.0",
      "model_name": "FloatProgressModel",
      "state": {
       "_dom_classes": [],
       "_model_module": "@jupyter-widgets/controls",
       "_model_module_version": "1.5.0",
       "_model_name": "FloatProgressModel",
       "_view_count": null,
       "_view_module": "@jupyter-widgets/controls",
       "_view_module_version": "1.5.0",
       "_view_name": "ProgressView",
       "bar_style": "success",
       "description": "",
       "description_tooltip": null,
       "layout": "IPY_MODEL_234738cbd9a84e69899c8605c2e95f58",
       "max": 7457,
       "min": 0,
       "orientation": "horizontal",
       "style": "IPY_MODEL_3a8bdfbc8e3249dbb733ee8203fad0c7",
       "value": 7457
      }
     },
     "1f4eb081d3184fcabc5f6cd1da4e9e53": {
      "model_module": "@jupyter-widgets/controls",
      "model_module_version": "1.5.0",
      "model_name": "HTMLModel",
      "state": {
       "_dom_classes": [],
       "_model_module": "@jupyter-widgets/controls",
       "_model_module_version": "1.5.0",
       "_model_name": "HTMLModel",
       "_view_count": null,
       "_view_module": "@jupyter-widgets/controls",
       "_view_module_version": "1.5.0",
       "_view_name": "HTMLView",
       "description": "",
       "description_tooltip": null,
       "layout": "IPY_MODEL_cde1ccf38cbc4ef089c8f3b91bd52802",
       "placeholder": "​",
       "style": "IPY_MODEL_6f87ffbcfcc14b3e9c33c9bd779b31f1",
       "value": " 3/3 [00:00&lt;00:00, 319.59it/s]"
      }
     },
     "2230ae1441ed4fa98d68f89526a414db": {
      "model_module": "@jupyter-widgets/controls",
      "model_module_version": "1.5.0",
      "model_name": "HTMLModel",
      "state": {
       "_dom_classes": [],
       "_model_module": "@jupyter-widgets/controls",
       "_model_module_version": "1.5.0",
       "_model_name": "HTMLModel",
       "_view_count": null,
       "_view_module": "@jupyter-widgets/controls",
       "_view_module_version": "1.5.0",
       "_view_name": "HTMLView",
       "description": "",
       "description_tooltip": null,
       "layout": "IPY_MODEL_90353c517c964b03989a93a6edbff2cd",
       "placeholder": "​",
       "style": "IPY_MODEL_b230a1a47b694522a36b93dbd5c541bd",
       "value": " 7.46k/7.46k [00:00&lt;00:00, 506kB/s]"
      }
     },
     "234738cbd9a84e69899c8605c2e95f58": {
      "model_module": "@jupyter-widgets/base",
      "model_module_version": "1.2.0",
      "model_name": "LayoutModel",
      "state": {
       "_model_module": "@jupyter-widgets/base",
       "_model_module_version": "1.2.0",
       "_model_name": "LayoutModel",
       "_view_count": null,
       "_view_module": "@jupyter-widgets/base",
       "_view_module_version": "1.2.0",
       "_view_name": "LayoutView",
       "align_content": null,
       "align_items": null,
       "align_self": null,
       "border": null,
       "bottom": null,
       "display": null,
       "flex": null,
       "flex_flow": null,
       "grid_area": null,
       "grid_auto_columns": null,
       "grid_auto_flow": null,
       "grid_auto_rows": null,
       "grid_column": null,
       "grid_gap": null,
       "grid_row": null,
       "grid_template_areas": null,
       "grid_template_columns": null,
       "grid_template_rows": null,
       "height": null,
       "justify_content": null,
       "justify_items": null,
       "left": null,
       "margin": null,
       "max_height": null,
       "max_width": null,
       "min_height": null,
       "min_width": null,
       "object_fit": null,
       "object_position": null,
       "order": null,
       "overflow": null,
       "overflow_x": null,
       "overflow_y": null,
       "padding": null,
       "right": null,
       "top": null,
       "visibility": null,
       "width": null
      }
     },
     "23c39cd520044090a5e6d262a5733878": {
      "model_module": "@jupyter-widgets/base",
      "model_module_version": "1.2.0",
      "model_name": "LayoutModel",
      "state": {
       "_model_module": "@jupyter-widgets/base",
       "_model_module_version": "1.2.0",
       "_model_name": "LayoutModel",
       "_view_count": null,
       "_view_module": "@jupyter-widgets/base",
       "_view_module_version": "1.2.0",
       "_view_name": "LayoutView",
       "align_content": null,
       "align_items": null,
       "align_self": null,
       "border": null,
       "bottom": null,
       "display": null,
       "flex": null,
       "flex_flow": null,
       "grid_area": null,
       "grid_auto_columns": null,
       "grid_auto_flow": null,
       "grid_auto_rows": null,
       "grid_column": null,
       "grid_gap": null,
       "grid_row": null,
       "grid_template_areas": null,
       "grid_template_columns": null,
       "grid_template_rows": null,
       "height": null,
       "justify_content": null,
       "justify_items": null,
       "left": null,
       "margin": null,
       "max_height": null,
       "max_width": null,
       "min_height": null,
       "min_width": null,
       "object_fit": null,
       "object_position": null,
       "order": null,
       "overflow": null,
       "overflow_x": null,
       "overflow_y": null,
       "padding": null,
       "right": null,
       "top": null,
       "visibility": null,
       "width": null
      }
     },
     "241baa60273148deb9e7cc5885b79458": {
      "model_module": "@jupyter-widgets/base",
      "model_module_version": "1.2.0",
      "model_name": "LayoutModel",
      "state": {
       "_model_module": "@jupyter-widgets/base",
       "_model_module_version": "1.2.0",
       "_model_name": "LayoutModel",
       "_view_count": null,
       "_view_module": "@jupyter-widgets/base",
       "_view_module_version": "1.2.0",
       "_view_name": "LayoutView",
       "align_content": null,
       "align_items": null,
       "align_self": null,
       "border": null,
       "bottom": null,
       "display": null,
       "flex": null,
       "flex_flow": null,
       "grid_area": null,
       "grid_auto_columns": null,
       "grid_auto_flow": null,
       "grid_auto_rows": null,
       "grid_column": null,
       "grid_gap": null,
       "grid_row": null,
       "grid_template_areas": null,
       "grid_template_columns": null,
       "grid_template_rows": null,
       "height": null,
       "justify_content": null,
       "justify_items": null,
       "left": null,
       "margin": null,
       "max_height": null,
       "max_width": null,
       "min_height": null,
       "min_width": null,
       "object_fit": null,
       "object_position": null,
       "order": null,
       "overflow": null,
       "overflow_x": null,
       "overflow_y": null,
       "padding": null,
       "right": null,
       "top": null,
       "visibility": null,
       "width": null
      }
     },
     "2bb85bc2c1b64030894d7dbebb7f9a62": {
      "model_module": "@jupyter-widgets/controls",
      "model_module_version": "1.5.0",
      "model_name": "ProgressStyleModel",
      "state": {
       "_model_module": "@jupyter-widgets/controls",
       "_model_module_version": "1.5.0",
       "_model_name": "ProgressStyleModel",
       "_view_count": null,
       "_view_module": "@jupyter-widgets/base",
       "_view_module_version": "1.2.0",
       "_view_name": "StyleView",
       "bar_color": null,
       "description_width": ""
      }
     },
     "3a8bdfbc8e3249dbb733ee8203fad0c7": {
      "model_module": "@jupyter-widgets/controls",
      "model_module_version": "1.5.0",
      "model_name": "ProgressStyleModel",
      "state": {
       "_model_module": "@jupyter-widgets/controls",
       "_model_module_version": "1.5.0",
       "_model_name": "ProgressStyleModel",
       "_view_count": null,
       "_view_module": "@jupyter-widgets/base",
       "_view_module_version": "1.2.0",
       "_view_name": "StyleView",
       "bar_color": null,
       "description_width": ""
      }
     },
     "3d03b51bbf524760868f91753b963e4f": {
      "model_module": "@jupyter-widgets/controls",
      "model_module_version": "1.5.0",
      "model_name": "ProgressStyleModel",
      "state": {
       "_model_module": "@jupyter-widgets/controls",
       "_model_module_version": "1.5.0",
       "_model_name": "ProgressStyleModel",
       "_view_count": null,
       "_view_module": "@jupyter-widgets/base",
       "_view_module_version": "1.2.0",
       "_view_name": "StyleView",
       "bar_color": null,
       "description_width": ""
      }
     },
     "40de6062853442de9d452030a407bcdf": {
      "model_module": "@jupyter-widgets/controls",
      "model_module_version": "1.5.0",
      "model_name": "HBoxModel",
      "state": {
       "_dom_classes": [],
       "_model_module": "@jupyter-widgets/controls",
       "_model_module_version": "1.5.0",
       "_model_name": "HBoxModel",
       "_view_count": null,
       "_view_module": "@jupyter-widgets/controls",
       "_view_module_version": "1.5.0",
       "_view_name": "HBoxView",
       "box_style": "",
       "children": [
        "IPY_MODEL_85156e1492b4442e8b212a018ab82b93",
        "IPY_MODEL_c7feb0b5e95a4cbf96fe2199a479c824",
        "IPY_MODEL_4d4ef24e6f984404a0e71ca4ec43d1ae"
       ],
       "layout": "IPY_MODEL_85a124949a8a4b0cbd30e10ebcefbc98"
      }
     },
     "40e6018b24cf4e4bbb33e4f5c5a74bc9": {
      "model_module": "@jupyter-widgets/controls",
      "model_module_version": "1.5.0",
      "model_name": "DescriptionStyleModel",
      "state": {
       "_model_module": "@jupyter-widgets/controls",
       "_model_module_version": "1.5.0",
       "_model_name": "DescriptionStyleModel",
       "_view_count": null,
       "_view_module": "@jupyter-widgets/base",
       "_view_module_version": "1.2.0",
       "_view_name": "StyleView",
       "description_width": ""
      }
     },
     "44273c18a86142969e2a1588afaa5fae": {
      "model_module": "@jupyter-widgets/base",
      "model_module_version": "1.2.0",
      "model_name": "LayoutModel",
      "state": {
       "_model_module": "@jupyter-widgets/base",
       "_model_module_version": "1.2.0",
       "_model_name": "LayoutModel",
       "_view_count": null,
       "_view_module": "@jupyter-widgets/base",
       "_view_module_version": "1.2.0",
       "_view_name": "LayoutView",
       "align_content": null,
       "align_items": null,
       "align_self": null,
       "border": null,
       "bottom": null,
       "display": null,
       "flex": null,
       "flex_flow": null,
       "grid_area": null,
       "grid_auto_columns": null,
       "grid_auto_flow": null,
       "grid_auto_rows": null,
       "grid_column": null,
       "grid_gap": null,
       "grid_row": null,
       "grid_template_areas": null,
       "grid_template_columns": null,
       "grid_template_rows": null,
       "height": null,
       "justify_content": null,
       "justify_items": null,
       "left": null,
       "margin": null,
       "max_height": null,
       "max_width": null,
       "min_height": null,
       "min_width": null,
       "object_fit": null,
       "object_position": null,
       "order": null,
       "overflow": null,
       "overflow_x": null,
       "overflow_y": null,
       "padding": null,
       "right": null,
       "top": null,
       "visibility": null,
       "width": null
      }
     },
     "443e9a106fa44d41a7e4b0c3086bb9f1": {
      "model_module": "@jupyter-widgets/controls",
      "model_module_version": "1.5.0",
      "model_name": "HTMLModel",
      "state": {
       "_dom_classes": [],
       "_model_module": "@jupyter-widgets/controls",
       "_model_module_version": "1.5.0",
       "_model_name": "HTMLModel",
       "_view_count": null,
       "_view_module": "@jupyter-widgets/controls",
       "_view_module_version": "1.5.0",
       "_view_name": "HTMLView",
       "description": "",
       "description_tooltip": null,
       "layout": "IPY_MODEL_4eb8e700d2bd4c7dbc80fa20fd60a874",
       "placeholder": "​",
       "style": "IPY_MODEL_a2587ba50fd542eb932096dead083c5b",
       "value": "validation.parquet: 100%"
      }
     },
     "4608ba27fe8946bb9e53fd95904f5c5b": {
      "model_module": "@jupyter-widgets/controls",
      "model_module_version": "1.5.0",
      "model_name": "HBoxModel",
      "state": {
       "_dom_classes": [],
       "_model_module": "@jupyter-widgets/controls",
       "_model_module_version": "1.5.0",
       "_model_name": "HBoxModel",
       "_view_count": null,
       "_view_module": "@jupyter-widgets/controls",
       "_view_module_version": "1.5.0",
       "_view_name": "HBoxView",
       "box_style": "",
       "children": [
        "IPY_MODEL_443e9a106fa44d41a7e4b0c3086bb9f1",
        "IPY_MODEL_1b2abd738af64bbb9877a27d8fdde6d1",
        "IPY_MODEL_ceb981a038184ca6b5c80e3301061f51"
       ],
       "layout": "IPY_MODEL_144bd3d20c7843839423ea60e6eed2e0"
      }
     },
     "47416e55c4884fa0a266d4b2a9d07b9d": {
      "model_module": "@jupyter-widgets/base",
      "model_module_version": "1.2.0",
      "model_name": "LayoutModel",
      "state": {
       "_model_module": "@jupyter-widgets/base",
       "_model_module_version": "1.2.0",
       "_model_name": "LayoutModel",
       "_view_count": null,
       "_view_module": "@jupyter-widgets/base",
       "_view_module_version": "1.2.0",
       "_view_name": "LayoutView",
       "align_content": null,
       "align_items": null,
       "align_self": null,
       "border": null,
       "bottom": null,
       "display": null,
       "flex": null,
       "flex_flow": null,
       "grid_area": null,
       "grid_auto_columns": null,
       "grid_auto_flow": null,
       "grid_auto_rows": null,
       "grid_column": null,
       "grid_gap": null,
       "grid_row": null,
       "grid_template_areas": null,
       "grid_template_columns": null,
       "grid_template_rows": null,
       "height": null,
       "justify_content": null,
       "justify_items": null,
       "left": null,
       "margin": null,
       "max_height": null,
       "max_width": null,
       "min_height": null,
       "min_width": null,
       "object_fit": null,
       "object_position": null,
       "order": null,
       "overflow": null,
       "overflow_x": null,
       "overflow_y": null,
       "padding": null,
       "right": null,
       "top": null,
       "visibility": null,
       "width": null
      }
     },
     "4d4ef24e6f984404a0e71ca4ec43d1ae": {
      "model_module": "@jupyter-widgets/controls",
      "model_module_version": "1.5.0",
      "model_name": "HTMLModel",
      "state": {
       "_dom_classes": [],
       "_model_module": "@jupyter-widgets/controls",
       "_model_module_version": "1.5.0",
       "_model_name": "HTMLModel",
       "_view_count": null,
       "_view_module": "@jupyter-widgets/controls",
       "_view_module_version": "1.5.0",
       "_view_name": "HTMLView",
       "description": "",
       "description_tooltip": null,
       "layout": "IPY_MODEL_711a5bd7ade746aab0dc9d2abe7425d9",
       "placeholder": "​",
       "style": "IPY_MODEL_0ce7ea7e94df494f9c1e8cd35ed8447e",
       "value": " 1066/1066 [00:00&lt;00:00, 60145.93 examples/s]"
      }
     },
     "4eb8e700d2bd4c7dbc80fa20fd60a874": {
      "model_module": "@jupyter-widgets/base",
      "model_module_version": "1.2.0",
      "model_name": "LayoutModel",
      "state": {
       "_model_module": "@jupyter-widgets/base",
       "_model_module_version": "1.2.0",
       "_model_name": "LayoutModel",
       "_view_count": null,
       "_view_module": "@jupyter-widgets/base",
       "_view_module_version": "1.2.0",
       "_view_name": "LayoutView",
       "align_content": null,
       "align_items": null,
       "align_self": null,
       "border": null,
       "bottom": null,
       "display": null,
       "flex": null,
       "flex_flow": null,
       "grid_area": null,
       "grid_auto_columns": null,
       "grid_auto_flow": null,
       "grid_auto_rows": null,
       "grid_column": null,
       "grid_gap": null,
       "grid_row": null,
       "grid_template_areas": null,
       "grid_template_columns": null,
       "grid_template_rows": null,
       "height": null,
       "justify_content": null,
       "justify_items": null,
       "left": null,
       "margin": null,
       "max_height": null,
       "max_width": null,
       "min_height": null,
       "min_width": null,
       "object_fit": null,
       "object_position": null,
       "order": null,
       "overflow": null,
       "overflow_x": null,
       "overflow_y": null,
       "padding": null,
       "right": null,
       "top": null,
       "visibility": null,
       "width": null
      }
     },
     "55c73a329a4746a4bf6bdb2619479986": {
      "model_module": "@jupyter-widgets/base",
      "model_module_version": "1.2.0",
      "model_name": "LayoutModel",
      "state": {
       "_model_module": "@jupyter-widgets/base",
       "_model_module_version": "1.2.0",
       "_model_name": "LayoutModel",
       "_view_count": null,
       "_view_module": "@jupyter-widgets/base",
       "_view_module_version": "1.2.0",
       "_view_name": "LayoutView",
       "align_content": null,
       "align_items": null,
       "align_self": null,
       "border": null,
       "bottom": null,
       "display": null,
       "flex": null,
       "flex_flow": null,
       "grid_area": null,
       "grid_auto_columns": null,
       "grid_auto_flow": null,
       "grid_auto_rows": null,
       "grid_column": null,
       "grid_gap": null,
       "grid_row": null,
       "grid_template_areas": null,
       "grid_template_columns": null,
       "grid_template_rows": null,
       "height": null,
       "justify_content": null,
       "justify_items": null,
       "left": null,
       "margin": null,
       "max_height": null,
       "max_width": null,
       "min_height": null,
       "min_width": null,
       "object_fit": null,
       "object_position": null,
       "order": null,
       "overflow": null,
       "overflow_x": null,
       "overflow_y": null,
       "padding": null,
       "right": null,
       "top": null,
       "visibility": null,
       "width": null
      }
     },
     "5dcb288ee677434497fbe3aa69ed2e94": {
      "model_module": "@jupyter-widgets/base",
      "model_module_version": "1.2.0",
      "model_name": "LayoutModel",
      "state": {
       "_model_module": "@jupyter-widgets/base",
       "_model_module_version": "1.2.0",
       "_model_name": "LayoutModel",
       "_view_count": null,
       "_view_module": "@jupyter-widgets/base",
       "_view_module_version": "1.2.0",
       "_view_name": "LayoutView",
       "align_content": null,
       "align_items": null,
       "align_self": null,
       "border": null,
       "bottom": null,
       "display": null,
       "flex": null,
       "flex_flow": null,
       "grid_area": null,
       "grid_auto_columns": null,
       "grid_auto_flow": null,
       "grid_auto_rows": null,
       "grid_column": null,
       "grid_gap": null,
       "grid_row": null,
       "grid_template_areas": null,
       "grid_template_columns": null,
       "grid_template_rows": null,
       "height": null,
       "justify_content": null,
       "justify_items": null,
       "left": null,
       "margin": null,
       "max_height": null,
       "max_width": null,
       "min_height": null,
       "min_width": null,
       "object_fit": null,
       "object_position": null,
       "order": null,
       "overflow": null,
       "overflow_x": null,
       "overflow_y": null,
       "padding": null,
       "right": null,
       "top": null,
       "visibility": null,
       "width": null
      }
     },
     "63901475f4c14882a2df6fca4d391e8d": {
      "model_module": "@jupyter-widgets/base",
      "model_module_version": "1.2.0",
      "model_name": "LayoutModel",
      "state": {
       "_model_module": "@jupyter-widgets/base",
       "_model_module_version": "1.2.0",
       "_model_name": "LayoutModel",
       "_view_count": null,
       "_view_module": "@jupyter-widgets/base",
       "_view_module_version": "1.2.0",
       "_view_name": "LayoutView",
       "align_content": null,
       "align_items": null,
       "align_self": null,
       "border": null,
       "bottom": null,
       "display": null,
       "flex": null,
       "flex_flow": null,
       "grid_area": null,
       "grid_auto_columns": null,
       "grid_auto_flow": null,
       "grid_auto_rows": null,
       "grid_column": null,
       "grid_gap": null,
       "grid_row": null,
       "grid_template_areas": null,
       "grid_template_columns": null,
       "grid_template_rows": null,
       "height": null,
       "justify_content": null,
       "justify_items": null,
       "left": null,
       "margin": null,
       "max_height": null,
       "max_width": null,
       "min_height": null,
       "min_width": null,
       "object_fit": null,
       "object_position": null,
       "order": null,
       "overflow": null,
       "overflow_x": null,
       "overflow_y": null,
       "padding": null,
       "right": null,
       "top": null,
       "visibility": null,
       "width": null
      }
     },
     "66fb70495e464a0398e15da1b5237846": {
      "model_module": "@jupyter-widgets/controls",
      "model_module_version": "1.5.0",
      "model_name": "DescriptionStyleModel",
      "state": {
       "_model_module": "@jupyter-widgets/controls",
       "_model_module_version": "1.5.0",
       "_model_name": "DescriptionStyleModel",
       "_view_count": null,
       "_view_module": "@jupyter-widgets/base",
       "_view_module_version": "1.2.0",
       "_view_name": "StyleView",
       "description_width": ""
      }
     },
     "68e20f9cc4064b03944b087bcd311070": {
      "model_module": "@jupyter-widgets/controls",
      "model_module_version": "1.5.0",
      "model_name": "HTMLModel",
      "state": {
       "_dom_classes": [],
       "_model_module": "@jupyter-widgets/controls",
       "_model_module_version": "1.5.0",
       "_model_name": "HTMLModel",
       "_view_count": null,
       "_view_module": "@jupyter-widgets/controls",
       "_view_module_version": "1.5.0",
       "_view_name": "HTMLView",
       "description": "",
       "description_tooltip": null,
       "layout": "IPY_MODEL_5dcb288ee677434497fbe3aa69ed2e94",
       "placeholder": "​",
       "style": "IPY_MODEL_69ad52277a944f2e90ab375d5be55e6b",
       "value": "README.md: 100%"
      }
     },
     "68f0ab484489475c9a63a2144b1aca5e": {
      "model_module": "@jupyter-widgets/controls",
      "model_module_version": "1.5.0",
      "model_name": "DescriptionStyleModel",
      "state": {
       "_model_module": "@jupyter-widgets/controls",
       "_model_module_version": "1.5.0",
       "_model_name": "DescriptionStyleModel",
       "_view_count": null,
       "_view_module": "@jupyter-widgets/base",
       "_view_module_version": "1.2.0",
       "_view_name": "StyleView",
       "description_width": ""
      }
     },
     "69ad52277a944f2e90ab375d5be55e6b": {
      "model_module": "@jupyter-widgets/controls",
      "model_module_version": "1.5.0",
      "model_name": "DescriptionStyleModel",
      "state": {
       "_model_module": "@jupyter-widgets/controls",
       "_model_module_version": "1.5.0",
       "_model_name": "DescriptionStyleModel",
       "_view_count": null,
       "_view_module": "@jupyter-widgets/base",
       "_view_module_version": "1.2.0",
       "_view_name": "StyleView",
       "description_width": ""
      }
     },
     "6f87ffbcfcc14b3e9c33c9bd779b31f1": {
      "model_module": "@jupyter-widgets/controls",
      "model_module_version": "1.5.0",
      "model_name": "DescriptionStyleModel",
      "state": {
       "_model_module": "@jupyter-widgets/controls",
       "_model_module_version": "1.5.0",
       "_model_name": "DescriptionStyleModel",
       "_view_count": null,
       "_view_module": "@jupyter-widgets/base",
       "_view_module_version": "1.2.0",
       "_view_name": "StyleView",
       "description_width": ""
      }
     },
     "6fd7c089dbe14c289e69b3833606ad3d": {
      "model_module": "@jupyter-widgets/controls",
      "model_module_version": "1.5.0",
      "model_name": "DescriptionStyleModel",
      "state": {
       "_model_module": "@jupyter-widgets/controls",
       "_model_module_version": "1.5.0",
       "_model_name": "DescriptionStyleModel",
       "_view_count": null,
       "_view_module": "@jupyter-widgets/base",
       "_view_module_version": "1.2.0",
       "_view_name": "StyleView",
       "description_width": ""
      }
     },
     "711a5bd7ade746aab0dc9d2abe7425d9": {
      "model_module": "@jupyter-widgets/base",
      "model_module_version": "1.2.0",
      "model_name": "LayoutModel",
      "state": {
       "_model_module": "@jupyter-widgets/base",
       "_model_module_version": "1.2.0",
       "_model_name": "LayoutModel",
       "_view_count": null,
       "_view_module": "@jupyter-widgets/base",
       "_view_module_version": "1.2.0",
       "_view_name": "LayoutView",
       "align_content": null,
       "align_items": null,
       "align_self": null,
       "border": null,
       "bottom": null,
       "display": null,
       "flex": null,
       "flex_flow": null,
       "grid_area": null,
       "grid_auto_columns": null,
       "grid_auto_flow": null,
       "grid_auto_rows": null,
       "grid_column": null,
       "grid_gap": null,
       "grid_row": null,
       "grid_template_areas": null,
       "grid_template_columns": null,
       "grid_template_rows": null,
       "height": null,
       "justify_content": null,
       "justify_items": null,
       "left": null,
       "margin": null,
       "max_height": null,
       "max_width": null,
       "min_height": null,
       "min_width": null,
       "object_fit": null,
       "object_position": null,
       "order": null,
       "overflow": null,
       "overflow_x": null,
       "overflow_y": null,
       "padding": null,
       "right": null,
       "top": null,
       "visibility": null,
       "width": null
      }
     },
     "74b1182f0696446cb79017d4b99b7063": {
      "model_module": "@jupyter-widgets/base",
      "model_module_version": "1.2.0",
      "model_name": "LayoutModel",
      "state": {
       "_model_module": "@jupyter-widgets/base",
       "_model_module_version": "1.2.0",
       "_model_name": "LayoutModel",
       "_view_count": null,
       "_view_module": "@jupyter-widgets/base",
       "_view_module_version": "1.2.0",
       "_view_name": "LayoutView",
       "align_content": null,
       "align_items": null,
       "align_self": null,
       "border": null,
       "bottom": null,
       "display": null,
       "flex": null,
       "flex_flow": null,
       "grid_area": null,
       "grid_auto_columns": null,
       "grid_auto_flow": null,
       "grid_auto_rows": null,
       "grid_column": null,
       "grid_gap": null,
       "grid_row": null,
       "grid_template_areas": null,
       "grid_template_columns": null,
       "grid_template_rows": null,
       "height": null,
       "justify_content": null,
       "justify_items": null,
       "left": null,
       "margin": null,
       "max_height": null,
       "max_width": null,
       "min_height": null,
       "min_width": null,
       "object_fit": null,
       "object_position": null,
       "order": null,
       "overflow": null,
       "overflow_x": null,
       "overflow_y": null,
       "padding": null,
       "right": null,
       "top": null,
       "visibility": null,
       "width": null
      }
     },
     "78642db088f6493e817dcea51c6247da": {
      "model_module": "@jupyter-widgets/controls",
      "model_module_version": "1.5.0",
      "model_name": "HTMLModel",
      "state": {
       "_dom_classes": [],
       "_model_module": "@jupyter-widgets/controls",
       "_model_module_version": "1.5.0",
       "_model_name": "HTMLModel",
       "_view_count": null,
       "_view_module": "@jupyter-widgets/controls",
       "_view_module_version": "1.5.0",
       "_view_name": "HTMLView",
       "description": "",
       "description_tooltip": null,
       "layout": "IPY_MODEL_9f80784a39d7431eaf7da7058386d065",
       "placeholder": "​",
       "style": "IPY_MODEL_ccac47cb8f8e42658cc7824ba7144cc8",
       "value": "train.parquet: 100%"
      }
     },
     "787f0f7e06614ef999d306d35ea03e90": {
      "model_module": "@jupyter-widgets/controls",
      "model_module_version": "1.5.0",
      "model_name": "DescriptionStyleModel",
      "state": {
       "_model_module": "@jupyter-widgets/controls",
       "_model_module_version": "1.5.0",
       "_model_name": "DescriptionStyleModel",
       "_view_count": null,
       "_view_module": "@jupyter-widgets/base",
       "_view_module_version": "1.2.0",
       "_view_name": "StyleView",
       "description_width": ""
      }
     },
     "7bcb3b1c2f43479cbb227e843babe650": {
      "model_module": "@jupyter-widgets/base",
      "model_module_version": "1.2.0",
      "model_name": "LayoutModel",
      "state": {
       "_model_module": "@jupyter-widgets/base",
       "_model_module_version": "1.2.0",
       "_model_name": "LayoutModel",
       "_view_count": null,
       "_view_module": "@jupyter-widgets/base",
       "_view_module_version": "1.2.0",
       "_view_name": "LayoutView",
       "align_content": null,
       "align_items": null,
       "align_self": null,
       "border": null,
       "bottom": null,
       "display": null,
       "flex": null,
       "flex_flow": null,
       "grid_area": null,
       "grid_auto_columns": null,
       "grid_auto_flow": null,
       "grid_auto_rows": null,
       "grid_column": null,
       "grid_gap": null,
       "grid_row": null,
       "grid_template_areas": null,
       "grid_template_columns": null,
       "grid_template_rows": null,
       "height": null,
       "justify_content": null,
       "justify_items": null,
       "left": null,
       "margin": null,
       "max_height": null,
       "max_width": null,
       "min_height": null,
       "min_width": null,
       "object_fit": null,
       "object_position": null,
       "order": null,
       "overflow": null,
       "overflow_x": null,
       "overflow_y": null,
       "padding": null,
       "right": null,
       "top": null,
       "visibility": null,
       "width": null
      }
     },
     "85156e1492b4442e8b212a018ab82b93": {
      "model_module": "@jupyter-widgets/controls",
      "model_module_version": "1.5.0",
      "model_name": "HTMLModel",
      "state": {
       "_dom_classes": [],
       "_model_module": "@jupyter-widgets/controls",
       "_model_module_version": "1.5.0",
       "_model_name": "HTMLModel",
       "_view_count": null,
       "_view_module": "@jupyter-widgets/controls",
       "_view_module_version": "1.5.0",
       "_view_name": "HTMLView",
       "description": "",
       "description_tooltip": null,
       "layout": "IPY_MODEL_97b1a1c274c7476d9129f5ead2b3daba",
       "placeholder": "​",
       "style": "IPY_MODEL_f30675c4cdcf417fae0eb79d5cf0affc",
       "value": "Generating test split: 100%"
      }
     },
     "85a124949a8a4b0cbd30e10ebcefbc98": {
      "model_module": "@jupyter-widgets/base",
      "model_module_version": "1.2.0",
      "model_name": "LayoutModel",
      "state": {
       "_model_module": "@jupyter-widgets/base",
       "_model_module_version": "1.2.0",
       "_model_name": "LayoutModel",
       "_view_count": null,
       "_view_module": "@jupyter-widgets/base",
       "_view_module_version": "1.2.0",
       "_view_name": "LayoutView",
       "align_content": null,
       "align_items": null,
       "align_self": null,
       "border": null,
       "bottom": null,
       "display": null,
       "flex": null,
       "flex_flow": null,
       "grid_area": null,
       "grid_auto_columns": null,
       "grid_auto_flow": null,
       "grid_auto_rows": null,
       "grid_column": null,
       "grid_gap": null,
       "grid_row": null,
       "grid_template_areas": null,
       "grid_template_columns": null,
       "grid_template_rows": null,
       "height": null,
       "justify_content": null,
       "justify_items": null,
       "left": null,
       "margin": null,
       "max_height": null,
       "max_width": null,
       "min_height": null,
       "min_width": null,
       "object_fit": null,
       "object_position": null,
       "order": null,
       "overflow": null,
       "overflow_x": null,
       "overflow_y": null,
       "padding": null,
       "right": null,
       "top": null,
       "visibility": null,
       "width": null
      }
     },
     "87c0b109226941519ee7841c5dafcad4": {
      "model_module": "@jupyter-widgets/controls",
      "model_module_version": "1.5.0",
      "model_name": "HTMLModel",
      "state": {
       "_dom_classes": [],
       "_model_module": "@jupyter-widgets/controls",
       "_model_module_version": "1.5.0",
       "_model_name": "HTMLModel",
       "_view_count": null,
       "_view_module": "@jupyter-widgets/controls",
       "_view_module_version": "1.5.0",
       "_view_name": "HTMLView",
       "description": "",
       "description_tooltip": null,
       "layout": "IPY_MODEL_efb51871cc5142a3867a02cdb8ea45cb",
       "placeholder": "​",
       "style": "IPY_MODEL_936fec3fcaf544fab66498e21cffbd41",
       "value": "test.parquet: 100%"
      }
     },
     "882d4a8b4091404abdf18e4c2f50c301": {
      "model_module": "@jupyter-widgets/controls",
      "model_module_version": "1.5.0",
      "model_name": "FloatProgressModel",
      "state": {
       "_dom_classes": [],
       "_model_module": "@jupyter-widgets/controls",
       "_model_module_version": "1.5.0",
       "_model_name": "FloatProgressModel",
       "_view_count": null,
       "_view_module": "@jupyter-widgets/controls",
       "_view_module_version": "1.5.0",
       "_view_name": "ProgressView",
       "bar_style": "success",
       "description": "",
       "description_tooltip": null,
       "layout": "IPY_MODEL_44273c18a86142969e2a1588afaa5fae",
       "max": 1066,
       "min": 0,
       "orientation": "horizontal",
       "style": "IPY_MODEL_8dba2fc121ea4c44a24e5cdd03fd4c88",
       "value": 1066
      }
     },
     "8dba2fc121ea4c44a24e5cdd03fd4c88": {
      "model_module": "@jupyter-widgets/controls",
      "model_module_version": "1.5.0",
      "model_name": "ProgressStyleModel",
      "state": {
       "_model_module": "@jupyter-widgets/controls",
       "_model_module_version": "1.5.0",
       "_model_name": "ProgressStyleModel",
       "_view_count": null,
       "_view_module": "@jupyter-widgets/base",
       "_view_module_version": "1.2.0",
       "_view_name": "StyleView",
       "bar_color": null,
       "description_width": ""
      }
     },
     "8f5ec5258b8f4b809d8c6726f533d660": {
      "model_module": "@jupyter-widgets/controls",
      "model_module_version": "1.5.0",
      "model_name": "HTMLModel",
      "state": {
       "_dom_classes": [],
       "_model_module": "@jupyter-widgets/controls",
       "_model_module_version": "1.5.0",
       "_model_name": "HTMLModel",
       "_view_count": null,
       "_view_module": "@jupyter-widgets/controls",
       "_view_module_version": "1.5.0",
       "_view_name": "HTMLView",
       "description": "",
       "description_tooltip": null,
       "layout": "IPY_MODEL_241baa60273148deb9e7cc5885b79458",
       "placeholder": "​",
       "style": "IPY_MODEL_66fb70495e464a0398e15da1b5237846",
       "value": " 92.2k/92.2k [00:00&lt;00:00, 6.95MB/s]"
      }
     },
     "8fcd0389388e47f9bcd25a48aa7e6ece": {
      "model_module": "@jupyter-widgets/controls",
      "model_module_version": "1.5.0",
      "model_name": "HTMLModel",
      "state": {
       "_dom_classes": [],
       "_model_module": "@jupyter-widgets/controls",
       "_model_module_version": "1.5.0",
       "_model_name": "HTMLModel",
       "_view_count": null,
       "_view_module": "@jupyter-widgets/controls",
       "_view_module_version": "1.5.0",
       "_view_name": "HTMLView",
       "description": "",
       "description_tooltip": null,
       "layout": "IPY_MODEL_0aeecf0bb42841f38b3c0e5cb035c130",
       "placeholder": "​",
       "style": "IPY_MODEL_063f92ab2b5f46bfaa1882e9c92abf2c",
       "value": "Computing checksums: 100%"
      }
     },
     "90353c517c964b03989a93a6edbff2cd": {
      "model_module": "@jupyter-widgets/base",
      "model_module_version": "1.2.0",
      "model_name": "LayoutModel",
      "state": {
       "_model_module": "@jupyter-widgets/base",
       "_model_module_version": "1.2.0",
       "_model_name": "LayoutModel",
       "_view_count": null,
       "_view_module": "@jupyter-widgets/base",
       "_view_module_version": "1.2.0",
       "_view_name": "LayoutView",
       "align_content": null,
       "align_items": null,
       "align_self": null,
       "border": null,
       "bottom": null,
       "display": null,
       "flex": null,
       "flex_flow": null,
       "grid_area": null,
       "grid_auto_columns": null,
       "grid_auto_flow": null,
       "grid_auto_rows": null,
       "grid_column": null,
       "grid_gap": null,
       "grid_row": null,
       "grid_template_areas": null,
       "grid_template_columns": null,
       "grid_template_rows": null,
       "height": null,
       "justify_content": null,
       "justify_items": null,
       "left": null,
       "margin": null,
       "max_height": null,
       "max_width": null,
       "min_height": null,
       "min_width": null,
       "object_fit": null,
       "object_position": null,
       "order": null,
       "overflow": null,
       "overflow_x": null,
       "overflow_y": null,
       "padding": null,
       "right": null,
       "top": null,
       "visibility": null,
       "width": null
      }
     },
     "936fec3fcaf544fab66498e21cffbd41": {
      "model_module": "@jupyter-widgets/controls",
      "model_module_version": "1.5.0",
      "model_name": "DescriptionStyleModel",
      "state": {
       "_model_module": "@jupyter-widgets/controls",
       "_model_module_version": "1.5.0",
       "_model_name": "DescriptionStyleModel",
       "_view_count": null,
       "_view_module": "@jupyter-widgets/base",
       "_view_module_version": "1.2.0",
       "_view_name": "StyleView",
       "description_width": ""
      }
     },
     "9750447dcf80497697b3bd2c00c84a80": {
      "model_module": "@jupyter-widgets/controls",
      "model_module_version": "1.5.0",
      "model_name": "ProgressStyleModel",
      "state": {
       "_model_module": "@jupyter-widgets/controls",
       "_model_module_version": "1.5.0",
       "_model_name": "ProgressStyleModel",
       "_view_count": null,
       "_view_module": "@jupyter-widgets/base",
       "_view_module_version": "1.2.0",
       "_view_name": "StyleView",
       "bar_color": null,
       "description_width": ""
      }
     },
     "97b1a1c274c7476d9129f5ead2b3daba": {
      "model_module": "@jupyter-widgets/base",
      "model_module_version": "1.2.0",
      "model_name": "LayoutModel",
      "state": {
       "_model_module": "@jupyter-widgets/base",
       "_model_module_version": "1.2.0",
       "_model_name": "LayoutModel",
       "_view_count": null,
       "_view_module": "@jupyter-widgets/base",
       "_view_module_version": "1.2.0",
       "_view_name": "LayoutView",
       "align_content": null,
       "align_items": null,
       "align_self": null,
       "border": null,
       "bottom": null,
       "display": null,
       "flex": null,
       "flex_flow": null,
       "grid_area": null,
       "grid_auto_columns": null,
       "grid_auto_flow": null,
       "grid_auto_rows": null,
       "grid_column": null,
       "grid_gap": null,
       "grid_row": null,
       "grid_template_areas": null,
       "grid_template_columns": null,
       "grid_template_rows": null,
       "height": null,
       "justify_content": null,
       "justify_items": null,
       "left": null,
       "margin": null,
       "max_height": null,
       "max_width": null,
       "min_height": null,
       "min_width": null,
       "object_fit": null,
       "object_position": null,
       "order": null,
       "overflow": null,
       "overflow_x": null,
       "overflow_y": null,
       "padding": null,
       "right": null,
       "top": null,
       "visibility": null,
       "width": null
      }
     },
     "97b5e6d42dd3445abd2cbffe68c9ae54": {
      "model_module": "@jupyter-widgets/base",
      "model_module_version": "1.2.0",
      "model_name": "LayoutModel",
      "state": {
       "_model_module": "@jupyter-widgets/base",
       "_model_module_version": "1.2.0",
       "_model_name": "LayoutModel",
       "_view_count": null,
       "_view_module": "@jupyter-widgets/base",
       "_view_module_version": "1.2.0",
       "_view_name": "LayoutView",
       "align_content": null,
       "align_items": null,
       "align_self": null,
       "border": null,
       "bottom": null,
       "display": null,
       "flex": null,
       "flex_flow": null,
       "grid_area": null,
       "grid_auto_columns": null,
       "grid_auto_flow": null,
       "grid_auto_rows": null,
       "grid_column": null,
       "grid_gap": null,
       "grid_row": null,
       "grid_template_areas": null,
       "grid_template_columns": null,
       "grid_template_rows": null,
       "height": null,
       "justify_content": null,
       "justify_items": null,
       "left": null,
       "margin": null,
       "max_height": null,
       "max_width": null,
       "min_height": null,
       "min_width": null,
       "object_fit": null,
       "object_position": null,
       "order": null,
       "overflow": null,
       "overflow_x": null,
       "overflow_y": null,
       "padding": null,
       "right": null,
       "top": null,
       "visibility": null,
       "width": null
      }
     },
     "9db34fbc42e54fc5b2eab7f8b3ebd39b": {
      "model_module": "@jupyter-widgets/controls",
      "model_module_version": "1.5.0",
      "model_name": "HTMLModel",
      "state": {
       "_dom_classes": [],
       "_model_module": "@jupyter-widgets/controls",
       "_model_module_version": "1.5.0",
       "_model_name": "HTMLModel",
       "_view_count": null,
       "_view_module": "@jupyter-widgets/controls",
       "_view_module_version": "1.5.0",
       "_view_name": "HTMLView",
       "description": "",
       "description_tooltip": null,
       "layout": "IPY_MODEL_47416e55c4884fa0a266d4b2a9d07b9d",
       "placeholder": "​",
       "style": "IPY_MODEL_153e22fd97d943e6a5dc294813308d62",
       "value": "Generating train split: 100%"
      }
     },
     "9f80784a39d7431eaf7da7058386d065": {
      "model_module": "@jupyter-widgets/base",
      "model_module_version": "1.2.0",
      "model_name": "LayoutModel",
      "state": {
       "_model_module": "@jupyter-widgets/base",
       "_model_module_version": "1.2.0",
       "_model_name": "LayoutModel",
       "_view_count": null,
       "_view_module": "@jupyter-widgets/base",
       "_view_module_version": "1.2.0",
       "_view_name": "LayoutView",
       "align_content": null,
       "align_items": null,
       "align_self": null,
       "border": null,
       "bottom": null,
       "display": null,
       "flex": null,
       "flex_flow": null,
       "grid_area": null,
       "grid_auto_columns": null,
       "grid_auto_flow": null,
       "grid_auto_rows": null,
       "grid_column": null,
       "grid_gap": null,
       "grid_row": null,
       "grid_template_areas": null,
       "grid_template_columns": null,
       "grid_template_rows": null,
       "height": null,
       "justify_content": null,
       "justify_items": null,
       "left": null,
       "margin": null,
       "max_height": null,
       "max_width": null,
       "min_height": null,
       "min_width": null,
       "object_fit": null,
       "object_position": null,
       "order": null,
       "overflow": null,
       "overflow_x": null,
       "overflow_y": null,
       "padding": null,
       "right": null,
       "top": null,
       "visibility": null,
       "width": null
      }
     },
     "a2587ba50fd542eb932096dead083c5b": {
      "model_module": "@jupyter-widgets/controls",
      "model_module_version": "1.5.0",
      "model_name": "DescriptionStyleModel",
      "state": {
       "_model_module": "@jupyter-widgets/controls",
       "_model_module_version": "1.5.0",
       "_model_name": "DescriptionStyleModel",
       "_view_count": null,
       "_view_module": "@jupyter-widgets/base",
       "_view_module_version": "1.2.0",
       "_view_name": "StyleView",
       "description_width": ""
      }
     },
     "b0b2d2ce472348c791ffad16ca836bdf": {
      "model_module": "@jupyter-widgets/controls",
      "model_module_version": "1.5.0",
      "model_name": "ProgressStyleModel",
      "state": {
       "_model_module": "@jupyter-widgets/controls",
       "_model_module_version": "1.5.0",
       "_model_name": "ProgressStyleModel",
       "_view_count": null,
       "_view_module": "@jupyter-widgets/base",
       "_view_module_version": "1.2.0",
       "_view_name": "StyleView",
       "bar_color": null,
       "description_width": ""
      }
     },
     "b230a1a47b694522a36b93dbd5c541bd": {
      "model_module": "@jupyter-widgets/controls",
      "model_module_version": "1.5.0",
      "model_name": "DescriptionStyleModel",
      "state": {
       "_model_module": "@jupyter-widgets/controls",
       "_model_module_version": "1.5.0",
       "_model_name": "DescriptionStyleModel",
       "_view_count": null,
       "_view_module": "@jupyter-widgets/base",
       "_view_module_version": "1.2.0",
       "_view_name": "StyleView",
       "description_width": ""
      }
     },
     "b2bd678d16b540d58452ac24ee349199": {
      "model_module": "@jupyter-widgets/controls",
      "model_module_version": "1.5.0",
      "model_name": "FloatProgressModel",
      "state": {
       "_dom_classes": [],
       "_model_module": "@jupyter-widgets/controls",
       "_model_module_version": "1.5.0",
       "_model_name": "FloatProgressModel",
       "_view_count": null,
       "_view_module": "@jupyter-widgets/controls",
       "_view_module_version": "1.5.0",
       "_view_name": "ProgressView",
       "bar_style": "success",
       "description": "",
       "description_tooltip": null,
       "layout": "IPY_MODEL_7bcb3b1c2f43479cbb227e843babe650",
       "max": 3,
       "min": 0,
       "orientation": "horizontal",
       "style": "IPY_MODEL_0f6eaa92dc964e2ebd819b61dd59d0f1",
       "value": 3
      }
     },
     "b6041f3921d8462682d422091b20f277": {
      "model_module": "@jupyter-widgets/base",
      "model_module_version": "1.2.0",
      "model_name": "LayoutModel",
      "state": {
       "_model_module": "@jupyter-widgets/base",
       "_model_module_version": "1.2.0",
       "_model_name": "LayoutModel",
       "_view_count": null,
       "_view_module": "@jupyter-widgets/base",
       "_view_module_version": "1.2.0",
       "_view_name": "LayoutView",
       "align_content": null,
       "align_items": null,
       "align_self": null,
       "border": null,
       "bottom": null,
       "display": null,
       "flex": null,
       "flex_flow": null,
       "grid_area": null,
       "grid_auto_columns": null,
       "grid_auto_flow": null,
       "grid_auto_rows": null,
       "grid_column": null,
       "grid_gap": null,
       "grid_row": null,
       "grid_template_areas": null,
       "grid_template_columns": null,
       "grid_template_rows": null,
       "height": null,
       "justify_content": null,
       "justify_items": null,
       "left": null,
       "margin": null,
       "max_height": null,
       "max_width": null,
       "min_height": null,
       "min_width": null,
       "object_fit": null,
       "object_position": null,
       "order": null,
       "overflow": null,
       "overflow_x": null,
       "overflow_y": null,
       "padding": null,
       "right": null,
       "top": null,
       "visibility": null,
       "width": null
      }
     },
     "b897ed8abaad4c319b37d215748969f5": {
      "model_module": "@jupyter-widgets/controls",
      "model_module_version": "1.5.0",
      "model_name": "HBoxModel",
      "state": {
       "_dom_classes": [],
       "_model_module": "@jupyter-widgets/controls",
       "_model_module_version": "1.5.0",
       "_model_name": "HBoxModel",
       "_view_count": null,
       "_view_module": "@jupyter-widgets/controls",
       "_view_module_version": "1.5.0",
       "_view_name": "HBoxView",
       "box_style": "",
       "children": [
        "IPY_MODEL_9db34fbc42e54fc5b2eab7f8b3ebd39b",
        "IPY_MODEL_15f931cba4294850877cfe1a560b97a5",
        "IPY_MODEL_bdcf1b60a36a40adbdc14d8e045e5e5d"
       ],
       "layout": "IPY_MODEL_b6041f3921d8462682d422091b20f277"
      }
     },
     "bdcf1b60a36a40adbdc14d8e045e5e5d": {
      "model_module": "@jupyter-widgets/controls",
      "model_module_version": "1.5.0",
      "model_name": "HTMLModel",
      "state": {
       "_dom_classes": [],
       "_model_module": "@jupyter-widgets/controls",
       "_model_module_version": "1.5.0",
       "_model_name": "HTMLModel",
       "_view_count": null,
       "_view_module": "@jupyter-widgets/controls",
       "_view_module_version": "1.5.0",
       "_view_name": "HTMLView",
       "description": "",
       "description_tooltip": null,
       "layout": "IPY_MODEL_23c39cd520044090a5e6d262a5733878",
       "placeholder": "​",
       "style": "IPY_MODEL_68f0ab484489475c9a63a2144b1aca5e",
       "value": " 8530/8530 [00:00&lt;00:00, 131659.49 examples/s]"
      }
     },
     "c43500782ee24f468b225ce660051af7": {
      "model_module": "@jupyter-widgets/controls",
      "model_module_version": "1.5.0",
      "model_name": "HTMLModel",
      "state": {
       "_dom_classes": [],
       "_model_module": "@jupyter-widgets/controls",
       "_model_module_version": "1.5.0",
       "_model_name": "HTMLModel",
       "_view_count": null,
       "_view_module": "@jupyter-widgets/controls",
       "_view_module_version": "1.5.0",
       "_view_name": "HTMLView",
       "description": "",
       "description_tooltip": null,
       "layout": "IPY_MODEL_0fde6dad870a48689d17241d2e0da531",
       "placeholder": "​",
       "style": "IPY_MODEL_787f0f7e06614ef999d306d35ea03e90",
       "value": "Generating validation split: 100%"
      }
     },
     "c646417a0ac34df4b5d296124860728a": {
      "model_module": "@jupyter-widgets/controls",
      "model_module_version": "1.5.0",
      "model_name": "ProgressStyleModel",
      "state": {
       "_model_module": "@jupyter-widgets/controls",
       "_model_module_version": "1.5.0",
       "_model_name": "ProgressStyleModel",
       "_view_count": null,
       "_view_module": "@jupyter-widgets/base",
       "_view_module_version": "1.2.0",
       "_view_name": "StyleView",
       "bar_color": null,
       "description_width": ""
      }
     },
     "c799d7d1688c49c5840824f2dba10629": {
      "model_module": "@jupyter-widgets/base",
      "model_module_version": "1.2.0",
      "model_name": "LayoutModel",
      "state": {
       "_model_module": "@jupyter-widgets/base",
       "_model_module_version": "1.2.0",
       "_model_name": "LayoutModel",
       "_view_count": null,
       "_view_module": "@jupyter-widgets/base",
       "_view_module_version": "1.2.0",
       "_view_name": "LayoutView",
       "align_content": null,
       "align_items": null,
       "align_self": null,
       "border": null,
       "bottom": null,
       "display": null,
       "flex": null,
       "flex_flow": null,
       "grid_area": null,
       "grid_auto_columns": null,
       "grid_auto_flow": null,
       "grid_auto_rows": null,
       "grid_column": null,
       "grid_gap": null,
       "grid_row": null,
       "grid_template_areas": null,
       "grid_template_columns": null,
       "grid_template_rows": null,
       "height": null,
       "justify_content": null,
       "justify_items": null,
       "left": null,
       "margin": null,
       "max_height": null,
       "max_width": null,
       "min_height": null,
       "min_width": null,
       "object_fit": null,
       "object_position": null,
       "order": null,
       "overflow": null,
       "overflow_x": null,
       "overflow_y": null,
       "padding": null,
       "right": null,
       "top": null,
       "visibility": null,
       "width": null
      }
     },
     "c7feb0b5e95a4cbf96fe2199a479c824": {
      "model_module": "@jupyter-widgets/controls",
      "model_module_version": "1.5.0",
      "model_name": "FloatProgressModel",
      "state": {
       "_dom_classes": [],
       "_model_module": "@jupyter-widgets/controls",
       "_model_module_version": "1.5.0",
       "_model_name": "FloatProgressModel",
       "_view_count": null,
       "_view_module": "@jupyter-widgets/controls",
       "_view_module_version": "1.5.0",
       "_view_name": "ProgressView",
       "bar_style": "success",
       "description": "",
       "description_tooltip": null,
       "layout": "IPY_MODEL_74b1182f0696446cb79017d4b99b7063",
       "max": 1066,
       "min": 0,
       "orientation": "horizontal",
       "style": "IPY_MODEL_9750447dcf80497697b3bd2c00c84a80",
       "value": 1066
      }
     },
     "c94c3452aa5b4dad9d6a4cd06968550b": {
      "model_module": "@jupyter-widgets/controls",
      "model_module_version": "1.5.0",
      "model_name": "HTMLModel",
      "state": {
       "_dom_classes": [],
       "_model_module": "@jupyter-widgets/controls",
       "_model_module_version": "1.5.0",
       "_model_name": "HTMLModel",
       "_view_count": null,
       "_view_module": "@jupyter-widgets/controls",
       "_view_module_version": "1.5.0",
       "_view_name": "HTMLView",
       "description": "",
       "description_tooltip": null,
       "layout": "IPY_MODEL_19def9e63d3c4c658bcceb41c0281800",
       "placeholder": "​",
       "style": "IPY_MODEL_40e6018b24cf4e4bbb33e4f5c5a74bc9",
       "value": " 699k/699k [00:00&lt;00:00, 5.20MB/s]"
      }
     },
     "c9e4343a728d414496d8f83a6e6d8282": {
      "model_module": "@jupyter-widgets/base",
      "model_module_version": "1.2.0",
      "model_name": "LayoutModel",
      "state": {
       "_model_module": "@jupyter-widgets/base",
       "_model_module_version": "1.2.0",
       "_model_name": "LayoutModel",
       "_view_count": null,
       "_view_module": "@jupyter-widgets/base",
       "_view_module_version": "1.2.0",
       "_view_name": "LayoutView",
       "align_content": null,
       "align_items": null,
       "align_self": null,
       "border": null,
       "bottom": null,
       "display": null,
       "flex": null,
       "flex_flow": null,
       "grid_area": null,
       "grid_auto_columns": null,
       "grid_auto_flow": null,
       "grid_auto_rows": null,
       "grid_column": null,
       "grid_gap": null,
       "grid_row": null,
       "grid_template_areas": null,
       "grid_template_columns": null,
       "grid_template_rows": null,
       "height": null,
       "justify_content": null,
       "justify_items": null,
       "left": null,
       "margin": null,
       "max_height": null,
       "max_width": null,
       "min_height": null,
       "min_width": null,
       "object_fit": null,
       "object_position": null,
       "order": null,
       "overflow": null,
       "overflow_x": null,
       "overflow_y": null,
       "padding": null,
       "right": null,
       "top": null,
       "visibility": null,
       "width": null
      }
     },
     "ccac47cb8f8e42658cc7824ba7144cc8": {
      "model_module": "@jupyter-widgets/controls",
      "model_module_version": "1.5.0",
      "model_name": "DescriptionStyleModel",
      "state": {
       "_model_module": "@jupyter-widgets/controls",
       "_model_module_version": "1.5.0",
       "_model_name": "DescriptionStyleModel",
       "_view_count": null,
       "_view_module": "@jupyter-widgets/base",
       "_view_module_version": "1.2.0",
       "_view_name": "StyleView",
       "description_width": ""
      }
     },
     "cde1ccf38cbc4ef089c8f3b91bd52802": {
      "model_module": "@jupyter-widgets/base",
      "model_module_version": "1.2.0",
      "model_name": "LayoutModel",
      "state": {
       "_model_module": "@jupyter-widgets/base",
       "_model_module_version": "1.2.0",
       "_model_name": "LayoutModel",
       "_view_count": null,
       "_view_module": "@jupyter-widgets/base",
       "_view_module_version": "1.2.0",
       "_view_name": "LayoutView",
       "align_content": null,
       "align_items": null,
       "align_self": null,
       "border": null,
       "bottom": null,
       "display": null,
       "flex": null,
       "flex_flow": null,
       "grid_area": null,
       "grid_auto_columns": null,
       "grid_auto_flow": null,
       "grid_auto_rows": null,
       "grid_column": null,
       "grid_gap": null,
       "grid_row": null,
       "grid_template_areas": null,
       "grid_template_columns": null,
       "grid_template_rows": null,
       "height": null,
       "justify_content": null,
       "justify_items": null,
       "left": null,
       "margin": null,
       "max_height": null,
       "max_width": null,
       "min_height": null,
       "min_width": null,
       "object_fit": null,
       "object_position": null,
       "order": null,
       "overflow": null,
       "overflow_x": null,
       "overflow_y": null,
       "padding": null,
       "right": null,
       "top": null,
       "visibility": null,
       "width": null
      }
     },
     "ceb981a038184ca6b5c80e3301061f51": {
      "model_module": "@jupyter-widgets/controls",
      "model_module_version": "1.5.0",
      "model_name": "HTMLModel",
      "state": {
       "_dom_classes": [],
       "_model_module": "@jupyter-widgets/controls",
       "_model_module_version": "1.5.0",
       "_model_name": "HTMLModel",
       "_view_count": null,
       "_view_module": "@jupyter-widgets/controls",
       "_view_module_version": "1.5.0",
       "_view_name": "HTMLView",
       "description": "",
       "description_tooltip": null,
       "layout": "IPY_MODEL_c799d7d1688c49c5840824f2dba10629",
       "placeholder": "​",
       "style": "IPY_MODEL_10d60aeaab9546e6aaf5e78f653b3f06",
       "value": " 90.0k/90.0k [00:00&lt;00:00, 6.98MB/s]"
      }
     },
     "d3d54fb009d14dd69a519ec1048aded8": {
      "model_module": "@jupyter-widgets/controls",
      "model_module_version": "1.5.0",
      "model_name": "HBoxModel",
      "state": {
       "_dom_classes": [],
       "_model_module": "@jupyter-widgets/controls",
       "_model_module_version": "1.5.0",
       "_model_name": "HBoxModel",
       "_view_count": null,
       "_view_module": "@jupyter-widgets/controls",
       "_view_module_version": "1.5.0",
       "_view_name": "HBoxView",
       "box_style": "",
       "children": [
        "IPY_MODEL_68e20f9cc4064b03944b087bcd311070",
        "IPY_MODEL_1e3c09beda5e40aaba88eaa05d25a3de",
        "IPY_MODEL_2230ae1441ed4fa98d68f89526a414db"
       ],
       "layout": "IPY_MODEL_63901475f4c14882a2df6fca4d391e8d"
      }
     },
     "d5b2d63c29184477bb0be3c8fb70e283": {
      "model_module": "@jupyter-widgets/controls",
      "model_module_version": "1.5.0",
      "model_name": "FloatProgressModel",
      "state": {
       "_dom_classes": [],
       "_model_module": "@jupyter-widgets/controls",
       "_model_module_version": "1.5.0",
       "_model_name": "FloatProgressModel",
       "_view_count": null,
       "_view_module": "@jupyter-widgets/controls",
       "_view_module_version": "1.5.0",
       "_view_name": "ProgressView",
       "bar_style": "success",
       "description": "",
       "description_tooltip": null,
       "layout": "IPY_MODEL_97b5e6d42dd3445abd2cbffe68c9ae54",
       "max": 92206,
       "min": 0,
       "orientation": "horizontal",
       "style": "IPY_MODEL_2bb85bc2c1b64030894d7dbebb7f9a62",
       "value": 92206
      }
     },
     "d6c9df339f564ac7b701e7e2a02a184b": {
      "model_module": "@jupyter-widgets/base",
      "model_module_version": "1.2.0",
      "model_name": "LayoutModel",
      "state": {
       "_model_module": "@jupyter-widgets/base",
       "_model_module_version": "1.2.0",
       "_model_name": "LayoutModel",
       "_view_count": null,
       "_view_module": "@jupyter-widgets/base",
       "_view_module_version": "1.2.0",
       "_view_name": "LayoutView",
       "align_content": null,
       "align_items": null,
       "align_self": null,
       "border": null,
       "bottom": null,
       "display": null,
       "flex": null,
       "flex_flow": null,
       "grid_area": null,
       "grid_auto_columns": null,
       "grid_auto_flow": null,
       "grid_auto_rows": null,
       "grid_column": null,
       "grid_gap": null,
       "grid_row": null,
       "grid_template_areas": null,
       "grid_template_columns": null,
       "grid_template_rows": null,
       "height": null,
       "justify_content": null,
       "justify_items": null,
       "left": null,
       "margin": null,
       "max_height": null,
       "max_width": null,
       "min_height": null,
       "min_width": null,
       "object_fit": null,
       "object_position": null,
       "order": null,
       "overflow": null,
       "overflow_x": null,
       "overflow_y": null,
       "padding": null,
       "right": null,
       "top": null,
       "visibility": null,
       "width": null
      }
     },
     "d89c1d7f64414c51a6b239cbdbac3371": {
      "model_module": "@jupyter-widgets/base",
      "model_module_version": "1.2.0",
      "model_name": "LayoutModel",
      "state": {
       "_model_module": "@jupyter-widgets/base",
       "_model_module_version": "1.2.0",
       "_model_name": "LayoutModel",
       "_view_count": null,
       "_view_module": "@jupyter-widgets/base",
       "_view_module_version": "1.2.0",
       "_view_name": "LayoutView",
       "align_content": null,
       "align_items": null,
       "align_self": null,
       "border": null,
       "bottom": null,
       "display": null,
       "flex": null,
       "flex_flow": null,
       "grid_area": null,
       "grid_auto_columns": null,
       "grid_auto_flow": null,
       "grid_auto_rows": null,
       "grid_column": null,
       "grid_gap": null,
       "grid_row": null,
       "grid_template_areas": null,
       "grid_template_columns": null,
       "grid_template_rows": null,
       "height": null,
       "justify_content": null,
       "justify_items": null,
       "left": null,
       "margin": null,
       "max_height": null,
       "max_width": null,
       "min_height": null,
       "min_width": null,
       "object_fit": null,
       "object_position": null,
       "order": null,
       "overflow": null,
       "overflow_x": null,
       "overflow_y": null,
       "padding": null,
       "right": null,
       "top": null,
       "visibility": null,
       "width": null
      }
     },
     "e76b7bbfdb6b4fac80fdcafee96d786d": {
      "model_module": "@jupyter-widgets/base",
      "model_module_version": "1.2.0",
      "model_name": "LayoutModel",
      "state": {
       "_model_module": "@jupyter-widgets/base",
       "_model_module_version": "1.2.0",
       "_model_name": "LayoutModel",
       "_view_count": null,
       "_view_module": "@jupyter-widgets/base",
       "_view_module_version": "1.2.0",
       "_view_name": "LayoutView",
       "align_content": null,
       "align_items": null,
       "align_self": null,
       "border": null,
       "bottom": null,
       "display": null,
       "flex": null,
       "flex_flow": null,
       "grid_area": null,
       "grid_auto_columns": null,
       "grid_auto_flow": null,
       "grid_auto_rows": null,
       "grid_column": null,
       "grid_gap": null,
       "grid_row": null,
       "grid_template_areas": null,
       "grid_template_columns": null,
       "grid_template_rows": null,
       "height": null,
       "justify_content": null,
       "justify_items": null,
       "left": null,
       "margin": null,
       "max_height": null,
       "max_width": null,
       "min_height": null,
       "min_width": null,
       "object_fit": null,
       "object_position": null,
       "order": null,
       "overflow": null,
       "overflow_x": null,
       "overflow_y": null,
       "padding": null,
       "right": null,
       "top": null,
       "visibility": null,
       "width": null
      }
     },
     "efb51871cc5142a3867a02cdb8ea45cb": {
      "model_module": "@jupyter-widgets/base",
      "model_module_version": "1.2.0",
      "model_name": "LayoutModel",
      "state": {
       "_model_module": "@jupyter-widgets/base",
       "_model_module_version": "1.2.0",
       "_model_name": "LayoutModel",
       "_view_count": null,
       "_view_module": "@jupyter-widgets/base",
       "_view_module_version": "1.2.0",
       "_view_name": "LayoutView",
       "align_content": null,
       "align_items": null,
       "align_self": null,
       "border": null,
       "bottom": null,
       "display": null,
       "flex": null,
       "flex_flow": null,
       "grid_area": null,
       "grid_auto_columns": null,
       "grid_auto_flow": null,
       "grid_auto_rows": null,
       "grid_column": null,
       "grid_gap": null,
       "grid_row": null,
       "grid_template_areas": null,
       "grid_template_columns": null,
       "grid_template_rows": null,
       "height": null,
       "justify_content": null,
       "justify_items": null,
       "left": null,
       "margin": null,
       "max_height": null,
       "max_width": null,
       "min_height": null,
       "min_width": null,
       "object_fit": null,
       "object_position": null,
       "order": null,
       "overflow": null,
       "overflow_x": null,
       "overflow_y": null,
       "padding": null,
       "right": null,
       "top": null,
       "visibility": null,
       "width": null
      }
     },
     "f00e987be5044a6dac90b69bb1a7e2ff": {
      "model_module": "@jupyter-widgets/controls",
      "model_module_version": "1.5.0",
      "model_name": "HBoxModel",
      "state": {
       "_dom_classes": [],
       "_model_module": "@jupyter-widgets/controls",
       "_model_module_version": "1.5.0",
       "_model_name": "HBoxModel",
       "_view_count": null,
       "_view_module": "@jupyter-widgets/controls",
       "_view_module_version": "1.5.0",
       "_view_name": "HBoxView",
       "box_style": "",
       "children": [
        "IPY_MODEL_87c0b109226941519ee7841c5dafcad4",
        "IPY_MODEL_d5b2d63c29184477bb0be3c8fb70e283",
        "IPY_MODEL_8f5ec5258b8f4b809d8c6726f533d660"
       ],
       "layout": "IPY_MODEL_d89c1d7f64414c51a6b239cbdbac3371"
      }
     },
     "f30675c4cdcf417fae0eb79d5cf0affc": {
      "model_module": "@jupyter-widgets/controls",
      "model_module_version": "1.5.0",
      "model_name": "DescriptionStyleModel",
      "state": {
       "_model_module": "@jupyter-widgets/controls",
       "_model_module_version": "1.5.0",
       "_model_name": "DescriptionStyleModel",
       "_view_count": null,
       "_view_module": "@jupyter-widgets/base",
       "_view_module_version": "1.2.0",
       "_view_name": "StyleView",
       "description_width": ""
      }
     },
     "f478d9ce24ba409e932e0308d6f08c04": {
      "model_module": "@jupyter-widgets/controls",
      "model_module_version": "1.5.0",
      "model_name": "FloatProgressModel",
      "state": {
       "_dom_classes": [],
       "_model_module": "@jupyter-widgets/controls",
       "_model_module_version": "1.5.0",
       "_model_name": "FloatProgressModel",
       "_view_count": null,
       "_view_module": "@jupyter-widgets/controls",
       "_view_module_version": "1.5.0",
       "_view_name": "ProgressView",
       "bar_style": "success",
       "description": "",
       "description_tooltip": null,
       "layout": "IPY_MODEL_c9e4343a728d414496d8f83a6e6d8282",
       "max": 698845,
       "min": 0,
       "orientation": "horizontal",
       "style": "IPY_MODEL_c646417a0ac34df4b5d296124860728a",
       "value": 698845
      }
     },
     "fe658151f68a49158625ac624915d218": {
      "model_module": "@jupyter-widgets/controls",
      "model_module_version": "1.5.0",
      "model_name": "HBoxModel",
      "state": {
       "_dom_classes": [],
       "_model_module": "@jupyter-widgets/controls",
       "_model_module_version": "1.5.0",
       "_model_name": "HBoxModel",
       "_view_count": null,
       "_view_module": "@jupyter-widgets/controls",
       "_view_module_version": "1.5.0",
       "_view_name": "HBoxView",
       "box_style": "",
       "children": [
        "IPY_MODEL_c43500782ee24f468b225ce660051af7",
        "IPY_MODEL_882d4a8b4091404abdf18e4c2f50c301",
        "IPY_MODEL_183ce4f173234812b062082ea3d3018a"
       ],
       "layout": "IPY_MODEL_e76b7bbfdb6b4fac80fdcafee96d786d"
      }
     }
    },
    "version_major": 2,
    "version_minor": 0
   }
  }
 },
 "nbformat": 4,
 "nbformat_minor": 5
}
